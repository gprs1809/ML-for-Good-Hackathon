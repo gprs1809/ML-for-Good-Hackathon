{
  "nbformat": 4,
  "nbformat_minor": 0,
  "metadata": {
    "colab": {
      "name": "ML_for_good_2.ipynb",
      "provenance": [],
      "collapsed_sections": [],
      "authorship_tag": "ABX9TyPPh56jfwOCD8qbh35RFWKy"
    },
    "kernelspec": {
      "name": "python3",
      "display_name": "Python 3"
    },
    "language_info": {
      "name": "python"
    }
  },
  "cells": [
    {
      "cell_type": "code",
      "metadata": {
        "colab": {
          "base_uri": "https://localhost:8080/"
        },
        "id": "XCRFOkWaJVaI",
        "outputId": "defd2068-6a2c-4e1d-b25b-000d6265ce47"
      },
      "source": [
        "!git clone https://github.com/gprs1809/ML-for-Good-Hackathon.git"
      ],
      "execution_count": null,
      "outputs": [
        {
          "output_type": "stream",
          "name": "stdout",
          "text": [
            "Cloning into 'ML-for-Good-Hackathon'...\n",
            "remote: Enumerating objects: 62, done.\u001b[K\n",
            "remote: Counting objects: 100% (62/62), done.\u001b[K\n",
            "remote: Compressing objects: 100% (60/60), done.\u001b[K\n",
            "remote: Total 62 (delta 10), reused 0 (delta 0), pack-reused 0\u001b[K\n",
            "Unpacking objects: 100% (62/62), done.\n"
          ]
        }
      ]
    },
    {
      "cell_type": "code",
      "metadata": {
        "colab": {
          "base_uri": "https://localhost:8080/"
        },
        "id": "HYj-v7yqJctH",
        "outputId": "f842c3f8-7f0f-4bfc-c227-4e7421047adc"
      },
      "source": [
        "!pip install textract"
      ],
      "execution_count": null,
      "outputs": [
        {
          "output_type": "stream",
          "name": "stdout",
          "text": [
            "Requirement already satisfied: textract in /usr/local/lib/python3.7/dist-packages (1.6.4)\n",
            "Requirement already satisfied: chardet==3.* in /usr/local/lib/python3.7/dist-packages (from textract) (3.0.4)\n",
            "Requirement already satisfied: beautifulsoup4~=4.8.0 in /usr/local/lib/python3.7/dist-packages (from textract) (4.8.2)\n",
            "Requirement already satisfied: EbookLib==0.* in /usr/local/lib/python3.7/dist-packages (from textract) (0.17.1)\n",
            "Requirement already satisfied: argcomplete~=1.10.0 in /usr/local/lib/python3.7/dist-packages (from textract) (1.10.3)\n",
            "Requirement already satisfied: pdfminer.six==20191110 in /usr/local/lib/python3.7/dist-packages (from textract) (20191110)\n",
            "Requirement already satisfied: python-pptx~=0.6.18 in /usr/local/lib/python3.7/dist-packages (from textract) (0.6.21)\n",
            "Requirement already satisfied: SpeechRecognition~=3.8.1 in /usr/local/lib/python3.7/dist-packages (from textract) (3.8.1)\n",
            "Requirement already satisfied: extract-msg<=0.29.* in /usr/local/lib/python3.7/dist-packages (from textract) (0.28.7)\n",
            "Requirement already satisfied: docx2txt~=0.8 in /usr/local/lib/python3.7/dist-packages (from textract) (0.8)\n",
            "Requirement already satisfied: six~=1.12.0 in /usr/local/lib/python3.7/dist-packages (from textract) (1.12.0)\n",
            "Requirement already satisfied: xlrd~=1.2.0 in /usr/local/lib/python3.7/dist-packages (from textract) (1.2.0)\n",
            "Requirement already satisfied: lxml in /usr/local/lib/python3.7/dist-packages (from EbookLib==0.*->textract) (4.2.6)\n",
            "Requirement already satisfied: pycryptodome in /usr/local/lib/python3.7/dist-packages (from pdfminer.six==20191110->textract) (3.11.0)\n",
            "Requirement already satisfied: sortedcontainers in /usr/local/lib/python3.7/dist-packages (from pdfminer.six==20191110->textract) (2.4.0)\n",
            "Requirement already satisfied: soupsieve>=1.2 in /usr/local/lib/python3.7/dist-packages (from beautifulsoup4~=4.8.0->textract) (2.3.1)\n",
            "Requirement already satisfied: tzlocal>=2.1 in /usr/local/lib/python3.7/dist-packages (from extract-msg<=0.29.*->textract) (4.1)\n",
            "Requirement already satisfied: compressed-rtf>=1.0.6 in /usr/local/lib/python3.7/dist-packages (from extract-msg<=0.29.*->textract) (1.0.6)\n",
            "Requirement already satisfied: ebcdic>=1.1.1 in /usr/local/lib/python3.7/dist-packages (from extract-msg<=0.29.*->textract) (1.1.1)\n",
            "Requirement already satisfied: imapclient==2.1.0 in /usr/local/lib/python3.7/dist-packages (from extract-msg<=0.29.*->textract) (2.1.0)\n",
            "Requirement already satisfied: olefile>=0.46 in /usr/local/lib/python3.7/dist-packages (from extract-msg<=0.29.*->textract) (0.46)\n",
            "Requirement already satisfied: Pillow>=3.3.2 in /usr/local/lib/python3.7/dist-packages (from python-pptx~=0.6.18->textract) (7.1.2)\n",
            "Requirement already satisfied: XlsxWriter>=0.5.7 in /usr/local/lib/python3.7/dist-packages (from python-pptx~=0.6.18->textract) (3.0.2)\n",
            "Requirement already satisfied: pytz-deprecation-shim in /usr/local/lib/python3.7/dist-packages (from tzlocal>=2.1->extract-msg<=0.29.*->textract) (0.1.0.post0)\n",
            "Requirement already satisfied: backports.zoneinfo in /usr/local/lib/python3.7/dist-packages (from tzlocal>=2.1->extract-msg<=0.29.*->textract) (0.2.1)\n",
            "Requirement already satisfied: tzdata in /usr/local/lib/python3.7/dist-packages (from pytz-deprecation-shim->tzlocal>=2.1->extract-msg<=0.29.*->textract) (2021.5)\n"
          ]
        }
      ]
    },
    {
      "cell_type": "code",
      "metadata": {
        "colab": {
          "base_uri": "https://localhost:8080/"
        },
        "id": "2ZLjONxmgOUd",
        "outputId": "d752e5ef-9bf8-4f94-8f92-3664cb813620"
      },
      "source": [
        "!pip install rake-nltk"
      ],
      "execution_count": null,
      "outputs": [
        {
          "output_type": "stream",
          "name": "stdout",
          "text": [
            "Collecting rake-nltk\n",
            "  Downloading rake_nltk-1.0.6-py3-none-any.whl (9.1 kB)\n",
            "Collecting nltk<4.0.0,>=3.6.2\n",
            "  Downloading nltk-3.6.5-py3-none-any.whl (1.5 MB)\n",
            "\u001b[K     |████████████████████████████████| 1.5 MB 5.2 MB/s \n",
            "\u001b[?25hRequirement already satisfied: click in /usr/local/lib/python3.7/dist-packages (from nltk<4.0.0,>=3.6.2->rake-nltk) (7.1.2)\n",
            "Requirement already satisfied: tqdm in /usr/local/lib/python3.7/dist-packages (from nltk<4.0.0,>=3.6.2->rake-nltk) (4.62.3)\n",
            "Collecting regex>=2021.8.3\n",
            "  Downloading regex-2021.11.10-cp37-cp37m-manylinux_2_17_x86_64.manylinux2014_x86_64.whl (749 kB)\n",
            "\u001b[K     |████████████████████████████████| 749 kB 69.2 MB/s \n",
            "\u001b[?25hRequirement already satisfied: joblib in /usr/local/lib/python3.7/dist-packages (from nltk<4.0.0,>=3.6.2->rake-nltk) (1.1.0)\n",
            "Installing collected packages: regex, nltk, rake-nltk\n",
            "  Attempting uninstall: regex\n",
            "    Found existing installation: regex 2019.12.20\n",
            "    Uninstalling regex-2019.12.20:\n",
            "      Successfully uninstalled regex-2019.12.20\n",
            "  Attempting uninstall: nltk\n",
            "    Found existing installation: nltk 3.2.5\n",
            "    Uninstalling nltk-3.2.5:\n",
            "      Successfully uninstalled nltk-3.2.5\n",
            "Successfully installed nltk-3.6.5 rake-nltk-1.0.6 regex-2021.11.10\n"
          ]
        }
      ]
    },
    {
      "cell_type": "code",
      "metadata": {
        "colab": {
          "base_uri": "https://localhost:8080/"
        },
        "id": "CkPoASwSJfwr",
        "outputId": "78593fd5-12a4-49e0-ac16-d7c1d7a8311f"
      },
      "source": [
        "import pandas as pd\n",
        "import os\n",
        "import textract\n",
        "import re\n",
        "import gensim\n",
        "from gensim.summarization.summarizer import summarize\n",
        "from gensim.summarization import keywords\n",
        "from rake_nltk import Rake\n",
        "import nltk\n",
        "nltk.download('stopwords')\n",
        "nltk.download('punkt')"
      ],
      "execution_count": null,
      "outputs": [
        {
          "output_type": "stream",
          "name": "stderr",
          "text": [
            "[nltk_data] Downloading package stopwords to /root/nltk_data...\n",
            "[nltk_data]   Package stopwords is already up-to-date!\n",
            "[nltk_data] Downloading package punkt to /root/nltk_data...\n",
            "[nltk_data]   Package punkt is already up-to-date!\n"
          ]
        },
        {
          "output_type": "execute_result",
          "data": {
            "text/plain": [
              "True"
            ]
          },
          "metadata": {},
          "execution_count": 83
        }
      ]
    },
    {
      "cell_type": "code",
      "metadata": {
        "colab": {
          "base_uri": "https://localhost:8080/"
        },
        "id": "2BZbH21vJmaV",
        "outputId": "144a1f3b-cd78-4a6c-ad6b-68102823f942"
      },
      "source": [
        "for a,b,c in os.walk('/content/ML-for-Good-Hackathon/Data'):\n",
        "  print(a,b,c)"
      ],
      "execution_count": null,
      "outputs": [
        {
          "output_type": "stream",
          "name": "stdout",
          "text": [
            "/content/ML-for-Good-Hackathon/Data ['ProlificAcademic', 'CrisisLogger', 'FocusGroups'] []\n",
            "/content/ML-for-Good-Hackathon/Data/ProlificAcademic ['April 2021', 'April 2020', 'November 2020', 'May 2020'] ['_CRISIS_Data_Release_1.0.docx']\n",
            "/content/ML-for-Good-Hackathon/Data/ProlificAcademic/April 2021 ['Data', 'Dictionaries'] []\n",
            "/content/ML-for-Good-Hackathon/Data/ProlificAcademic/April 2021/Data [] ['CRISIS_Parent_April_2021.csv', 'CRISIS_Adult_April_2021.csv']\n",
            "/content/ML-for-Good-Hackathon/Data/ProlificAcademic/April 2021/Dictionaries [] ['CRISISPAAdultApril2021_DataDictionary_2021-11-01.csv', 'CRISISPAParentApril2021_DataDictionary_2021-11-01.csv']\n",
            "/content/ML-for-Good-Hackathon/Data/ProlificAcademic/April 2020 ['Data', 'Dictionaries'] []\n",
            "/content/ML-for-Good-Hackathon/Data/ProlificAcademic/April 2020/Data [] ['CRISIS_Parent_April_2020.csv', 'CRISIS_Adult_April_2020.csv']\n",
            "/content/ML-for-Good-Hackathon/Data/ProlificAcademic/April 2020/Dictionaries [] ['CRISIS_April_Recoded_Variables_Dictionary.xlsx', 'CRISIS_Adult_April_Dictionary.csv', 'CRISIS_Parent_April_Dictionary.csv']\n",
            "/content/ML-for-Good-Hackathon/Data/ProlificAcademic/November 2020 ['Data', 'Dictionaries'] []\n",
            "/content/ML-for-Good-Hackathon/Data/ProlificAcademic/November 2020/Data [] ['CRISIS_Parent_November_2020.csv', 'CRISIS_Adult_November_2020.csv']\n",
            "/content/ML-for-Good-Hackathon/Data/ProlificAcademic/November 2020/Dictionaries [] ['CRISIS_Parent_November_Dictionary.csv', 'CRISIS_Adult_November_Dictionary.csv']\n",
            "/content/ML-for-Good-Hackathon/Data/ProlificAcademic/May 2020 ['Data', 'Dictionaries'] []\n",
            "/content/ML-for-Good-Hackathon/Data/ProlificAcademic/May 2020/Data [] ['CRISIS_Parent_May_2020.csv', 'CRISIS_Adult_May_2020.csv']\n",
            "/content/ML-for-Good-Hackathon/Data/ProlificAcademic/May 2020/Dictionaries [] ['CRISIS_Parent_May_Data_Dictionary.csv', 'CRISIS_Adult_May_Data_Dictionary.csv']\n",
            "/content/ML-for-Good-Hackathon/Data/CrisisLogger [] ['crisislogger.csv']\n",
            "/content/ML-for-Good-Hackathon/Data/FocusGroups [] ['Media_Group2.docx', 'Gaming_Group2.docx', 'Media_Group3.docx', 'Gaming_Group1.docx', 'Social_Group1.docx', 'Social_Group3.docx', 'Social_Group4.docx', 'Gaming_Group3.docx', 'Gaming_Group4.docx', 'Media_Group4.docx', 'Media_Group1.docx', 'LowPIU_Group2.docx', 'LowPIU_Group1.docx', 'LowPIU_Group3.docx', 'Social_Group2.docx']\n"
          ]
        }
      ]
    },
    {
      "cell_type": "code",
      "metadata": {
        "id": "gn2_jnAqJxgW"
      },
      "source": [
        "#function for preprocessing of word documents comprising of dialogues between Moderators, Parents and Administrator\n",
        "def doc_preprocessing(path):\n",
        "  text = textract.process(path)\n",
        "  text = text.decode('utf-8')\n",
        "  text =text.replace('\\n',\"\")\n",
        "  text = text.replace('\\t',\"\")\n",
        "  text = text.replace('(silence)',\"\")\n",
        "  text = text.replace('. ','.')\n",
        "  split_sent=re.split(r'[?.]', text)\n",
        "  split_sent = list(filter(('').__ne__, split_sent))\n",
        "  dial_characters = ('Administrator','Moderator','Parent','Speaker',' Administrator',' Moderator',' Parent',' Speaker')\n",
        "  dial_start=[ind for ind,l in enumerate(split_sent) if l.startswith(dial_characters)]\n",
        "  list_of_dial = []\n",
        "  for i in range(len(dial_start)-1):\n",
        "    list_of_dial.append('.'.join(split_sent[dial_start[i]:dial_start[i+1]]))\n",
        "  list_of_Parent_dial = [sent for sent in list_of_dial if sent.startswith('Parent')]\n",
        "  num_ind = [sent.split(\" \")[1].split(':')[0] for sent in list_of_Parent_dial]\n",
        "  parent_num = list(set([int(word) for sent in num_ind for word in sent.split() if word.isdigit()]))\n",
        "  all_dial_comb = []\n",
        "  for i in parent_num:\n",
        "        all_dial_comb.append('.'.join([sent for sent in list_of_Parent_dial if sent.startswith(('Parent '+str(i)+':',' Parent '+str(i)+':'))]))\n",
        "  all_d_comb_n=[]\n",
        "  for i in range(len(all_dial_comb)):\n",
        "    all_d_comb_n.append(all_dial_comb[i].replace('Parent '+str(i+1)+\":\",\"\").replace(' Parent '+str(i+1)+\":\",\"\"))\n",
        "  dial_dict = dict(zip(['Parent '+str(i) for i in parent_num],all_d_comb_n))\n",
        "  return dial_dict"
      ],
      "execution_count": null,
      "outputs": []
    },
    {
      "cell_type": "code",
      "metadata": {
        "id": "8Z5QcA5obU7W"
      },
      "source": [
        "# we can draw insights from the extracted summaries of dialogues. Either this could be our result or we can work on these summaries further\n",
        "#for say, sentiment analysis or clustering.\n",
        "def extractive_text_summarization(path):\n",
        "  imp_dial_parents = doc_preprocessing(path)\n",
        "  # Summary (0.5% of the original content).\n",
        "  summ_per = [summarize(dialogue.replace(\".\",\". \"), ratio = 0.1) for dialogue in list(imp_dial_parents.values())]\n",
        "  # Summary (200 words)\n",
        "  summ_words = [summarize(dialogue.replace(\".\",\". \"), word_count = 200) for dialogue in list(imp_dial_parents.values())]\n",
        "  keys = list(imp_dial_parents.keys())\n",
        "  summ_per = dict(zip(keys,summ_per))\n",
        "  summ_words = dict(zip(keys,summ_words))\n",
        "  r = Rake()\n",
        "  key_ph_list = []\n",
        "  for i in range(len(keys)):\n",
        "    r.extract_keywords_from_text(list(imp_dial_parents.values())[i])\n",
        "    key_ph_list.append(r.get_ranked_phrases()[:30])\n",
        "  key_phrases = dict(zip(keys,key_ph_list))\n",
        "  return summ_per, summ_words, key_phrases"
      ],
      "execution_count": 106,
      "outputs": []
    },
    {
      "cell_type": "code",
      "metadata": {
        "id": "9714EnRnLZVN"
      },
      "source": [
        "list_of_docs = ['./ML-for-Good-Hackathon/Data/FocusGroups/'+file for file in os.listdir('./ML-for-Good-Hackathon/Data/FocusGroups')]"
      ],
      "execution_count": 107,
      "outputs": []
    },
    {
      "cell_type": "code",
      "metadata": {
        "colab": {
          "base_uri": "https://localhost:8080/"
        },
        "id": "5VWxdjpKLyFP",
        "outputId": "4b9ef9cb-f42a-401c-b176-99025126092c"
      },
      "source": [
        "list_of_docs"
      ],
      "execution_count": 108,
      "outputs": [
        {
          "output_type": "execute_result",
          "data": {
            "text/plain": [
              "['./ML-for-Good-Hackathon/Data/FocusGroups/Media_Group2.docx',\n",
              " './ML-for-Good-Hackathon/Data/FocusGroups/Gaming_Group2.docx',\n",
              " './ML-for-Good-Hackathon/Data/FocusGroups/Media_Group3.docx',\n",
              " './ML-for-Good-Hackathon/Data/FocusGroups/Gaming_Group1.docx',\n",
              " './ML-for-Good-Hackathon/Data/FocusGroups/Social_Group1.docx',\n",
              " './ML-for-Good-Hackathon/Data/FocusGroups/Social_Group3.docx',\n",
              " './ML-for-Good-Hackathon/Data/FocusGroups/Social_Group4.docx',\n",
              " './ML-for-Good-Hackathon/Data/FocusGroups/Gaming_Group3.docx',\n",
              " './ML-for-Good-Hackathon/Data/FocusGroups/Gaming_Group4.docx',\n",
              " './ML-for-Good-Hackathon/Data/FocusGroups/Media_Group4.docx',\n",
              " './ML-for-Good-Hackathon/Data/FocusGroups/Media_Group1.docx',\n",
              " './ML-for-Good-Hackathon/Data/FocusGroups/LowPIU_Group2.docx',\n",
              " './ML-for-Good-Hackathon/Data/FocusGroups/LowPIU_Group1.docx',\n",
              " './ML-for-Good-Hackathon/Data/FocusGroups/LowPIU_Group3.docx',\n",
              " './ML-for-Good-Hackathon/Data/FocusGroups/Social_Group2.docx']"
            ]
          },
          "metadata": {},
          "execution_count": 108
        }
      ]
    },
    {
      "cell_type": "code",
      "metadata": {
        "colab": {
          "base_uri": "https://localhost:8080/"
        },
        "id": "DONjvSzfLzvN",
        "outputId": "b292b380-733b-488f-b926-17ef08645989"
      },
      "source": [
        "doc_preprocessing(list_of_docs[3])"
      ],
      "execution_count": 109,
      "outputs": [
        {
          "output_type": "execute_result",
          "data": {
            "text/plain": [
              "{'Parent 1': 'Hi.Hi everyone.My name is Parent 1, I have two boys, a 8-year-old and almost 3-year-old.I think the most recent show that I personally watched with no children around was Schitt\\'s Creek, which was amazing and helped me get through all these difficult times lately.I was a little bit late to the party, I started watching it maybe a month or two ago, but I could not stop.Even if the work hours were late, I had to make sure I\\'ll catch an episode before I go sleep.With the kids, well with the older kid, I think a few months ago we watched Floor Is Lava on Netflix, which was fun to watch as a family.Besides that, I think my son watches lots of Marvel type things with my husband, which I don\\'t participate in.Yeah, so I have a similar experience with my eight-year-old.Pre-pandemic he was still in second grade so the use of computers was very limited.Maybe once a week he would type, words of the week was one of the options I picked to do.That was his only interaction with computer.Of course he had devices to play on, and he would go to his father\\'s house every other weekend and he would be more exposed there to computers.But still he was busy.He was busy during the week, there was school, there was getting to school, getting from school, that\\'s a trip in itself.There was hockey, we had TaeKwonDo, he was very busy.Even then it didn\\'t seem like enough, it didn\\'t seem like we were doing enough but he was certainly a lot busier than now.And he did get to play, mostly probably on the weekends, and again, weekends were also pretty packed.So I don\\'t know how he had time, but he did play, not a lot.And of course we were able to control it, it was an item you had to earn and if you didn\\'t do well then you don\\'t get to play.So it was a tool we could use as incentive during the week.So now that\\'s all out the window, it\\'s all available right there all day long.And getting him away from the computer now is a project in itself every day.I can say for my eight-year-old, because again, we went from not really knowing how to use a computer or how to type, to transition really smoothly, I mean if you can call that a benefit, we transitioned really quickly.He was typing away, quickly was able to navigate where to go to sign into a Google classroom.So, that was impressive in the beginning, how quickly they were able to adapt to that.So yes.I\\'m sorry, can you repeat the question.Right, exactly, it seems beneficial because it is an important part of your life as you grow older in high school clearly, and in middle school as Parent 4 said, there\\'s some use of computer.So at first it seemed like a good thing, and I\\'m sure it is a good thing, it\\'s just, like I said, it\\'s just become overwhelming use of technology because they sit in front of it all day.And another thing, this use of YouTube, because I understand teachers post some things that you can look up on YouTube, so you can\\'t block YouTube because it\\'ll be used as a tool for one of those classes they have.But YouTube is just this bottomless hole of.I can\\'t even begin, it\\'s just so bad.And transition from looking at your Google classroom or your Google meet and here\\'s YouTube, it\\'s just so easy.And we were not always there, we still have jobs and other things to do, can\\'t just sit on top of them.So this accessibility of technology that has this type of content, like YouTube, that\\'s not beneficial for kids, that\\'s been problematic, to say the least.I can just-Moderator 1:Yeah.So my son, Google Classroom, it was not a good experience because he would not put his camera on, he would just hide behind his camera.He would not participate.He did not reach out in the G chat message or whatever.So that part has not been working out for us very well.However, someone had an idea that I overheard, and so I found a tutor, just another teacher from another school who does tutoring.And so the ability to have tutoring at your fingertips without having to commute or travel, or go and wait and sit there in the car has been.And not just that, but the ability to one on one connects like this.So the one teacher, who is.and not in a very formal way like his teacher, in a less formal way.So that\\'s been amazing.So the feedback that I get from his two tutors that he has.And we haven\\'t been doing it for a long time, maybe a month or so, maybe over a month, has been been great.Overall very positive.So I\\'m very happy because he did need help in ELA and math and was complete lack of participation in his Google Classroom.I didn\\'t even know what he knew and what he learned any more this past year.So the one on one ability without having to go anywhere, get dressed, drive, so that was a great deal and I hope that will stay.And I hope it will stay because, why not. There\\'s a demand and there\\'s a supply, I think that would be one good takeaway, some remote learning options.I can go next.As I mentioned, we did not play a lot, certainly some of these video that involve multiplayer or whatever, when they have to chat with each other and they can do it together.We didn\\'t have any exposure to that.I can\\'t again, he was seven years old, he\\'s eight now, so maybe it was just a little early.But this year it just blossomed, if it\\'s the right word, he\\'s playing a lot.I think some of it, again, may be my fault because it\\'s a good babysitter.If you\\'re trying to get through your work, we all have jobs, demanding jobs, it\\'s easier to.instead of just standing there trying to control his gaming, you\\'re just, \"Okay, he\\'s busy and I\\'m going to get my work done.\" So I think it lasted for a while and I think I just kind of gave into that convenience.Just because it truly.I also had to get my job done.Do you know.So I think I gave into that and I just kind of let it go until I realized it\\'s 12:00 and just out of control, so I decided to regain some control successfully.I was able to separate his computer from gaming computer.So that works out, so far so good.I limited it, so he plays a little bit less.But in terms of positive, I also would echo what Parent 4 said, that he was able to connect a little bit more with his friends.And again, as I mentioned, he does have issues with social life, he has trouble making friends and doesn\\'t use appropriate language with friends so sometimes they don\\'t want to be friends with him, those type of things.While they play all these video games and they\\'re pursuing the same goal, whatever that goal is in a game, and he was able to connect with them and speak to them, something we may not even have had, had we not been sitting at home without being able to [inaudible 00:53:56].Yes.Thank you.Thanks everyone',\n",
              " 'Parent 2': 'Good afternoon.Oh, me.Oh, I\\'m sorry.I lost connection, I couldn\\'t hear anyone.My name is Parent 2, I have a 17-year-old, he\\'s actually my step-son and I have two 10-year-old boys and I have a 3-year-old girl.What shows have I been watching.I\\'ve been watching a few things, but most recently I\\'ve been binge watching 9-1-1, it\\'s a drama about 911 operators and I guess the LAFD and LAPD, and all the things that they go through.I can\\'t say why would I want to watch that, I don\\'t know, especially during these times.I have no idea why I watch, but it\\'s just interesting and I learn things from watching it.But yeah, and then with my children, they\\'ve been watching Fresh Prince of Bel-Air, I don\\'t know if anyone\\'s familiar with that-Moderator 1:Oh, of course, that\\'s why I bet people are still watching that.[crosstalk 00:12:42] series.Yes.My 10-year-olds, they love it.A certain time of the day, we all as a family will watch it.We actually finished that and now they\\'re watching a show called Fresh Off the Boat.It\\'s a newer show on ABC.Yeah, so those are the things we\\'ve been watching.Thank you.Oh, I thought you seen my hand, I know it was an option to raise your hand, but the negative.You said before the pandemic.Prior, okay so are you calling on anyone specific or can we just answer.Oh okay.Well, they didn\\'t use it as much.I mean, the teachers would assign some reading or math assignments on I ready and from time to time some homework.But yeah, that was about it.I would monitor how much time they were on Roblox and other things to entertain themselves, but it was easier control them back then because they didn\\'t have to go on as much.I mean, that\\'s what it was.I\\'m sorry.My sons, they actually go to school five days out of the week.Initially we were blended and I had the same issues, the same issues with just constantly on YouTube, and constantly playing Roblox.When they were supposed to do their work I would go in and I would see them clicking out of the YouTube window.We received two laptops from the DOE as well, but before it was kind of limited because we had a desktop and we had a laptop.So before they had to take turns going on the computer if they were allowed to.They went on the computer but it was mainly on the weekends because they did play Roblox but not as often.But after everything shut down I didn\\'t have much entertainment to do besides television or talking with your friends or Roblox or Discord or whatever.Yeah, it just consumed a lot of their time.My daughter, who is three, I couldn\\'t send her to the babysitter anymore, so she was home with me while I was working from home so I would have to force her to look at YouTube too, or watch the television.So I kind of really felt bad because I had to do that so I try to always turn on something educational, like Sesame Street.But then she started telling me what she wanted to watch after a while, Nick Jr.or Netflix, so that became a problem.But even after my son started going back to school five days out of the week it still became a problem, technology, because right after they do their homework they will go on YouTube or they go on Roblox or something.I don\\'t know what they\\'re doing in the back.I have to tell them to go in the back because when they come home from school I still have to work so it still became a problem even though they\\'re back in school five days out of the week.So yeah, and they still have some assignments on the computer, like homework assignments on the computer.Yeah, even if they go back to school I feel like it still would be a problem if you\\'re having issues now with them remotely.So yeah, that\\'s my experience.The only thing I probably would miss about using technology is the communication with the schools and the teachers.It was easier to communicate–Moderator 1:You feel like that\\'s improved.Yes, having direct contact with the teachers and the schools ,instead of the school sending a bunch of print outs with the children in folders, that became overwhelming, all the paper.The teachers, they were able to reach out to me immediately.I mean, not that they weren\\'t doing that before, but I think it became easier to do because it just became that platform that everyone was using.I believe my school, they use Class Dojo as a way to communicate.I think the platform that they used for the students in the school work was iLearn and I didn\\'t really like it so I\\'m kind of glad.I mean, now that they\\'re going to school five days a week they don\\'t need to use that.I think only the children who are remote use it, but I didn\\'t really like it, it wasn\\'t intuitive and I wasn\\'t able to view the assignments, both of their assignments to make sure that they did it.And then some things they were able to do online, but somethings they had to print out, so it was kind of all over the place.So yeah, the only thing I would appreciate that they continue doing is using it as a way to communicate with the parents, that\\'s all.Well, for me the gaming, I was able to control it a little more before the pandemic, but now I noticed that it\\'s starting getting out of control.Once I noticed that they were sneaking to go on Roblox and YouTube instead of doing their work.And then once I seen that it was.I would say it was just affecting their attention and they weren\\'t focused so when I would punish them and say, \"Well, now you can\\'t go on Roblox,\" they would get really upset, they would cry.It was like it was the end of the world for them.I think at one point I changed their password so they can\\'t logon unless I log on for them.But they learned that if they never log off, if they were to just leave it, they can just open the page back up.So I didn\\'t realize that that was happening.I\\'m like, \"Wait, how are you on Roblox. Oh, you never logged off.\" So on Sunday evenings I have to make sure I\\'ve logged them off.Because I would let them play after they did their work, but they weren\\'t really doing that great in school so then I just said no more Roblox during the week.Yeah, so I try to control it but it\\'s still hard because then they still have YouTube that they watch and it\\'s just.But I guess one positive outcome is the fact that they were communicating with their friends, with their cousin who lives far away, or whatever.They have a better social life.Because before they wouldn\\'t talk to anybody but now they communicate, they keep in touch.But now it\\'s just regaining the control back and getting them to understand that there\\'s a time and place for everything and you shouldn\\'t allow these things to consume your time.It\\'s frustrating for me after a while.I\\'m like, \"Wait, you guys have been on the computer all day.No.You guys, no, it\\'s time to give this a break.\" Then they\\'ll get upset and it\\'s an argument.So yeah, that\\'s it for me.Bye',\n",
              " 'Parent 3': 'Hi everybody.My name is Parent 3 and I have an 11-year-old daughter and an 8-year-old son.We don\\'t watch television together at all, it\\'s just for me.They Roblox with their friends and that\\'s all they do.I\\'ve watched a couple of foreign things my friends have recommended, but I\\'d love to recommend a series, it\\'s long but it\\'s amazing, it\\'s called Orphan Black.It\\'s been around for a little while, it\\'s produced by the BBC.It\\'s sci-if and it\\'s about cloning.It has five seasons.It\\'s a real deep dive, but it\\'s incredible and now it just won an Emmy.So I\\'ll say Orphan Black, it\\'s really great.Yeah, you won\\'t be-Moderator 1:Thank you.I would say the same thing.My daughter was in fifth grade, we would have a couple in Newsela projects, half an hour of homework.But we were in the playground, neighborhood friends, after school projects, after school swimming.A little bit of tablet on the weekends, but there was no internet access and there was no YouTube in my life, there was no Roblox, there was no gaming.So, a very different world.Sure, when lock down happened my then first grader, the school did a great job pivoting to remote quite quickly.They used seesaw as a platform.I did get two laptops from the DOE because we have a lot of tech but it\\'s all very old and kind of fragile and I\\'m like, they\\'re going to wreck it all.Nothings insured.We\\'re self-employed and I could just see the whole business being wiped out so we did take a DOE iPads which was a lifesaver.But also, again, we got to one point where the computer teacher did that YouTube.We were not on the YouTube and she sent one link and they figured out, \"Oh, I can get to YouTube from this link.\"And then it was like a bomb went off, they figured it out, they figured out workarounds and it was like Pandora\\'s box.I was trying to figure out how to block.I was on the phone with the DOE, I was on the phone with a parent coordinator, I was calling the principal, like, \"How can I block YouTube without.\" I was putting timer things, it was driving me crazy, and it was downhill from there.I finally figured out my son, by banging on it so much he\\'s actually broken the screen so whatever controls I put in, he could bang on it and it would just do whatever he wanted.A month later I exchange the iPad but I nearly ripped my own hair out over this YouTube.Yeah, the addiction sunk in over those first five months of lockdown of screens and YouTube and just that misery sucking.The Google Classrooms, since my daughter has very little executive functioning, she has social anxiety and ADHD, just being able to use the chat function since she\\'ll never raise her hand and she\\'ll never ask for help.Using Google Classroom to directly reach out to the teacher and use the chat function has been fantastic.And then when she goes in blended she has more direct contact with the teacher.She goes in twice or three times a week with her cohort.So I like the Google Classroom set up for her as a sixth grader.Also, the smaller cohorts have been great.It\\'s going to be, just to answer the other question, odd when it goes back to 32 kids.But I love that she can send a quick message, she gets a quick response back, and so that communication has really helped her a lot as an introvert and having those issues.Okay, with gaming, very similar to everybody here.It was a little bit of a problem the summer before.We go up north, up to Maine where my mom grew up, and if you turn on the TV the first two channels are French.So I said, \"Sorry, the TV speaks French.\" And that\\'s it, it\\'s never gone further than that.So I\\'ve managed up to this point to keep them off.We\\'ve got an old VCR that plays movies.I\\'ve been able to keep them off tablets for all this time.And now, with the pandemic, I had a concussion last year and it was like, all bets are off.They were just on devices and they were using the phone, they were FaceTime-ing their friends on the devices.And now we\\'re at the point where my son says all the friends have moved away, we\\'re in downtown Manhattan and all the friends have left so my son says, \"I have no friends.\" Calls up a friend and then he\\'ll be on for three hours, or four, five, or six, seven.My daughter has made an alternative account, I just found out, and she\\'s trolling on Roblox.She\\'s 11, [inaudible 01:01:54], people who are dating, and she will troll them.So that\\'s something to be proud of for me.It\\'s just a nightmare.So now I\\'m looking at software that I can block the whole thing down.I\\'ve put a padlock on where our desktop computer is, on the door, and she\\'ll hide the lock.I\\'m like, \"Where is the padlock.\" And I\\'ve thrown all the devices in, or I\\'ll rip the router out of the wall.I mean, it\\'s gotten very ugly and I scream an awful lot.So yeah, it\\'s not pretty.Thank you',\n",
              " 'Parent 4': 'Hi.Hi, I\\'m Parent 4, I have a 15-year-old daughter and a 13-year-old son.One of the shows I recently just got into was Big Sky, it just started, it\\'s a few episodes in.It\\'s a new show, so far so good.I can go.My kids probably had more.It sounds like they did more online than, so far, the rest of them.But my daughter in high school definitely had almost all of her homework.Not all of it because she was assigned in school, but she definitely was on doing homework, I feel like, a good amount.Nothing like now, but definitely was using it.My middle schooler also, but not as much.They both did play games or use Instagram, my daughter was really into Instagram, not as much anymore but definitely games.Now it\\'s just like a free-for-all.I mean, they\\'re in their rooms with the door shut, I have no idea what they\\'re doing all day.I just know that they\\'re doing their homework, getting good grades.I think they\\'re on electronics the entire day.Like I said, both my kids are on it all day.They\\'re fully remote, both of them.Neither one of them has a full schedule so I hear my son.Because my desk is right next to his room, and I\\'m hearing him at like 10:00 in the morning, profanities on a game with his friend.And I\\'m like, I don\\'t understand, it\\'s a school day.Well, they don\\'t have school, it\\'s in between a break.So it\\'s definitely made our day.Especially since I\\'m working right next to him, very difficult to try and do my job and be next to him.But it\\'s their lives, they\\'re in their rooms, if it\\'s not school then it\\'s playing games.My son plays a lot of games with his friends, my daughter doesn\\'t but then she\\'ll be on the YouTube also a lot, TickTock, whatever, and I kind of don\\'t see them a lot during the day.Thankfully they do okay so I don\\'t ask.I used to be a more involved and now I\\'m not really involved.Now it\\'s a free for all.Yeah, I don\\'t feel like there\\'s even much to be involved.They don\\'t have much, especially my middle Schooler, has nothing to do so there isn\\'t even much for me to ask him.Absolutely.If you want, I can finish that.Actually I\\'m having problems now because my sons school said.We requested, they didn\\'t say it, but depending on the size of the class you might be able to go in one more day.You can only go one day a week now.And I was able to get him in two days.And the fit that I got, screaming at me for five days until that day came, it was horrible.About how [inaudible 00:33:53] the worst, making him go in for two days instead of just one, so I can only imagine what\\'s going to happen next year.I could go next.My son has been on a 2-3 day week model since January.Before that it was 1-2 days a week I think.But between all the quarantines and the school closures because of those two case rules that they had we were in quarantine all the time until.Hopefully going forward it will be better, but we were in school barely, mostly all remote because of all that.But we\\'ve gone a few times for sure.My son, he\\'s on the spectrum so he has all these social/emotional issues that usually prevent him from being able to get along with children.All prior to the school year.We did start a new school this year, so in September we went to a new school that we\\'ve attended this year, which was a group of 7-8 kids, when he was in person because of the cohorts.So maybe that has to do with an overall positive experience for him on the days that he did go in person, compared to the prior years when he was one of 32 with all these issues that he had that we didn\\'t even address until this year.And as a matter fact we just actually got placed in the NES program so hopefully next year he will.Even though it was a difficult decision to make because we just started a new school this year, new school next year, but I understand it would benefit him and sort of tailored to the exact issues that he has.But in terms of him going back in person, it has been an overall positive experience, he is not protesting or anything.He was able to even make some friends even though they\\'re social distancing with masks on and everything.So I was surprised and happy about that.Hopefully that will continue, but again, he will go to this program in September, he\\'ll be in a smaller class size.Because I think the 32 kids that we\\'ve always had was overwhelming for him and he couldn\\'t get along with anyone and it was just daily calls from school and nobody really ever addressed the issues that he had.It was always just like, he\\'s that kid, type of thing.All the tears that were cried by me.So yeah, so I think.He actually even said the other day, \"Oh yes, I\\'m going.\" Because I remind him advance to prepare him that tomorrow is in person.He said, \"Oh yeah, I\\'ll have something else to do than to play Roblox.Exactly.So I think this is actually one of the silver linings for me with the pandemic, is kids that have issues, sort of like some of our children, when there\\'s a big class size and one teacher and all that, they may not have a good experience I may not want to go back there.But so far, in our case, I think due to the smaller class size, due to having a little more, I guess, personal attention from the teacher who is able to expand herself for the seven kids, it was overall good.It was actually better than the years before.Sorry, I was.Yeah, same thing with Google Classroom.It\\'s probably recent, in the past month or two maybe, that we get a daily update at the end of the day for my middle schooler.I at least see what he\\'s doing, which is probably more than what I ever got from him or the school, definitely from the school, before.So, that\\'s nice to at least get a daily rundown of.It might only be a sentence or two each, but it\\'s at least Something.So, that\\'s nice.And I also like that they do get immediate responses basically from teachers if they have questions on homework or questions.Whatever it might be, but everyone is pretty receptive to responding in a quick time period.I can go.My daughter never did gaming before.I mean, years ago she did Minecraft, but not anything recently.She does other stuff online and is on there a lot, but as far as gaming, no.My son, the only positive thing I guess about it is we don\\'t fight about it as much.I used to have to.It\\'s not necessarily positive, it\\'s kind of contradictory, but I don\\'t even tell him to get off anymore.It used to be a fight because I used to have to tell him to get off, now we don\\'t.So the fighting has actually gone down.The flip side of that is he\\'s just on so much more.The language has got worse on the game and I\\'m constantly having to stop it.But he also has gotten a little closer with some of his friends that he can\\'t see anymore because they\\'re online talking.And the moms and I will say, \"Did you hear they did this,\" if there\\'s a problem.I mean, he\\'s definitely playing more, but he played a lot beforehand too, not like this',\n",
              " 'Parent 5': 'Sure.Hi.My name is Parent 5.I have three kids, 17, 13 and nine, all boys.A good show that I started watching over the pandemic is called The Repair Shop, and if you want to see a show about nothing except things being fixed, it\\'s a good show.Us personally, or about our children.I have a similar experience to Parent 3.My high schooler had a lot of his homework that he had to type and word process.I don\\'t know if that\\'s the right word, into Docs, but it wasn\\'t a huge amount.It wasn\\'t doing research, it wasn\\'t hours and hours.My elementary school guy, he didn\\'t have any homework on the computer at all.And my middle schooler had very little, like type this one thing or something like that.It was very little on the computer.And for myself, in terms of my family, I lock the video games so that there was very little access to video games during the week.And then on the weekends there was an hour or something like that, it wasn\\'t that much.There was no YouTube watching, like now YouTube consumes our life.My kids didn\\'t even know how to use the features on our TV, the smart features, they didn\\'t know they could access YouTube on it or anything like that.So it was very controlled and very little.I also had my children in a lot of afterschool activities.My older son was in an orchestra, he also was in a band, theater groups, there was a lot of afterschool activity.A lot of playing outside, a lot of going to the park and all that stuff.Yeah, so.So for us, we only had a desktop and a laptop, which was more than sufficient pre-pandemic.And then everybody needed a device, all of a sudden everybody needed a device Needed to be on at basically the same times so we got one device from school, we bought a laptop, we found an old laptop.It was like the gathering of devices.And then teaching.My nine-year-old, teaching him how to use it, he really hadn\\'t used computers in that way.And so teaching him how to use it.My middle son is prone to migraines and so being on the screen caused migraines and so that caused some aversion because he didn\\'t want to be on.The schedules were kind of crazy, like all over the place.And the truth is that it\\'s hard because my 17-year-old, who knew how to do all these things just kind of stayed in his room for months.And it was just.I feel bad saying it, but he was kind of left to his own devices.He wasn\\'t a big social media guy, he has no social media still, but when the only way to communicate with his peers became to use.What is it. Discord, and all these other things, that became the only way to communicate with people.And then it almost, I feel like.Like Parent 1 said, it\\'s like this black hole that sucks you in.And then there was also no schedule.Because we have some special needs in our family, my schedule is really tight with my kids and so the little guys we go to bed at 8:30 and then 9:00 and then the older one was in bed by 10:00 and there was a lot of structure, and literally it was like a bomb hit it.People were going to bed at 1:00 in the morning, it was just totally.It felt chaotic and out of control, and it felt like the technology sputtered for a little bit as we gt devices figured out how to get everybody on and then it was this black hole that sucked you in.And then everybody was on for hours and hours and hours and hours and hours, and it felt out of control.For me, the months that I tried to work from home with my three kids was nearly impossible, like I\\'m sure many other people.So out of desperation, in September we decided to put my middle schooler in a private school, so he has been going five days a week with some interruptions when they close school, but there hasn\\'t been that many.Today, I guess I got word from the elementary school that they\\'re moving to a five day week model, I guess in two weeks.But my son has been going for two days a week since October with the school closings and stuff.But he is happy to go.He\\'s looking forward to go.And my high schooler has also been going blended, it\\'s interesting because sometimes.Yes, I am.This is exactly what happened all throughout the pandemic.And my high schooler, I think it\\'s interesting because even if he\\'s the only one, which has happened several times, he goes when he supposed to go.I was like, \"You\\'re going to keep going.\" And he\\'s like, \"Yeah, I\\'m going to go.\" And I\\'m like, \"Okay.\" So I personally don\\'t anticipate any issues.He\\'s graduating, I think that\\'s also part of it, because I think they missed out on their whole senior year and everything that they were looking forward to so just being able to go and see teachers and stuff like that, he I think wants that connection with people.So when he supposed to go, which is kind of like one day a week, maybe sometimes two days a week, they have this weird schedule that I still can\\'t figure out, he\\'s been going, he goes.So with my kids, they have bought into going back to school.I can say that initially with my high schooler I felt like he got almost depressed.He was a very good academic student, he had some social issues but academically he was doing very well, a 90-something average.And he started failing all his classes.He wasn\\'t attending, he wasn\\'t going, he was in bed all day.I would talk to him and I was the one that said, \"Well, why don\\'t you try maybe connecting with your friends.\" Because he didn\\'t have social media so I was like, \"Why don\\'t you try connecting with your friends. Maybe play a game with them or send them a message and see how they\\'re doing.\" That helped, to connect, but then the connection is all now on this.I don\\'t even know, he plays Minecraft I think.Then it was like two hours, and four hours, and six hours, and eight hours, and 10 hours, and 12 hours, 14 hours, or 16 hours.It was crazy.And so much so, I took the boys to Florida, we drove to Florida over the summer to see my brother and even at my brother\\'s house, his cousins were here there and he had the pool and stuff like that and he would spend 10 hours, 12 hours, 14 hours a day stuck in a room.And he would get upset if I would say, \"No, we\\'re going to go out.We\\'re going to take a walk.Or let\\'s go swimming.\" It just became.And still it\\'s very hard to get a handle on it at 17.It\\'s very, very hard, I feel, to get a handle on it.I\\'m like, \"You need to go to bed.\" Even last night, it was 1:00 in the morning and I go, \"You\\'re going to go to school tomorrow, you should go to bed.\"And it\\'s like, am I going to rip his laptop out of his room and we\\'re going to fight. I don\\'t want to do that, I tried to do that a couple of times and it just wasn\\'t worth it to me.I just say to him, \"Look, you are becoming a young adult.You\\'re going to have to make decisions for yourself.This isn\\'t life, you can\\'t game for 16 hours a day.\" So with my younger ones it also feels out of control, but it feels the most out of control with my 17-year-old because he\\'s like six feet tall, he has–Moderator 1:Right, and I can imagine it\\'s harder to regulate it with him and to have-Yeah, when he was younger I used to look at his phone and monitor and all this kind of stuff but now it\\'s very hard to know the line and it\\'s very hard to.He had social issues very similar to what Parent 1 was talking about.And now he has these friends, these online friends.He\\'s never had a crew and now he has this crew and they all want to play with him and, \"Matthew, are you coming on.\" So yeah, it\\'s–Moderator 1:Okay, all right, thank you Parent 5.We\\'re coming to the end, we have a few minutes left, Parent 3 I\\'d like to hear your experiences, both before and during with gaming, benefits, concerns.And then we\\'ll probably end'}"
            ]
          },
          "metadata": {},
          "execution_count": 109
        }
      ]
    },
    {
      "cell_type": "code",
      "metadata": {
        "colab": {
          "base_uri": "https://localhost:8080/"
        },
        "id": "O-jmGbRRbMIh",
        "outputId": "6bfb48ab-6d60-46e2-e511-162179d7f5af"
      },
      "source": [
        "doc_preprocessing(list_of_docs[5])"
      ],
      "execution_count": 110,
      "outputs": [
        {
          "output_type": "execute_result",
          "data": {
            "text/plain": [
              "{'Parent 1': '.Hi.Hi.I\\'m like, \"Why don\\'t I see someone else.\"Parent 2:Hi, I\\'m [Parent 2 00:09:11].Hi, I\\'m Parent 1.I guess we\\'re the only two here.Oh, right, right, right.Hi.Hello.I\\'m going to get something to put the phone in.Hi.Hi, my name is Parent 1.I am the mom of three.I have my oldest son is 26.I have a 24 year old girl and then my youngest one is 16, Parent 1, Child 1.We have to write it.I have to get up for a second, get a pen.Okay, I\\'ll go.Oh, I\\'m sorry.I think.All right, so for my 16 year old, before the pandemic, we had a set sleeping schedule.His grades were good, but there was a set sleeping schedule.During the pandemic and after the pandemic, that basically was interrupted and I was trying to over compensate for the amount of time being in the house and the lack of socialization with his friends, so the sleeping time was interrupted and it has continued.At this point, basically he goes to sleep whenever he\\'s really tired.One thing, that was one of the negative things that I, negative changes that we\\'re going through since the pandemic.I would say he became more introverted than before.One of the positive things has been his grades.Even though there hasn\\'t been a lot of interaction or he still remains at school from home, so home schooling.The grades have actually improved.He\\'s a high honors, though we did have the option to go back last week, five days a week.I chose to keep it the way it is to finish the year only because he has improved his grades and I want him to end the year with the grades that he has now.Overall, the sleeping is like he\\'s sleeping less, the grades are higher.There\\'s less time spent with the friends but they do interact every day over text or over the games.And more online time.But overall, it\\'s okay.My son is going through the same thing.The time spent in the room, it has come to the point that he\\'s basically having all meals in the room because either he only has a certain amount of minutes, like three minutes, according to him, to have breakfast before he starts class.Lunch, they have different times every day, so by the time I ask him what\\'s today\\'s time for lunch. I\\'m preparing lunch, so basically he has to eat in his room.And dinner, just like what\\'s your name.I mean, it\\'s a period that has affected everyone and at home, us parents, we have tried, like in my case, I\\'ve tried to, like I said before, overcompensate with giving him the free time to be online for as long as he wants, staying up until whenever he gets tired.That has created a problem in my house because I have my daughter who is right next to him and the bed basically is just divided by the one wall.They are separate rooms, but everything that happens in his room, every conversation, every movement, she could hear it.And then, that\\'s why we always had a specific sleeping time so that it was good for everyone.Now, that has become a problem because she has to be up at 6:00 and if he stays up until midnight, 1:00 moving around, she is constantly saying, \"Tell him to be quiet, tell him I need to go to sleep.Tell him.\" That has created a problem, but I think in every household, we as parents, we try to overcompensate the fact that they were not interacting with their friends, they\\'re not having physical activity, they\\'re not outside, so we just let them get away with basically just being online or playing games.One thing, yeah.I\\'m sorry.And I think also the fact that they are getting so used to relating to everyone through online.When they are together physically, I know for my son, they become more introverted because they\\'re so used to talking to each other through a screen, when they\\'re in person, there\\'s going to be less interaction, less conversation because they\\'re not going to feel as comfortable as they did before.Talking in person as opposed to talking from the comfort of your own private room.Yep, they\\'ve became pros.[crosstalk 00:42:01].Or they would, that\\'s the only time they get along.One of the girls distract me because I have the iPhone and screen time and I block their.One of them distract me and the other one, they work good together, and I\\'m like.All of a sudden, I\\'m like, \"I don\\'t remember I gave you permission to download that app.\" And it took me a minute to figure out how they\\'re doing this.And I was like, \"Oh, you all could get along when you all want to do something negative but all other times you are arguing, whatever.\" I said, \"I\\'m going to get you.\" But just the same as you, Parent 5, it was like, every time I would try to come up with a schedule, and you always have someone to tell you, \"Oh, this is what you need to do, because you don\\'t have no control of your kids.\" So then, I\\'m like, \"Okay, I\\'m going to have control.\" These kids get used to things and they shit, and I\\'m like, \"I\\'m done.\" I don\\'t know what to do anymore.Sleeping early and then one wake up in the middle of the night, \"Oh, I can\\'t sleep.\" And then, all of a sudden, all three of them is in my bed.And then, I have a crook in the neck, it\\'s like they find ways for me to change the rules.Certain things I\\'ve been good at keeping like, \"No, you all not going to switch up on me.\" But many of it has been hard throughout the pandemic to keep consistency.Very difficult.I always tell my son, \"Anything you type-\"Parent 5:Don\\'t say anything you don\\'t want it to be [crosstalk 00:49:34].And just for anyone to take a screenshot like Parent 2 said and then send it around.And the one person that you didn\\'t want to see it, it\\'s going to get to that person, so just make sure you don\\'t type anything.Even if you delete it, don\\'t send anything that you don\\'t want to get you in trouble.In person, relationships that they will be having, I don\\'t think they\\'re going to feel as comfortable talking in person.At least, in the beginning, as they do now behind a screen from the comfort of their house, they feel protected from their rooms, so they feel like they can say anything and it\\'s not going to go anywhere because when they don\\'t want to see it, when they don\\'t want to hear it, they just turn it off.But when you\\'re in person, with the other person in front of you, I think that\\'s actually going to, a lot of the kids are just going to become, are either going to be too shy or too introverted.I think it\\'s going to take them some time to adjust back to how it was before, before he pandemic.My camera was interrupted, so I just heard the last part where you said the clothing.Did you say they were not dressing up during the pandemic.And then, I know that\\'s another thing that I personally also think of.Being at home, it\\'s all sweatpants and pajamas all day.But going back to school, that they need to wear uniforms where my son goes to school, so that in itself it\\'s work, extra work for me.Washing the uniforms, ironing the uniforms on a daily basis.I don\\'t mind if it gives him a positive outcome.But when it comes to also, yeah, dressing, that has taken a turn, as well with the way they feel comfortable now.Even when we go anywhere, he only wants to dress the same way as he dresses at home.I know that I also feel the same.My son went through all the studies about three years ago through the Healthy Network.And I wanted to call and see what else is offered in terms of getting help for him in terms of being in turn that the pandemic has the impact on his emotions emotionally, mentally and even physically.Because, spending so much time in a room on a bed, he\\'s not even sitting on a desk.Everything is done from the bed only because of the comfort.Oh, I\\'m sitting here, my legs are straight, so there\\'s no need for me to sit up on a chair.The interaction, the emotional, mental, so I actually wanted to know if there\\'s anything else that is offered just so that we can get the information.To me, the number one concern would be social anxiety.The way, like I said, the turn that the pandemic has, or the impact on the way I see, it\\'s next door to you.That to me would be one of the major things and something I would like to get some type of help on the social anxiety.Thank you for having us',\n",
              " 'Parent 2': 'Hello.Hi.Well, [Parent 3 00:09:19], I know now.There\\'s Parent 3.Anyone help you with the courses.Sure.Good afternoon.I\\'m Parent 2.I have two kids.I have a son who\\'s 18 and then the daughter that I guess we\\'re talking about today, who is 13.I am a marketing consultant and I\\'ve not seen Them, but I just finished Serpent on Netflix.It was very good, based on a true story about a gem dealer internationally who murdered.For me, the positive is that she\\'s able to connect with her friends.Especially, because she wasn\\'t allowed to see them for a lot of the pandemic.I thought online school, they did a good job.And by being online, I think she learned a lot of stuff.Negatively, as everyone said, she\\'s up to all hours of the night talking with her friends.And then, of course, I\\'m the bad mom because I\\'m the only one at midnight who\\'s like, \"Get off the device.\" And the other part is she gets very sucked in to one, Roblox.Tiktok and videos and literally, it\\'s like she\\'s a zombie and when I ask her to do something, and she doesn\\'t respond and it\\'s annoying.And also, because she\\'s with her friends online and doing everything, she\\'s been spending a lot of time in her room, so she\\'ll rush through dinner so she can get back to being on the devices.But yet, this is her only interactions, so it\\'s hard to say no.I agree with you there.I got to the point where all I did all day long was scream and scream and scream that I just personally didn\\'t like being in my house myself, so I could only imagine what my kids were going through.And it just got to the point where I gave up with school, I didn\\'t care, so if they went on the electronics from the time they woke up \\'til the time they went to bed, I was done.I\\'m just tired of screaming and being the mean person.It just has been hell.I\\'ll say that only one thing that\\'s been an advantage with the friends that the friends have become more of a support system.And that\\'s been a positive.Because my daughter has anxiety.And pre-pandemic, I felt that every time she had homework, I mean not that I had to do it with her, but I had to sit there and she needed me for the confidence.And I wasn\\'t necessarily helping her, I was just wasting my time.And now, the friends have taken that role, so that is a positive that she has now a support system with the friends.Yeah, then the other part, I don\\'t know if it\\'s Instagram or one of those, she sees the little icons of people.She\\'s like, \"Okay, Parent 2, Friend 1 told me she\\'s busy today and she forgot.\" I guarantee you, [crosstalk 00:46:28].Right, if Parent 2, Friend 1 goes here, I know she\\'s with Parent 2, Friend 2.If Parent 2, Friend 1 goes here, I know she\\'s with Parent 2, Friend 3, which means she lied to me.And sure enough, Parent 2, Friend 1 went to Parent 2, Friend 2\\'s.And it\\'s so much social drama that we did not have.If somebody went out on a Friday night with friends, Monday morning, I don\\'t think it even came up.And the kids are stupid, too, because they\\'re lying about to their friends, and their friends know they\\'re lying.And then, the friends get mad at them and then they\\'re like, \"Oh, I\\'m sorry, I\\'m sorry.\" But I\\'m like but the other day, her friend was asking her, \"Oh, you went to a picnic with these girls.\" And she was asking like accusingly.And I\\'m in the background, my daughter was going to kill me, I\\'m like, \"Oh, like when you were in Florida and you blew my daughter off.\" I\\'m living through this drama and it\\'s not.it\\'s this media.It\\'s terrible.Don\\'t tell me that.They do that.And then, send it to somebody else to say, \"So and so was talking about you.\" Screenshot!Parent 4:Yep, they do.[crosstalk 00:49:29].Well, one thing that I\\'m interested in, because she\\'s been doing her school from home and the tests have been from home, her whole test anxiety of walking into the room, sitting down at the desk, having the you know, hasn\\'t happened this year because.and math, that a lot of times she has this one on her lap.I\\'m concerned when she goes back and she\\'s in eighth grade and it\\'s going to be more demanding and she still has test anxiety.And so, anything that you can provide to help with that transition back to school and all the anxiety of more formalized learning would be great.Parent 3, [crosstalk 01:07:18].And see, it\\'s to your guys\\' point, it\\'s very expensive.But I can\\'t even find anyone.Because of the pandemic, everybody who people recommend, is booked.Booked, booked, booked.And then, the one guy is like, \"Oh, well maybe in six weeks.\" I\\'m like, \"But in six weeks, it\\'s summer.\" And he\\'s like, \"Yeah, well, maybe that\\'s not a good time for her to start since a lot of her anxiety is test anxiety and school anxiety, so maybe during the summer it wouldn\\'t be a good time.\" And I\\'m like, \"I just want at this point, to have someone lined up for August for her to start with.\" Because, she\\'s taking medication and she\\'s like, \"What is this medication doing.\" Because, she\\'s still full of anxiety, she\\'s picking at her feet.And no one is available.I mean-Parent 3:No one.[inaudible 01:09:09].Especially, with the medication.You are right.You have to like pay for $350 session where they don\\'t do anything, so [crosstalk 01:10:08] fill the prescription for you.I mean, it\\'s such a waste.That\\'s a psychiatrist, not the therapist.That\\'s just someone who has the ability to write the prescription.Exactly.And they\\'ll charge you and if you don\\'t talk to them, you don\\'t get the prescription.Thank you, have a good day, guys',\n",
              " 'Parent 3': 'Hey.Hi.I was just running up and down with the kids.Wait.I didn\\'t know we had to.I have three kids, by the way.I\\'m not only Parent 3, Child 1’s mom, but Parent 3, Child 1 is my last child.I have two others, a 14 year old, a 10 year old.Two girls and Parent 3, Child 1 is the only boy, and he\\'s the last.Yeah.Oh, go ahead.You could go, Parent 1, it\\'s okay.Okay, so my positive was, no, my negatives were bedtime issues, sneakiness, of course, with of the iPad, like he would just be in certain areas and just trying to control the games that he\\'s on and if he\\'s meeting strangers.Those took a lot of, a little the work with me to manage that.But the positive is he started reading more and to help me with him not meeting strangers, my daughter started playing Roblox with him, so that was a plus.That kind of would help me to understand what game he\\'s playing and so forth.And it helped me to see what was his struggles in school, because right before the pandemic, he was having these issues and so it\\'s through him being home and seeing how he worked with the computer is how I was able to finally learn how he learns and what he likes.Because he tends to keep things to himself.That was the positive.That\\'s it.Yeah, the thing is like I have three children, as well, and one of them has ADHD and my son, I didn\\'t get his full results yet, but I do know he has dyslexia.I don\\'t know if ADHD is on top of it.Like I said, because we were home, I was able to catch it, because I was working so many hours, I didn\\'t see he wasn\\'t reading well.He faked it and he was able to cover it from me.And his sisters would cover him because they would help him with homework.And I guess through their frustration, they would do it for him or give him the answers.That helped, even though that was a big fight because he fought with me every day, he didn\\'t want to work.But his reading scores increased, he got better.But the management was so hard for them to keep them off the iPads, the computers because I felt so bad because they don\\'t have the social outside, I didn\\'t want to be the bad mom and say, \"Okay, stop, you can\\'t.\" And it just, I didn\\'t have the energy to tell them, to always watch over them because I am still working full-time at home.And so, working full-time then teachers calling me, \"Oh, they don\\'t see him on the screen.\" It was a lot.And then, my husband works at night, he comes, that was an argument in itself because he don\\'t know what to do, so his thing is like, \"Oh, I can\\'t do nothing,\" so he goes, so I\\'m angry at him, so I\\'m yelling every day.And so, I wasn\\'t happy any more and my attitude just changed.I just was always upset every day.I was always mad, and always arguing, and so this was how it was for me every day for a while.There\\'s a little change now, but that\\'s because I decided, I don\\'t care.I had to just stop.I was going to lose my mind.That\\'s how it went.Yeah, mines is 14.I think my concern is like it\\'s not so much as that.I think for the social part, over the years, they\\'ll come back.It may not be as how we grew up, it is going to look different.No matter what, because there was social media from the get go, there was already issues with social interactions, I think.This has just made it worse, but I think it was going to be like this no matter what.But what I do believe is going to happen, what I have received from this is my older daughter, she was able to kind of see what is due, what\\'s not due.I felt that having it on the computer and being able to visually see it, also with me knowing what they were learning, it helped me to kind of know how I can help them.Because the other way with the paper and allowing the kids to write it, it was so hard for me to connect.There was a flexibility of learning so that my children could kind of do the work where they can, you know, oh, I\\'ll catch up when the, after school.That flexibility helped them to give their best when they can.And so, going back, I think they\\'re going to lose that.That is what I see would be a issue.But with the social media, I had social media issues before the pandemic, during, it\\'s going [inaudible 00:55:00] from my household.Especially, with the girls.Especially, the girls.But I do like the computer but for me, I realize I know what all my children was doing before I\\'d have access to that information unless I went to school and the teacher told me.And I\\'m a visual person, because even if they tell me, it\\'s not clicking.Whereas, when I was able to go on the computer and I see, okay, oh, that\\'s what they\\'re doing.How are they doing it. It helped me to know, okay, you know what. I can\\'t teach you that, you need a tutor or I would find ways to help them so they could get better help.That was one of the things that I was struggling with for my middle daughter, Parent 3, Child 2.I just, I needed someone, and then she needed counseling.And even before the pandemic, it\\'s like it was hard to get a program for her for several reasons.If they were near my home, they won\\'t take my insurance.And those that are far, I have to work so I would have to take days off to go to her sessions.Even right now, even through the pandemic, I was like, \"Okay, I heard they were doing a lot of these online.\" I said, \"That\\'s great, I could put her on.\" I couldn\\'t get through and I\\'m like, \"What is it that I\\'m doing wrong.\" And it\\'s like for children, it was like so it\\'s too hard to get them counseling or for her, I wanted her to do CBTs and to be able to get her medication that her doctors don\\'t want to give it to her.I had to stop giving it to her because it was just getting messy.And those are the things I\\'m struggling with.And the ones that do have the time, they don\\'t take my insurance so it takes boku of money that I don\\'t have to pay for it.That has been my biggest challenge.I can\\'t even get my daughter to get her medication again, that\\'s how bad it is.She\\'s suffering, and I don\\'t know how to help her.And I know it\\'s going to make her.It\\'s creating other things like depression and anxiety that it\\'s so unfair.And I even told her doctor.Her doctor was like, \"Well, I\\'m not a psychiatrist, so I don\\'t want to offer it.\" And it\\'s hard.Everybody wants money only, when it comes to these kids.Because if they see some money making things, so everybody just, \"Oh, I\\'m not going to give this for free.\" I could find free for my age, but not for the children.I don\\'t know.They won\\'t talk to you for more than five minutes.Thank you',\n",
              " 'Parent 4': 'Wait, say that, oh, wow.Oh, my goodness.Them.The show Them, I watched that recently.That was a lot.I have to apologize, my camera\\'s been acting up all day today.I\\'ll just say the positives for Parent 4, Child 1 has been that he\\'s been able to communicate with his friends, he\\'s made new friends with gaming.And he\\'s learned to navigate multiple, new programs.Especially, through school, which I think has been good.And just how to use whether it\\'s the Schoolology or the music programs or the.In that sense, it\\'s been great and I think that\\'s something he can take, as well as other kids, too, be able to take with him moving forward.The negative though, yeah, is the constant gaming.And the I\\'m going to stay up while I know you\\'re sleeping at 2:00, 3:00 in the morning and get online.That has been a negative.And then, just the constant screen time I think is not that great for their eyes, in general.Those are my two main negatives.I don\\'t think I have, I don\\'t know if I have a third one.But the gaming and just the how it affects their eye.I totally agree with what you\\'re saying, Parent 1.And I do try to set a bedtime and make sure my son\\'s in the bed before I go to bed.But he does wake up and every now and then, like I said, I\\'ll wake up like 2:00 in the morning, and I\\'m like, you might hear him in the background now, which is the other thing I wanted to agree with Parent 2 about is, listen, their conversations when they\\'re on these games are, can be outrageous sometimes.And so, my thought now is, he\\'s gotten used to this.When they go back to school, is this something that, is this kind of conversation or interactions, are they going to continue in person. Or is this just a gaming thing. Right. Or I\\'m just curious like how is that going to play out. I hope to goodness not.And working in a school with students, I work with all the students with that because a lot of them are on these games and they\\'re talking, oh, the language, sometimes.Go ahead.That\\'s true.Yeah.That might be house party.Yeah, my daughter is 20 now, but even before this, because like I said, she\\'s 20.Throughout those whole teenage years, some of the same things were still coming up.They weren\\'t on Instagram, Facebook, they were on other sites.And I would say at least for me, it didn\\'t slow down until she turned 18.And that\\'s when things began to kind of like mellow out.Yeah.[crosstalk 00:48:17].Sorry.[crosstalk 00:48:22].It\\'s a lot of drama, and I just did a whole workshop with my students who are 11.Some of them are 12, on just that, social media and drama.Because every time I have these sessions with some of my.it\\'s particularly with the girls.It\\'s always about who\\'s saying what to who.And now, they\\'re even taking pictures and sending pictures of other friends to other people and it\\'s just and it\\'s like guys you can\\'t.It\\'s not even legal, I don\\'t think.And I notice students even in the class now, though, those who are in the building, they\\'re still texting each other.It\\'s going to be interesting to see how classrooms are going to be run.Because some teachers are saying they still want to use technology, as we\\'re talking about reopening, and is that still going to limit that socialization. Because then, they sit there on the WhatsApp and chat with each other even though they\\'re sitting in the same room.And yes, they\\'re at separate desks, but they just they chat that way.[crosstalk 00:53:25].I agree, too.My son will run around in pajamas all day, every day, and even when it\\'s, \"Oh, run the trash out.\" He\\'s running out in his pajamas.I do think it is going to be a process of going back for all of us.Workers, teachers, students, and one of the things I know that we talk a lot about at school is spending just those first couple months, just getting kids acclimated to just being back and socializing again and doing whether it\\'s the circles and getting to know you activities and just different things like that and not, even though they are behind, there is some lag in terms of the academics, but catching up on that after we get them socialized first.And not just the students, like I said, but also the parents and having workshops and things with parents and also for teachers.I know for us, for at least our school, we refer tons of families to you guys.And then, we try to look at some of the workshops and things that whether it\\'s Child Mind or Healthy Brain offer and put that out there.Because that\\'s what we\\'re going to need, just a lot of that SEL support.Oh, okay.I was just saying, is there any way that some of the things that you all offer can be brought into the school in some cases. Because I know sometimes with our family, it\\'s just hard to maybe get there, or they can or if maybe there\\'s, I don\\'t know.If there\\'s some kind of liaison or something who can actually, physically once we are in, could be there to help.Thank you so much.Have a good day.Bye-bye',\n",
              " 'Parent 5': 'Okay, I\\'m sorry.I\\'m on my phone because I can\\'t figure out my daughter\\'s password on the computer, she changed it again and she\\'s not home, so I apologize.My name is Parent 5, I\\'m a mom of three.I have, my daughter is 15, my son is 13, and my little one is 10, my second son is 10.I\\'m a para for the Department of Education in Staten Island and I don\\'t know.But I\\'m going to check out Serpent on Netflix.Yeah, so, was there anything else I need to say.Because I missed the beginning.Okay.I agree with the time in the room.My 15 year old, my oldest, she was struggling with it and we call her in her cave, like you need to get out of your cave, you need to get out of your cave.The good thing is we started watching some TV shows at night making every like certain nights of the week we\\'ll watch something together as a family and at least we get to socialize with them, because if not, I forget that she\\'s even home sometimes.I don\\'t even know she\\'s there because she does not leave her room.Socialization has been a tremendous thing.My boys are in junior high, they finally went back full-time and yes, I sent them back full-time because I couldn\\'t wait for them to go back, remote didn\\'t work for them.And being a stay at home mom, being a working full-time at.is not the most convenient thing with three children.I became dependent on the Internet, like, \"Just take your iPad, go do something on your iPad.\" My little one, I was doing work at 11:00 at night with him and I was telling the teachers, \"You can\\'t mark him late, I work all day, I work after school jobs and I\\'m on the computer all day, I can\\'t maintain him and he has an IEP with needs and they\\'re not being met.\" He would get work done at 11:30 at night, so bedtime was a joke.It was like he could sleep all day because he\\'s out of my hair.And his academics, we\\'ll do at night with him.And my middle one didn\\'t do any academics that when he went back to school, he was just crying, \"Please let me stay home, please let me stay home.\" And I was just like, \"No, go to school.Goodbye, go to school crying, here\\'s some extra tissues.\" Call me cold and heartless but he needed to go back, and now he\\'s fine and he\\'s adapted to it.But two weeks of every day crying, \"Please don\\'t send me back to school.\"Internet, like I said, it was good for me, it was a babysitter when I needed them out of my hair so I can do my job.But it\\'s killing me.It\\'s ruining this generation completely.I think a negative on the Internet, too, is that these kids have figured out how even though you block certain things, they\\'ve made new accounts and new ways to get into things that it\\'s just to the point where I don\\'t block anything just because I figure at least, even if it\\'s inappropriate, at least I can monitor what it is and then talk to them about why it\\'s not appropriate.Why you shouldn\\'t do things like that, why you shouldn\\'t be on a site like that, what can happen to you.I\\'ve made them more aware of things like that, which is stuff I probably would not have talked to them about in the past.Yep.It\\'s so hard, so hard.I think the teachers are afraid to call my house anymore because I just break down emotionally to them, because I can\\'t handle it.If I can\\'t handle it at 49 years old with three kids, how am I expecting my three kids at their ages to handle this.Or Snapchat, they can find their locations, yeah.Was that when she graduated high school.But you know, they see it on TV.Everybody, if something happens, everybody\\'s quick to pull their cameras out.Nobody\\'s quick to step in, it\\'s just oh, pull your camera out and record it, so you could post it.That\\'s all they want to do is get other people in trouble now.But that\\'s [crosstalk 00:49:15].That\\'s pretty much.[crosstalk 00:52:30] the opposite.He\\'s so introverted, since she\\'s been home, she\\'s not like this.She\\'s normally out, bubbly, she enjoys everything she can.She joins this, I feel more like her chauffeur after school.She\\'s into everything.Here, she\\'s in the house, she never leaves her room.It drives me nuts.Drives me, she can\\'t.go back to see people and human beings.I would definitely think you need some more counseling and cyberbullying because like Parent 2 was saying earlier, these kids don\\'t understand how they\\'re bullying and playing mental games with other kids because the way they talk or the way they lie to each other and now we can find out a lot of access.Because it really is something that\\'s hitting everybody, whether it\\'s boys or girls, because I have both and it hits them both.And mentally, because like I said, emotionally, my son is in counseling in school and he never needed it.Now he needs it because just the transition back into school was like, \"I want to stay home.\" And he\\'s a straight A student that was failing.And now that he\\'s back at school, he\\'s passing and like I said, the teachers called me up and I cry to them because I don\\'t know what to do.I can\\'t sit down and do his work for him.You know. But this is really, I mean, listen, you got people to help us with mental and emotional, I\\'m onboard.I got three, I\\'m onboard.And parents will take it, too.It\\'s tough.There\\'s not a lot available.There really is not a lot available.I know in Staten Island, they have the Jewish Board.You have to wait months for an appointment.They make an appointment and that\\'s just to kind of evaluate you.And then, they\\'ll call you when they have somebody available.I\\'m still on the list from like two years.And my son has been to two or three counselors privately with my insurance and it gets crazy expensive and honestly, useless.Just a quick question about the town hall meeting.Will we be able to submit questions prior to it so that they could be like some of the other town halls from the schools and stuff, that they usually say, \"Oh, we\\'re going to have a meeting, you can submit some questions that we\\'ll address during the meeting.\"Administrator:[crosstalk 01:12:08].Yes.Okay.Thank you.I really appreciate everything you guys do.You are a help'}"
            ]
          },
          "metadata": {},
          "execution_count": 110
        }
      ]
    },
    {
      "cell_type": "code",
      "metadata": {
        "colab": {
          "base_uri": "https://localhost:8080/"
        },
        "id": "Ud74kNx94QQ3",
        "outputId": "5ed2d098-c9da-4b2a-d553-2ad69a791225"
      },
      "source": [
        "extractive_text_summarization(list_of_docs[5])"
      ],
      "execution_count": 118,
      "outputs": [
        {
          "output_type": "execute_result",
          "data": {
            "text/plain": [
              "({'Parent 1': 'The time spent in the room, it has come to the point that he\\'s basically having all meals in the room because either he only has a certain amount of minutes, like three minutes, according to him, to have breakfast before he starts class.\\nI mean, it\\'s a period that has affected everyone and at home, us parents, we have tried, like in my case, I\\'ve tried to, like I said before, overcompensate with giving him the free time to be online for as long as he wants, staying up until whenever he gets tired.\\n\" That has created a problem, but I think in every household, we as parents, we try to overcompensate the fact that they were not interacting with their friends, they\\'re not having physical activity, they\\'re not outside, so we just let them get away with basically just being online or playing games.\\nWhen they are together physically, I know for my son, they become more introverted because they\\'re so used to talking to each other through a screen, when they\\'re in person, there\\'s going to be less interaction, less conversation because they\\'re not going to feel as comfortable as they did before.\\n\" But just the same as you, Parent 5, it was like, every time I would try to come up with a schedule, and you always have someone to tell you, \"Oh, this is what you need to do, because you don\\'t have no control of your kids.\\nI always tell my son, \"Anything you type-\"Parent 5:Don\\'t say anything you don\\'t want it to be [crosstalk 00:49:34].\\nIn person, relationships that they will be having, I don\\'t think they\\'re going to feel as comfortable talking in person.\\nAt least, in the beginning, as they do now behind a screen from the comfort of their house, they feel protected from their rooms, so they feel like they can say anything and it\\'s not going to go anywhere because when they don\\'t want to see it, when they don\\'t want to hear it, they just turn it off.\\nI think it\\'s going to take them some time to adjust back to how it was before, before he pandemic.',\n",
              "  'Parent 2': 'I got to the point where all I did all day long was scream and scream and scream that I just personally didn\\'t like being in my house myself, so I could only imagine what my kids were going through.\\nShe\\'s like, \"Okay, Parent 2, Friend 1 told me she\\'s busy today and she forgot.\\nRight, if Parent 2, Friend 1 goes here, I know she\\'s with Parent 2, Friend 2.\\nIf Parent 2, Friend 1 goes here, I know she\\'s with Parent 2, Friend 3, which means she lied to me.\\n\" But I\\'m like but the other day, her friend was asking her, \"Oh, you went to a picnic with these girls.\\n\" And he\\'s like, \"Yeah, well, maybe that\\'s not a good time for her to start since a lot of her anxiety is test anxiety and school anxiety, so maybe during the summer it wouldn\\'t be a good time.\\nYou have to like pay for $350 session where they don\\'t do anything, so [crosstalk 01:10:08] fill the prescription for you.',\n",
              "  'Parent 3': 'Okay, so my positive was, no, my negatives were bedtime issues, sneakiness, of course, with of the iPad, like he would just be in certain areas and just trying to control the games that he\\'s on and if he\\'s meeting strangers.\\nAnd it helped me to see what was his struggles in school, because right before the pandemic, he was having these issues and so it\\'s through him being home and seeing how he worked with the computer is how I was able to finally learn how he learns and what he likes.\\nYeah, the thing is like I have three children, as well, and one of them has ADHD and my son, I didn\\'t get his full results yet, but I do know he has dyslexia.\\nLike I said, because we were home, I was able to catch it, because I was working so many hours, I didn\\'t see he wasn\\'t reading well.\\nBut the management was so hard for them to keep them off the iPads, the computers because I felt so bad because they don\\'t have the social outside, I didn\\'t want to be the bad mom and say, \"Okay, stop, you can\\'t.\\nAnd then, my husband works at night, he comes, that was an argument in itself because he don\\'t know what to do, so his thing is like, \"Oh, I can\\'t do nothing,\" so he goes, so I\\'m angry at him, so I\\'m yelling every day.\\nThere was a flexibility of learning so that my children could kind of do the work where they can, you know, oh, I\\'ll catch up when the, after school.\\nBut I do like the computer but for me, I realize I know what all my children was doing before I\\'d have access to that information unless I went to school and the teacher told me.',\n",
              "  'Parent 4': \"Especially, through school, which I think has been good.\\nThe negative though, yeah, is the constant gaming.\\nBut he does wake up and every now and then, like I said, I'll wake up like 2:00 in the morning, and I'm like, you might hear him in the background now, which is the other thing I wanted to agree with Parent 2 about is, listen, their conversations when they're on these games are, can be outrageous sometimes.\\nWorkers, teachers, students, and one of the things I know that we talk a lot about at school is spending just those first couple months, just getting kids acclimated to just being back and socializing again and doing whether it's the circles and getting to know you activities and just different things like that and not, even though they are behind, there is some lag in terms of the academics, but catching up on that after we get them socialized first.\\nAnd not just the students, like I said, but also the parents and having workshops and things with parents and also for teachers.\\nI was just saying, is there any way that some of the things that you all offer can be brought into the school in some cases.\",\n",
              "  'Parent 5': 'The good thing is we started watching some TV shows at night making every like certain nights of the week we\\'ll watch something together as a family and at least we get to socialize with them, because if not, I forget that she\\'s even home sometimes.\\nMy boys are in junior high, they finally went back full-time and yes, I sent them back full-time because I couldn\\'t wait for them to go back, remote didn\\'t work for them.\\n\" My little one, I was doing work at 11:00 at night with him and I was telling the teachers, \"You can\\'t mark him late, I work all day, I work after school jobs and I\\'m on the computer all day, I can\\'t maintain him and he has an IEP with needs and they\\'re not being met.\\nI would definitely think you need some more counseling and cyberbullying because like Parent 2 was saying earlier, these kids don\\'t understand how they\\'re bullying and playing mental games with other kids because the way they talk or the way they lie to each other and now we can find out a lot of access.\\nAnd mentally, because like I said, emotionally, my son is in counseling in school and he never needed it.\\nNow he needs it because just the transition back into school was like, \"I want to stay home.\\nAnd now that he\\'s back at school, he\\'s passing and like I said, the teachers called me up and I cry to them because I don\\'t know what to do.'},\n",
              " {'Parent 1': 'The time spent in the room, it has come to the point that he\\'s basically having all meals in the room because either he only has a certain amount of minutes, like three minutes, according to him, to have breakfast before he starts class.\\nI mean, it\\'s a period that has affected everyone and at home, us parents, we have tried, like in my case, I\\'ve tried to, like I said before, overcompensate with giving him the free time to be online for as long as he wants, staying up until whenever he gets tired.\\nWhen they are together physically, I know for my son, they become more introverted because they\\'re so used to talking to each other through a screen, when they\\'re in person, there\\'s going to be less interaction, less conversation because they\\'re not going to feel as comfortable as they did before.\\n\" But just the same as you, Parent 5, it was like, every time I would try to come up with a schedule, and you always have someone to tell you, \"Oh, this is what you need to do, because you don\\'t have no control of your kids.',\n",
              "  'Parent 2': 'And also, because she\\'s with her friends online and doing everything, she\\'s been spending a lot of time in her room, so she\\'ll rush through dinner so she can get back to being on the devices.\\nI got to the point where all I did all day long was scream and scream and scream that I just personally didn\\'t like being in my house myself, so I could only imagine what my kids were going through.\\nShe\\'s like, \"Okay, Parent 2, Friend 1 told me she\\'s busy today and she forgot.\\nRight, if Parent 2, Friend 1 goes here, I know she\\'s with Parent 2, Friend 2.\\nIf Parent 2, Friend 1 goes here, I know she\\'s with Parent 2, Friend 3, which means she lied to me.\\n\" But I\\'m like but the other day, her friend was asking her, \"Oh, you went to a picnic with these girls.\\n\" And he\\'s like, \"Yeah, well, maybe that\\'s not a good time for her to start since a lot of her anxiety is test anxiety and school anxiety, so maybe during the summer it wouldn\\'t be a good time.\\nYou have to like pay for $350 session where they don\\'t do anything, so [crosstalk 01:10:08] fill the prescription for you.',\n",
              "  'Parent 3': 'And it helped me to see what was his struggles in school, because right before the pandemic, he was having these issues and so it\\'s through him being home and seeing how he worked with the computer is how I was able to finally learn how he learns and what he likes.\\nYeah, the thing is like I have three children, as well, and one of them has ADHD and my son, I didn\\'t get his full results yet, but I do know he has dyslexia.\\nLike I said, because we were home, I was able to catch it, because I was working so many hours, I didn\\'t see he wasn\\'t reading well.\\nBut the management was so hard for them to keep them off the iPads, the computers because I felt so bad because they don\\'t have the social outside, I didn\\'t want to be the bad mom and say, \"Okay, stop, you can\\'t.\\nAnd then, my husband works at night, he comes, that was an argument in itself because he don\\'t know what to do, so his thing is like, \"Oh, I can\\'t do nothing,\" so he goes, so I\\'m angry at him, so I\\'m yelling every day.',\n",
              "  'Parent 4': \"Especially, through school, which I think has been good.\\nThe negative though, yeah, is the constant gaming.\\nBut he does wake up and every now and then, like I said, I'll wake up like 2:00 in the morning, and I'm like, you might hear him in the background now, which is the other thing I wanted to agree with Parent 2 about is, listen, their conversations when they're on these games are, can be outrageous sometimes.\\nWorkers, teachers, students, and one of the things I know that we talk a lot about at school is spending just those first couple months, just getting kids acclimated to just being back and socializing again and doing whether it's the circles and getting to know you activities and just different things like that and not, even though they are behind, there is some lag in terms of the academics, but catching up on that after we get them socialized first.\\nAnd not just the students, like I said, but also the parents and having workshops and things with parents and also for teachers.\\nI was just saying, is there any way that some of the things that you all offer can be brought into the school in some cases.\",\n",
              "  'Parent 5': 'The good thing is we started watching some TV shows at night making every like certain nights of the week we\\'ll watch something together as a family and at least we get to socialize with them, because if not, I forget that she\\'s even home sometimes.\\n\" My little one, I was doing work at 11:00 at night with him and I was telling the teachers, \"You can\\'t mark him late, I work all day, I work after school jobs and I\\'m on the computer all day, I can\\'t maintain him and he has an IEP with needs and they\\'re not being met.\\nI would definitely think you need some more counseling and cyberbullying because like Parent 2 was saying earlier, these kids don\\'t understand how they\\'re bullying and playing mental games with other kids because the way they talk or the way they lie to each other and now we can find out a lot of access.\\nAnd mentally, because like I said, emotionally, my son is in counseling in school and he never needed it.\\nNow he needs it because just the transition back into school was like, \"I want to stay home.\\nAnd now that he\\'s back at school, he\\'s passing and like I said, the teachers called me up and I cry to them because I don\\'t know what to do.'},\n",
              " {'Parent 1': ['screenshot like parent 2 said',\n",
              "   '24 year old girl',\n",
              "   'type -\" parent 5',\n",
              "   'number one concern would',\n",
              "   'different times every day',\n",
              "   'go back last week',\n",
              "   'parent 2 00',\n",
              "   'interact every day',\n",
              "   'three years ago',\n",
              "   '16 year old',\n",
              "   'set sleeping schedule',\n",
              "   'set sleeping schedule',\n",
              "   '00 moving around',\n",
              "   'specific sleeping time',\n",
              "   '11 ]. hi',\n",
              "   'could get along',\n",
              "   'less time spent',\n",
              "   'personally also think',\n",
              "   'parent 2',\n",
              "   'work good together',\n",
              "   'parent 5',\n",
              "   'like three minutes',\n",
              "   'see someone else',\n",
              "   'kids get used',\n",
              "   'last part',\n",
              "   'adjust back',\n",
              "   'parent 1',\n",
              "   'parent 1',\n",
              "   'parent 1',\n",
              "   'sleeping less'],\n",
              "  'Parent 2': ['gem dealer internationally',\n",
              "   'formalized learning would',\n",
              "   'friend 1 told',\n",
              "   'friend 1 goes',\n",
              "   'friend 1 goes',\n",
              "   'much social drama',\n",
              "   'even find anyone',\n",
              "   '28 ]. right',\n",
              "   '29 ]. well',\n",
              "   'friend 1 went',\n",
              "   'whole test anxiety',\n",
              "   'six weeks .\"',\n",
              "   'parent 3 00',\n",
              "   'thought online school',\n",
              "   '09 ]. especially',\n",
              "   'asking like accusingly',\n",
              "   'friends get mad',\n",
              "   'good time .\"',\n",
              "   'six weeks',\n",
              "   'goes back',\n",
              "   'friend 3',\n",
              "   'even came',\n",
              "   'friend 2',\n",
              "   'friend 2',\n",
              "   'crosstalk 00',\n",
              "   'crosstalk 00',\n",
              "   'parent 3',\n",
              "   'parent 3',\n",
              "   'parent 3',\n",
              "   '18 ].'],\n",
              "  'Parent 3': ['always upset every day',\n",
              "   'daughter started playing roblox',\n",
              "   'could get better help',\n",
              "   '10 year old',\n",
              "   'full results yet',\n",
              "   'yelling every day',\n",
              "   'reading scores increased',\n",
              "   'could find free',\n",
              "   '14 year old',\n",
              "   'would find ways',\n",
              "   'still working full',\n",
              "   'child 1 ’',\n",
              "   'money making things',\n",
              "   'everybody wants money',\n",
              "   'sisters would cover',\n",
              "   'social media issues',\n",
              "   'things like depression',\n",
              "   'children could kind',\n",
              "   'every day',\n",
              "   'every day',\n",
              "   'started reading',\n",
              "   'got better',\n",
              "   'could put',\n",
              "   'working full',\n",
              "   'social media',\n",
              "   'social media',\n",
              "   'always watch',\n",
              "   'always mad',\n",
              "   'always arguing',\n",
              "   'child 1'],\n",
              "  'Parent 4': ['two main negatives',\n",
              "   'whole teenage years',\n",
              "   'first couple months',\n",
              "   '17 ]. sorry',\n",
              "   'healthy brain offer',\n",
              "   'constant screen time',\n",
              "   'even taking pictures',\n",
              "   'made new friends',\n",
              "   'getting kids acclimated',\n",
              "   'notice students even',\n",
              "   'different things like',\n",
              "   'whole workshop',\n",
              "   'socialized first',\n",
              "   'sending pictures',\n",
              "   'new programs',\n",
              "   '25 ].',\n",
              "   '22 ].',\n",
              "   'every time',\n",
              "   'use technology',\n",
              "   'turned 18',\n",
              "   'still want',\n",
              "   'still texting',\n",
              "   'still coming',\n",
              "   'social media',\n",
              "   'separate desks',\n",
              "   'sel support',\n",
              "   'refer tons',\n",
              "   'parent 4',\n",
              "   'parent 1',\n",
              "   'navigate multiple'],\n",
              "  'Parent 5': ['night making every like certain nights',\n",
              "   'administrator :[ crosstalk 01',\n",
              "   'finally went back full',\n",
              "   'would get work done',\n",
              "   'gets crazy expensive',\n",
              "   'block certain things',\n",
              "   'extra tissues .\"',\n",
              "   'three counselors privately',\n",
              "   'playing mental games',\n",
              "   'every day crying',\n",
              "   '49 years old',\n",
              "   '15 year old',\n",
              "   'watch something together',\n",
              "   'would definitely think',\n",
              "   'made new accounts',\n",
              "   '08 ]. yes',\n",
              "   'like parent 2',\n",
              "   'town hall meeting',\n",
              "   'even home sometimes',\n",
              "   'submit questions prior',\n",
              "   'stay home .\"',\n",
              "   'stay home .\"',\n",
              "   'graduated high school',\n",
              "   'like two years',\n",
              "   'really appreciate everything',\n",
              "   'went back',\n",
              "   'probably would',\n",
              "   'working full',\n",
              "   'back full',\n",
              "   'met .\"']})"
            ]
          },
          "metadata": {},
          "execution_count": 118
        }
      ]
    },
    {
      "cell_type": "code",
      "metadata": {
        "id": "yFyrYTh-j8FX"
      },
      "source": [
        "imp_dial_parents = doc_preprocessing(list_of_docs[5])\n",
        "# Summary (0.5% of the original content).\n",
        "#summ_per = [summarize(dialogue, ratio = 0.1) for dialogue in list(imp_dial_parents.values())]\n",
        "# Summary (200 words)\n",
        "#summ_words = [summarize(dialogue, word_count = 200) for dialogue in list(imp_dial_parents.values())]"
      ],
      "execution_count": 111,
      "outputs": []
    },
    {
      "cell_type": "code",
      "metadata": {
        "colab": {
          "base_uri": "https://localhost:8080/"
        },
        "id": "HTq3ROAKkhsy",
        "outputId": "17dd4870-e0ab-49f4-82ef-7f7182db5d8d"
      },
      "source": [
        "list(imp_dial_parents.values())"
      ],
      "execution_count": null,
      "outputs": [
        {
          "output_type": "execute_result",
          "data": {
            "text/plain": [
              "['.Hi.Hi.I\\'m like, \"Why don\\'t I see someone else.\"Parent 2:Hi, I\\'m [Parent 2 00:09:11].Hi, I\\'m Parent 1.I guess we\\'re the only two here.Oh, right, right, right.Hi.Hello.I\\'m going to get something to put the phone in.Hi.Hi, my name is Parent 1.I am the mom of three.I have my oldest son is 26.I have a 24 year old girl and then my youngest one is 16, Parent 1, Child 1.We have to write it.I have to get up for a second, get a pen.Okay, I\\'ll go.Oh, I\\'m sorry.I think.All right, so for my 16 year old, before the pandemic, we had a set sleeping schedule.His grades were good, but there was a set sleeping schedule.During the pandemic and after the pandemic, that basically was interrupted and I was trying to over compensate for the amount of time being in the house and the lack of socialization with his friends, so the sleeping time was interrupted and it has continued.At this point, basically he goes to sleep whenever he\\'s really tired.One thing, that was one of the negative things that I, negative changes that we\\'re going through since the pandemic.I would say he became more introverted than before.One of the positive things has been his grades.Even though there hasn\\'t been a lot of interaction or he still remains at school from home, so home schooling.The grades have actually improved.He\\'s a high honors, though we did have the option to go back last week, five days a week.I chose to keep it the way it is to finish the year only because he has improved his grades and I want him to end the year with the grades that he has now.Overall, the sleeping is like he\\'s sleeping less, the grades are higher.There\\'s less time spent with the friends but they do interact every day over text or over the games.And more online time.But overall, it\\'s okay.My son is going through the same thing.The time spent in the room, it has come to the point that he\\'s basically having all meals in the room because either he only has a certain amount of minutes, like three minutes, according to him, to have breakfast before he starts class.Lunch, they have different times every day, so by the time I ask him what\\'s today\\'s time for lunch. I\\'m preparing lunch, so basically he has to eat in his room.And dinner, just like what\\'s your name.I mean, it\\'s a period that has affected everyone and at home, us parents, we have tried, like in my case, I\\'ve tried to, like I said before, overcompensate with giving him the free time to be online for as long as he wants, staying up until whenever he gets tired.That has created a problem in my house because I have my daughter who is right next to him and the bed basically is just divided by the one wall.They are separate rooms, but everything that happens in his room, every conversation, every movement, she could hear it.And then, that\\'s why we always had a specific sleeping time so that it was good for everyone.Now, that has become a problem because she has to be up at 6:00 and if he stays up until midnight, 1:00 moving around, she is constantly saying, \"Tell him to be quiet, tell him I need to go to sleep.Tell him.\" That has created a problem, but I think in every household, we as parents, we try to overcompensate the fact that they were not interacting with their friends, they\\'re not having physical activity, they\\'re not outside, so we just let them get away with basically just being online or playing games.One thing, yeah.I\\'m sorry.And I think also the fact that they are getting so used to relating to everyone through online.When they are together physically, I know for my son, they become more introverted because they\\'re so used to talking to each other through a screen, when they\\'re in person, there\\'s going to be less interaction, less conversation because they\\'re not going to feel as comfortable as they did before.Talking in person as opposed to talking from the comfort of your own private room.Yep, they\\'ve became pros.[crosstalk 00:42:01].Or they would, that\\'s the only time they get along.One of the girls distract me because I have the iPhone and screen time and I block their.One of them distract me and the other one, they work good together, and I\\'m like.All of a sudden, I\\'m like, \"I don\\'t remember I gave you permission to download that app.\" And it took me a minute to figure out how they\\'re doing this.And I was like, \"Oh, you all could get along when you all want to do something negative but all other times you are arguing, whatever.\" I said, \"I\\'m going to get you.\" But just the same as you, Parent 5, it was like, every time I would try to come up with a schedule, and you always have someone to tell you, \"Oh, this is what you need to do, because you don\\'t have no control of your kids.\" So then, I\\'m like, \"Okay, I\\'m going to have control.\" These kids get used to things and they shit, and I\\'m like, \"I\\'m done.\" I don\\'t know what to do anymore.Sleeping early and then one wake up in the middle of the night, \"Oh, I can\\'t sleep.\" And then, all of a sudden, all three of them is in my bed.And then, I have a crook in the neck, it\\'s like they find ways for me to change the rules.Certain things I\\'ve been good at keeping like, \"No, you all not going to switch up on me.\" But many of it has been hard throughout the pandemic to keep consistency.Very difficult.I always tell my son, \"Anything you type-\"Parent 5:Don\\'t say anything you don\\'t want it to be [crosstalk 00:49:34].And just for anyone to take a screenshot like Parent 2 said and then send it around.And the one person that you didn\\'t want to see it, it\\'s going to get to that person, so just make sure you don\\'t type anything.Even if you delete it, don\\'t send anything that you don\\'t want to get you in trouble.In person, relationships that they will be having, I don\\'t think they\\'re going to feel as comfortable talking in person.At least, in the beginning, as they do now behind a screen from the comfort of their house, they feel protected from their rooms, so they feel like they can say anything and it\\'s not going to go anywhere because when they don\\'t want to see it, when they don\\'t want to hear it, they just turn it off.But when you\\'re in person, with the other person in front of you, I think that\\'s actually going to, a lot of the kids are just going to become, are either going to be too shy or too introverted.I think it\\'s going to take them some time to adjust back to how it was before, before he pandemic.My camera was interrupted, so I just heard the last part where you said the clothing.Did you say they were not dressing up during the pandemic.And then, I know that\\'s another thing that I personally also think of.Being at home, it\\'s all sweatpants and pajamas all day.But going back to school, that they need to wear uniforms where my son goes to school, so that in itself it\\'s work, extra work for me.Washing the uniforms, ironing the uniforms on a daily basis.I don\\'t mind if it gives him a positive outcome.But when it comes to also, yeah, dressing, that has taken a turn, as well with the way they feel comfortable now.Even when we go anywhere, he only wants to dress the same way as he dresses at home.I know that I also feel the same.My son went through all the studies about three years ago through the Healthy Network.And I wanted to call and see what else is offered in terms of getting help for him in terms of being in turn that the pandemic has the impact on his emotions emotionally, mentally and even physically.Because, spending so much time in a room on a bed, he\\'s not even sitting on a desk.Everything is done from the bed only because of the comfort.Oh, I\\'m sitting here, my legs are straight, so there\\'s no need for me to sit up on a chair.The interaction, the emotional, mental, so I actually wanted to know if there\\'s anything else that is offered just so that we can get the information.To me, the number one concern would be social anxiety.The way, like I said, the turn that the pandemic has, or the impact on the way I see, it\\'s next door to you.That to me would be one of the major things and something I would like to get some type of help on the social anxiety.Thank you for having us',\n",
              " 'Hello.Hi.Well, [Parent 3 00:09:19], I know now.There\\'s Parent 3.Anyone help you with the courses.Sure.Good afternoon.I\\'m Parent 2.I have two kids.I have a son who\\'s 18 and then the daughter that I guess we\\'re talking about today, who is 13.I am a marketing consultant and I\\'ve not seen Them, but I just finished Serpent on Netflix.It was very good, based on a true story about a gem dealer internationally who murdered.For me, the positive is that she\\'s able to connect with her friends.Especially, because she wasn\\'t allowed to see them for a lot of the pandemic.I thought online school, they did a good job.And by being online, I think she learned a lot of stuff.Negatively, as everyone said, she\\'s up to all hours of the night talking with her friends.And then, of course, I\\'m the bad mom because I\\'m the only one at midnight who\\'s like, \"Get off the device.\" And the other part is she gets very sucked in to one, Roblox.Tiktok and videos and literally, it\\'s like she\\'s a zombie and when I ask her to do something, and she doesn\\'t respond and it\\'s annoying.And also, because she\\'s with her friends online and doing everything, she\\'s been spending a lot of time in her room, so she\\'ll rush through dinner so she can get back to being on the devices.But yet, this is her only interactions, so it\\'s hard to say no.I agree with you there.I got to the point where all I did all day long was scream and scream and scream that I just personally didn\\'t like being in my house myself, so I could only imagine what my kids were going through.And it just got to the point where I gave up with school, I didn\\'t care, so if they went on the electronics from the time they woke up \\'til the time they went to bed, I was done.I\\'m just tired of screaming and being the mean person.It just has been hell.I\\'ll say that only one thing that\\'s been an advantage with the friends that the friends have become more of a support system.And that\\'s been a positive.Because my daughter has anxiety.And pre-pandemic, I felt that every time she had homework, I mean not that I had to do it with her, but I had to sit there and she needed me for the confidence.And I wasn\\'t necessarily helping her, I was just wasting my time.And now, the friends have taken that role, so that is a positive that she has now a support system with the friends.Yeah, then the other part, I don\\'t know if it\\'s Instagram or one of those, she sees the little icons of people.She\\'s like, \"Okay, Parent 2, Friend 1 told me she\\'s busy today and she forgot.\" I guarantee you, [crosstalk 00:46:28].Right, if Parent 2, Friend 1 goes here, I know she\\'s with Parent 2, Friend 2.If Parent 2, Friend 1 goes here, I know she\\'s with Parent 2, Friend 3, which means she lied to me.And sure enough, Parent 2, Friend 1 went to Parent 2, Friend 2\\'s.And it\\'s so much social drama that we did not have.If somebody went out on a Friday night with friends, Monday morning, I don\\'t think it even came up.And the kids are stupid, too, because they\\'re lying about to their friends, and their friends know they\\'re lying.And then, the friends get mad at them and then they\\'re like, \"Oh, I\\'m sorry, I\\'m sorry.\" But I\\'m like but the other day, her friend was asking her, \"Oh, you went to a picnic with these girls.\" And she was asking like accusingly.And I\\'m in the background, my daughter was going to kill me, I\\'m like, \"Oh, like when you were in Florida and you blew my daughter off.\" I\\'m living through this drama and it\\'s not.it\\'s this media.It\\'s terrible.Don\\'t tell me that.They do that.And then, send it to somebody else to say, \"So and so was talking about you.\" Screenshot!Parent 4:Yep, they do.[crosstalk 00:49:29].Well, one thing that I\\'m interested in, because she\\'s been doing her school from home and the tests have been from home, her whole test anxiety of walking into the room, sitting down at the desk, having the you know, hasn\\'t happened this year because.and math, that a lot of times she has this one on her lap.I\\'m concerned when she goes back and she\\'s in eighth grade and it\\'s going to be more demanding and she still has test anxiety.And so, anything that you can provide to help with that transition back to school and all the anxiety of more formalized learning would be great.Parent 3, [crosstalk 01:07:18].And see, it\\'s to your guys\\' point, it\\'s very expensive.But I can\\'t even find anyone.Because of the pandemic, everybody who people recommend, is booked.Booked, booked, booked.And then, the one guy is like, \"Oh, well maybe in six weeks.\" I\\'m like, \"But in six weeks, it\\'s summer.\" And he\\'s like, \"Yeah, well, maybe that\\'s not a good time for her to start since a lot of her anxiety is test anxiety and school anxiety, so maybe during the summer it wouldn\\'t be a good time.\" And I\\'m like, \"I just want at this point, to have someone lined up for August for her to start with.\" Because, she\\'s taking medication and she\\'s like, \"What is this medication doing.\" Because, she\\'s still full of anxiety, she\\'s picking at her feet.And no one is available.I mean-Parent 3:No one.[inaudible 01:09:09].Especially, with the medication.You are right.You have to like pay for $350 session where they don\\'t do anything, so [crosstalk 01:10:08] fill the prescription for you.I mean, it\\'s such a waste.That\\'s a psychiatrist, not the therapist.That\\'s just someone who has the ability to write the prescription.Exactly.And they\\'ll charge you and if you don\\'t talk to them, you don\\'t get the prescription.Thank you, have a good day, guys',\n",
              " 'Hey.Hi.I was just running up and down with the kids.Wait.I didn\\'t know we had to.I have three kids, by the way.I\\'m not only Parent 3, Child 1’s mom, but Parent 3, Child 1 is my last child.I have two others, a 14 year old, a 10 year old.Two girls and Parent 3, Child 1 is the only boy, and he\\'s the last.Yeah.Oh, go ahead.You could go, Parent 1, it\\'s okay.Okay, so my positive was, no, my negatives were bedtime issues, sneakiness, of course, with of the iPad, like he would just be in certain areas and just trying to control the games that he\\'s on and if he\\'s meeting strangers.Those took a lot of, a little the work with me to manage that.But the positive is he started reading more and to help me with him not meeting strangers, my daughter started playing Roblox with him, so that was a plus.That kind of would help me to understand what game he\\'s playing and so forth.And it helped me to see what was his struggles in school, because right before the pandemic, he was having these issues and so it\\'s through him being home and seeing how he worked with the computer is how I was able to finally learn how he learns and what he likes.Because he tends to keep things to himself.That was the positive.That\\'s it.Yeah, the thing is like I have three children, as well, and one of them has ADHD and my son, I didn\\'t get his full results yet, but I do know he has dyslexia.I don\\'t know if ADHD is on top of it.Like I said, because we were home, I was able to catch it, because I was working so many hours, I didn\\'t see he wasn\\'t reading well.He faked it and he was able to cover it from me.And his sisters would cover him because they would help him with homework.And I guess through their frustration, they would do it for him or give him the answers.That helped, even though that was a big fight because he fought with me every day, he didn\\'t want to work.But his reading scores increased, he got better.But the management was so hard for them to keep them off the iPads, the computers because I felt so bad because they don\\'t have the social outside, I didn\\'t want to be the bad mom and say, \"Okay, stop, you can\\'t.\" And it just, I didn\\'t have the energy to tell them, to always watch over them because I am still working full-time at home.And so, working full-time then teachers calling me, \"Oh, they don\\'t see him on the screen.\" It was a lot.And then, my husband works at night, he comes, that was an argument in itself because he don\\'t know what to do, so his thing is like, \"Oh, I can\\'t do nothing,\" so he goes, so I\\'m angry at him, so I\\'m yelling every day.And so, I wasn\\'t happy any more and my attitude just changed.I just was always upset every day.I was always mad, and always arguing, and so this was how it was for me every day for a while.There\\'s a little change now, but that\\'s because I decided, I don\\'t care.I had to just stop.I was going to lose my mind.That\\'s how it went.Yeah, mines is 14.I think my concern is like it\\'s not so much as that.I think for the social part, over the years, they\\'ll come back.It may not be as how we grew up, it is going to look different.No matter what, because there was social media from the get go, there was already issues with social interactions, I think.This has just made it worse, but I think it was going to be like this no matter what.But what I do believe is going to happen, what I have received from this is my older daughter, she was able to kind of see what is due, what\\'s not due.I felt that having it on the computer and being able to visually see it, also with me knowing what they were learning, it helped me to kind of know how I can help them.Because the other way with the paper and allowing the kids to write it, it was so hard for me to connect.There was a flexibility of learning so that my children could kind of do the work where they can, you know, oh, I\\'ll catch up when the, after school.That flexibility helped them to give their best when they can.And so, going back, I think they\\'re going to lose that.That is what I see would be a issue.But with the social media, I had social media issues before the pandemic, during, it\\'s going [inaudible 00:55:00] from my household.Especially, with the girls.Especially, the girls.But I do like the computer but for me, I realize I know what all my children was doing before I\\'d have access to that information unless I went to school and the teacher told me.And I\\'m a visual person, because even if they tell me, it\\'s not clicking.Whereas, when I was able to go on the computer and I see, okay, oh, that\\'s what they\\'re doing.How are they doing it. It helped me to know, okay, you know what. I can\\'t teach you that, you need a tutor or I would find ways to help them so they could get better help.That was one of the things that I was struggling with for my middle daughter, Parent 3, Child 2.I just, I needed someone, and then she needed counseling.And even before the pandemic, it\\'s like it was hard to get a program for her for several reasons.If they were near my home, they won\\'t take my insurance.And those that are far, I have to work so I would have to take days off to go to her sessions.Even right now, even through the pandemic, I was like, \"Okay, I heard they were doing a lot of these online.\" I said, \"That\\'s great, I could put her on.\" I couldn\\'t get through and I\\'m like, \"What is it that I\\'m doing wrong.\" And it\\'s like for children, it was like so it\\'s too hard to get them counseling or for her, I wanted her to do CBTs and to be able to get her medication that her doctors don\\'t want to give it to her.I had to stop giving it to her because it was just getting messy.And those are the things I\\'m struggling with.And the ones that do have the time, they don\\'t take my insurance so it takes boku of money that I don\\'t have to pay for it.That has been my biggest challenge.I can\\'t even get my daughter to get her medication again, that\\'s how bad it is.She\\'s suffering, and I don\\'t know how to help her.And I know it\\'s going to make her.It\\'s creating other things like depression and anxiety that it\\'s so unfair.And I even told her doctor.Her doctor was like, \"Well, I\\'m not a psychiatrist, so I don\\'t want to offer it.\" And it\\'s hard.Everybody wants money only, when it comes to these kids.Because if they see some money making things, so everybody just, \"Oh, I\\'m not going to give this for free.\" I could find free for my age, but not for the children.I don\\'t know.They won\\'t talk to you for more than five minutes.Thank you',\n",
              " 'Wait, say that, oh, wow.Oh, my goodness.Them.The show Them, I watched that recently.That was a lot.I have to apologize, my camera\\'s been acting up all day today.I\\'ll just say the positives for Parent 4, Child 1 has been that he\\'s been able to communicate with his friends, he\\'s made new friends with gaming.And he\\'s learned to navigate multiple, new programs.Especially, through school, which I think has been good.And just how to use whether it\\'s the Schoolology or the music programs or the.In that sense, it\\'s been great and I think that\\'s something he can take, as well as other kids, too, be able to take with him moving forward.The negative though, yeah, is the constant gaming.And the I\\'m going to stay up while I know you\\'re sleeping at 2:00, 3:00 in the morning and get online.That has been a negative.And then, just the constant screen time I think is not that great for their eyes, in general.Those are my two main negatives.I don\\'t think I have, I don\\'t know if I have a third one.But the gaming and just the how it affects their eye.I totally agree with what you\\'re saying, Parent 1.And I do try to set a bedtime and make sure my son\\'s in the bed before I go to bed.But he does wake up and every now and then, like I said, I\\'ll wake up like 2:00 in the morning, and I\\'m like, you might hear him in the background now, which is the other thing I wanted to agree with Parent 2 about is, listen, their conversations when they\\'re on these games are, can be outrageous sometimes.And so, my thought now is, he\\'s gotten used to this.When they go back to school, is this something that, is this kind of conversation or interactions, are they going to continue in person. Or is this just a gaming thing. Right. Or I\\'m just curious like how is that going to play out. I hope to goodness not.And working in a school with students, I work with all the students with that because a lot of them are on these games and they\\'re talking, oh, the language, sometimes.Go ahead.That\\'s true.Yeah.That might be house party.Yeah, my daughter is 20 now, but even before this, because like I said, she\\'s 20.Throughout those whole teenage years, some of the same things were still coming up.They weren\\'t on Instagram, Facebook, they were on other sites.And I would say at least for me, it didn\\'t slow down until she turned 18.And that\\'s when things began to kind of like mellow out.Yeah.[crosstalk 00:48:17].Sorry.[crosstalk 00:48:22].It\\'s a lot of drama, and I just did a whole workshop with my students who are 11.Some of them are 12, on just that, social media and drama.Because every time I have these sessions with some of my.it\\'s particularly with the girls.It\\'s always about who\\'s saying what to who.And now, they\\'re even taking pictures and sending pictures of other friends to other people and it\\'s just and it\\'s like guys you can\\'t.It\\'s not even legal, I don\\'t think.And I notice students even in the class now, though, those who are in the building, they\\'re still texting each other.It\\'s going to be interesting to see how classrooms are going to be run.Because some teachers are saying they still want to use technology, as we\\'re talking about reopening, and is that still going to limit that socialization. Because then, they sit there on the WhatsApp and chat with each other even though they\\'re sitting in the same room.And yes, they\\'re at separate desks, but they just they chat that way.[crosstalk 00:53:25].I agree, too.My son will run around in pajamas all day, every day, and even when it\\'s, \"Oh, run the trash out.\" He\\'s running out in his pajamas.I do think it is going to be a process of going back for all of us.Workers, teachers, students, and one of the things I know that we talk a lot about at school is spending just those first couple months, just getting kids acclimated to just being back and socializing again and doing whether it\\'s the circles and getting to know you activities and just different things like that and not, even though they are behind, there is some lag in terms of the academics, but catching up on that after we get them socialized first.And not just the students, like I said, but also the parents and having workshops and things with parents and also for teachers.I know for us, for at least our school, we refer tons of families to you guys.And then, we try to look at some of the workshops and things that whether it\\'s Child Mind or Healthy Brain offer and put that out there.Because that\\'s what we\\'re going to need, just a lot of that SEL support.Oh, okay.I was just saying, is there any way that some of the things that you all offer can be brought into the school in some cases. Because I know sometimes with our family, it\\'s just hard to maybe get there, or they can or if maybe there\\'s, I don\\'t know.If there\\'s some kind of liaison or something who can actually, physically once we are in, could be there to help.Thank you so much.Have a good day.Bye-bye',\n",
              " 'Okay, I\\'m sorry.I\\'m on my phone because I can\\'t figure out my daughter\\'s password on the computer, she changed it again and she\\'s not home, so I apologize.My name is Parent 5, I\\'m a mom of three.I have, my daughter is 15, my son is 13, and my little one is 10, my second son is 10.I\\'m a para for the Department of Education in Staten Island and I don\\'t know.But I\\'m going to check out Serpent on Netflix.Yeah, so, was there anything else I need to say.Because I missed the beginning.Okay.I agree with the time in the room.My 15 year old, my oldest, she was struggling with it and we call her in her cave, like you need to get out of your cave, you need to get out of your cave.The good thing is we started watching some TV shows at night making every like certain nights of the week we\\'ll watch something together as a family and at least we get to socialize with them, because if not, I forget that she\\'s even home sometimes.I don\\'t even know she\\'s there because she does not leave her room.Socialization has been a tremendous thing.My boys are in junior high, they finally went back full-time and yes, I sent them back full-time because I couldn\\'t wait for them to go back, remote didn\\'t work for them.And being a stay at home mom, being a working full-time at.is not the most convenient thing with three children.I became dependent on the Internet, like, \"Just take your iPad, go do something on your iPad.\" My little one, I was doing work at 11:00 at night with him and I was telling the teachers, \"You can\\'t mark him late, I work all day, I work after school jobs and I\\'m on the computer all day, I can\\'t maintain him and he has an IEP with needs and they\\'re not being met.\" He would get work done at 11:30 at night, so bedtime was a joke.It was like he could sleep all day because he\\'s out of my hair.And his academics, we\\'ll do at night with him.And my middle one didn\\'t do any academics that when he went back to school, he was just crying, \"Please let me stay home, please let me stay home.\" And I was just like, \"No, go to school.Goodbye, go to school crying, here\\'s some extra tissues.\" Call me cold and heartless but he needed to go back, and now he\\'s fine and he\\'s adapted to it.But two weeks of every day crying, \"Please don\\'t send me back to school.\"Internet, like I said, it was good for me, it was a babysitter when I needed them out of my hair so I can do my job.But it\\'s killing me.It\\'s ruining this generation completely.I think a negative on the Internet, too, is that these kids have figured out how even though you block certain things, they\\'ve made new accounts and new ways to get into things that it\\'s just to the point where I don\\'t block anything just because I figure at least, even if it\\'s inappropriate, at least I can monitor what it is and then talk to them about why it\\'s not appropriate.Why you shouldn\\'t do things like that, why you shouldn\\'t be on a site like that, what can happen to you.I\\'ve made them more aware of things like that, which is stuff I probably would not have talked to them about in the past.Yep.It\\'s so hard, so hard.I think the teachers are afraid to call my house anymore because I just break down emotionally to them, because I can\\'t handle it.If I can\\'t handle it at 49 years old with three kids, how am I expecting my three kids at their ages to handle this.Or Snapchat, they can find their locations, yeah.Was that when she graduated high school.But you know, they see it on TV.Everybody, if something happens, everybody\\'s quick to pull their cameras out.Nobody\\'s quick to step in, it\\'s just oh, pull your camera out and record it, so you could post it.That\\'s all they want to do is get other people in trouble now.But that\\'s [crosstalk 00:49:15].That\\'s pretty much.[crosstalk 00:52:30] the opposite.He\\'s so introverted, since she\\'s been home, she\\'s not like this.She\\'s normally out, bubbly, she enjoys everything she can.She joins this, I feel more like her chauffeur after school.She\\'s into everything.Here, she\\'s in the house, she never leaves her room.It drives me nuts.Drives me, she can\\'t.go back to see people and human beings.I would definitely think you need some more counseling and cyberbullying because like Parent 2 was saying earlier, these kids don\\'t understand how they\\'re bullying and playing mental games with other kids because the way they talk or the way they lie to each other and now we can find out a lot of access.Because it really is something that\\'s hitting everybody, whether it\\'s boys or girls, because I have both and it hits them both.And mentally, because like I said, emotionally, my son is in counseling in school and he never needed it.Now he needs it because just the transition back into school was like, \"I want to stay home.\" And he\\'s a straight A student that was failing.And now that he\\'s back at school, he\\'s passing and like I said, the teachers called me up and I cry to them because I don\\'t know what to do.I can\\'t sit down and do his work for him.You know. But this is really, I mean, listen, you got people to help us with mental and emotional, I\\'m onboard.I got three, I\\'m onboard.And parents will take it, too.It\\'s tough.There\\'s not a lot available.There really is not a lot available.I know in Staten Island, they have the Jewish Board.You have to wait months for an appointment.They make an appointment and that\\'s just to kind of evaluate you.And then, they\\'ll call you when they have somebody available.I\\'m still on the list from like two years.And my son has been to two or three counselors privately with my insurance and it gets crazy expensive and honestly, useless.Just a quick question about the town hall meeting.Will we be able to submit questions prior to it so that they could be like some of the other town halls from the schools and stuff, that they usually say, \"Oh, we\\'re going to have a meeting, you can submit some questions that we\\'ll address during the meeting.\"Administrator:[crosstalk 01:12:08].Yes.Okay.Thank you.I really appreciate everything you guys do.You are a help']"
            ]
          },
          "metadata": {},
          "execution_count": 90
        }
      ]
    },
    {
      "cell_type": "code",
      "metadata": {
        "colab": {
          "base_uri": "https://localhost:8080/"
        },
        "id": "TLteiob0kmyG",
        "outputId": "e8b57c63-b458-46b3-8afd-54a7f5482561"
      },
      "source": [
        "len(list(imp_dial_parents.values()))"
      ],
      "execution_count": null,
      "outputs": [
        {
          "output_type": "execute_result",
          "data": {
            "text/plain": [
              "5"
            ]
          },
          "metadata": {},
          "execution_count": 91
        }
      ]
    },
    {
      "cell_type": "code",
      "metadata": {
        "id": "dzLjehcto29v"
      },
      "source": [
        "a =list(imp_dial_parents.values())[1]"
      ],
      "execution_count": 100,
      "outputs": []
    },
    {
      "cell_type": "code",
      "metadata": {
        "id": "qCqerY41yA2n"
      },
      "source": [
        "a=a.replace(\".\",\". \")"
      ],
      "execution_count": 103,
      "outputs": []
    },
    {
      "cell_type": "code",
      "metadata": {
        "colab": {
          "base_uri": "https://localhost:8080/",
          "height": 52
        },
        "id": "yejTO36GkvTw",
        "outputId": "e2d49c69-f79e-4156-8f52-e48129750e8d"
      },
      "source": [
        "summarize(a, word_count=100)"
      ],
      "execution_count": 105,
      "outputs": [
        {
          "output_type": "execute_result",
          "data": {
            "application/vnd.google.colaboratory.intrinsic+json": {
              "type": "string"
            },
            "text/plain": [
              "'I got to the point where all I did all day long was scream and scream and scream that I just personally didn\\'t like being in my house myself, so I could only imagine what my kids were going through.\\nShe\\'s like, \"Okay, Parent 2, Friend 1 told me she\\'s busy today and she forgot.\\nIf Parent 2, Friend 1 goes here, I know she\\'s with Parent 2, Friend 3, which means she lied to me.\\n\" But I\\'m like but the other day, her friend was asking her, \"Oh, you went to a picnic with these girls.'"
            ]
          },
          "metadata": {},
          "execution_count": 105
        }
      ]
    },
    {
      "cell_type": "code",
      "metadata": {
        "colab": {
          "base_uri": "https://localhost:8080/",
          "height": 135
        },
        "id": "UaFfCBd7lBuc",
        "outputId": "fb9ee36b-6452-443c-cc38-bf5851996c3f"
      },
      "source": [
        "list(imp_dial_parents.values())[0]"
      ],
      "execution_count": null,
      "outputs": [
        {
          "output_type": "execute_result",
          "data": {
            "application/vnd.google.colaboratory.intrinsic+json": {
              "type": "string"
            },
            "text/plain": [
              "'.Hi.Hi.I\\'m like, \"Why don\\'t I see someone else.\"Parent 2:Hi, I\\'m [Parent 2 00:09:11].Hi, I\\'m Parent 1.I guess we\\'re the only two here.Oh, right, right, right.Hi.Hello.I\\'m going to get something to put the phone in.Hi.Hi, my name is Parent 1.I am the mom of three.I have my oldest son is 26.I have a 24 year old girl and then my youngest one is 16, Parent 1, Child 1.We have to write it.I have to get up for a second, get a pen.Okay, I\\'ll go.Oh, I\\'m sorry.I think.All right, so for my 16 year old, before the pandemic, we had a set sleeping schedule.His grades were good, but there was a set sleeping schedule.During the pandemic and after the pandemic, that basically was interrupted and I was trying to over compensate for the amount of time being in the house and the lack of socialization with his friends, so the sleeping time was interrupted and it has continued.At this point, basically he goes to sleep whenever he\\'s really tired.One thing, that was one of the negative things that I, negative changes that we\\'re going through since the pandemic.I would say he became more introverted than before.One of the positive things has been his grades.Even though there hasn\\'t been a lot of interaction or he still remains at school from home, so home schooling.The grades have actually improved.He\\'s a high honors, though we did have the option to go back last week, five days a week.I chose to keep it the way it is to finish the year only because he has improved his grades and I want him to end the year with the grades that he has now.Overall, the sleeping is like he\\'s sleeping less, the grades are higher.There\\'s less time spent with the friends but they do interact every day over text or over the games.And more online time.But overall, it\\'s okay.My son is going through the same thing.The time spent in the room, it has come to the point that he\\'s basically having all meals in the room because either he only has a certain amount of minutes, like three minutes, according to him, to have breakfast before he starts class.Lunch, they have different times every day, so by the time I ask him what\\'s today\\'s time for lunch. I\\'m preparing lunch, so basically he has to eat in his room.And dinner, just like what\\'s your name.I mean, it\\'s a period that has affected everyone and at home, us parents, we have tried, like in my case, I\\'ve tried to, like I said before, overcompensate with giving him the free time to be online for as long as he wants, staying up until whenever he gets tired.That has created a problem in my house because I have my daughter who is right next to him and the bed basically is just divided by the one wall.They are separate rooms, but everything that happens in his room, every conversation, every movement, she could hear it.And then, that\\'s why we always had a specific sleeping time so that it was good for everyone.Now, that has become a problem because she has to be up at 6:00 and if he stays up until midnight, 1:00 moving around, she is constantly saying, \"Tell him to be quiet, tell him I need to go to sleep.Tell him.\" That has created a problem, but I think in every household, we as parents, we try to overcompensate the fact that they were not interacting with their friends, they\\'re not having physical activity, they\\'re not outside, so we just let them get away with basically just being online or playing games.One thing, yeah.I\\'m sorry.And I think also the fact that they are getting so used to relating to everyone through online.When they are together physically, I know for my son, they become more introverted because they\\'re so used to talking to each other through a screen, when they\\'re in person, there\\'s going to be less interaction, less conversation because they\\'re not going to feel as comfortable as they did before.Talking in person as opposed to talking from the comfort of your own private room.Yep, they\\'ve became pros.[crosstalk 00:42:01].Or they would, that\\'s the only time they get along.One of the girls distract me because I have the iPhone and screen time and I block their.One of them distract me and the other one, they work good together, and I\\'m like.All of a sudden, I\\'m like, \"I don\\'t remember I gave you permission to download that app.\" And it took me a minute to figure out how they\\'re doing this.And I was like, \"Oh, you all could get along when you all want to do something negative but all other times you are arguing, whatever.\" I said, \"I\\'m going to get you.\" But just the same as you, Parent 5, it was like, every time I would try to come up with a schedule, and you always have someone to tell you, \"Oh, this is what you need to do, because you don\\'t have no control of your kids.\" So then, I\\'m like, \"Okay, I\\'m going to have control.\" These kids get used to things and they shit, and I\\'m like, \"I\\'m done.\" I don\\'t know what to do anymore.Sleeping early and then one wake up in the middle of the night, \"Oh, I can\\'t sleep.\" And then, all of a sudden, all three of them is in my bed.And then, I have a crook in the neck, it\\'s like they find ways for me to change the rules.Certain things I\\'ve been good at keeping like, \"No, you all not going to switch up on me.\" But many of it has been hard throughout the pandemic to keep consistency.Very difficult.I always tell my son, \"Anything you type-\"Parent 5:Don\\'t say anything you don\\'t want it to be [crosstalk 00:49:34].And just for anyone to take a screenshot like Parent 2 said and then send it around.And the one person that you didn\\'t want to see it, it\\'s going to get to that person, so just make sure you don\\'t type anything.Even if you delete it, don\\'t send anything that you don\\'t want to get you in trouble.In person, relationships that they will be having, I don\\'t think they\\'re going to feel as comfortable talking in person.At least, in the beginning, as they do now behind a screen from the comfort of their house, they feel protected from their rooms, so they feel like they can say anything and it\\'s not going to go anywhere because when they don\\'t want to see it, when they don\\'t want to hear it, they just turn it off.But when you\\'re in person, with the other person in front of you, I think that\\'s actually going to, a lot of the kids are just going to become, are either going to be too shy or too introverted.I think it\\'s going to take them some time to adjust back to how it was before, before he pandemic.My camera was interrupted, so I just heard the last part where you said the clothing.Did you say they were not dressing up during the pandemic.And then, I know that\\'s another thing that I personally also think of.Being at home, it\\'s all sweatpants and pajamas all day.But going back to school, that they need to wear uniforms where my son goes to school, so that in itself it\\'s work, extra work for me.Washing the uniforms, ironing the uniforms on a daily basis.I don\\'t mind if it gives him a positive outcome.But when it comes to also, yeah, dressing, that has taken a turn, as well with the way they feel comfortable now.Even when we go anywhere, he only wants to dress the same way as he dresses at home.I know that I also feel the same.My son went through all the studies about three years ago through the Healthy Network.And I wanted to call and see what else is offered in terms of getting help for him in terms of being in turn that the pandemic has the impact on his emotions emotionally, mentally and even physically.Because, spending so much time in a room on a bed, he\\'s not even sitting on a desk.Everything is done from the bed only because of the comfort.Oh, I\\'m sitting here, my legs are straight, so there\\'s no need for me to sit up on a chair.The interaction, the emotional, mental, so I actually wanted to know if there\\'s anything else that is offered just so that we can get the information.To me, the number one concern would be social anxiety.The way, like I said, the turn that the pandemic has, or the impact on the way I see, it\\'s next door to you.That to me would be one of the major things and something I would like to get some type of help on the social anxiety.Thank you for having us'"
            ]
          },
          "metadata": {},
          "execution_count": 94
        }
      ]
    },
    {
      "cell_type": "code",
      "metadata": {
        "colab": {
          "base_uri": "https://localhost:8080/"
        },
        "id": "C7ybBKzPhO2f",
        "outputId": "8a30b81c-eaf5-43c6-f96a-a4992a010004"
      },
      "source": [
        "from rake_nltk import Rake\n",
        "\n",
        "import nltk\n",
        "nltk.download('stopwords')\n",
        "nltk.download('punkt')\n",
        "r = Rake()\n",
        "\n",
        "# Extraction given the text.\n",
        "r.extract_keywords_from_text(list(res.values())[0])\n",
        "\n",
        "# Extraction given the list of strings where each string is a sentence.\n",
        "#r.extract_keywords_from_sentences(all_d_comb_n)\n",
        "\n",
        "# To get keyword phrases ranked highest to lowest.\n",
        "r.get_ranked_phrases()[:30]"
      ],
      "execution_count": null,
      "outputs": [
        {
          "output_type": "stream",
          "name": "stderr",
          "text": [
            "[nltk_data] Downloading package stopwords to /root/nltk_data...\n",
            "[nltk_data]   Package stopwords is already up-to-date!\n",
            "[nltk_data] Downloading package punkt to /root/nltk_data...\n",
            "[nltk_data]   Package punkt is already up-to-date!\n"
          ]
        },
        {
          "output_type": "execute_result",
          "data": {
            "text/plain": [
              "['getting together socially outside yet',\n",
              " 'special ed teachers would come',\n",
              " 'play dates yet anymore',\n",
              " 'video game addiction thing',\n",
              " 'got special ed teachers',\n",
              " 'every single night playing',\n",
              " 'makes things taste good',\n",
              " 'general ed teachers',\n",
              " 'general ed teachers',\n",
              " 'child mind institute',\n",
              " 'general ed teacher',\n",
              " 'parent 2 mentioned',\n",
              " 'little tiny clips',\n",
              " 'wilson book programs',\n",
              " 'need outside help',\n",
              " 'parent 3 :.',\n",
              " 'would love help',\n",
              " 'moved far away',\n",
              " 'extra screen time',\n",
              " 'extra screen time',\n",
              " '10 minutes .\"',\n",
              " 'whole new life',\n",
              " 'missing entire homeworks',\n",
              " 'totally fine .\"',\n",
              " 'talk every day',\n",
              " 'really helped facilitate',\n",
              " 'totally different era',\n",
              " 'one negative thing',\n",
              " 'could easily take',\n",
              " 'would never lie']"
            ]
          },
          "metadata": {},
          "execution_count": 82
        }
      ]
    },
    {
      "cell_type": "code",
      "metadata": {
        "id": "uzgAvik4djht"
      },
      "source": [
        "res = doc_preprocessing(list_of_docs[7])"
      ],
      "execution_count": null,
      "outputs": []
    },
    {
      "cell_type": "code",
      "metadata": {
        "colab": {
          "base_uri": "https://localhost:8080/"
        },
        "id": "VZAXUuBmdoXi",
        "outputId": "f4b87ece-9e06-48c0-e245-2fd8ac2ba422"
      },
      "source": [
        "res"
      ],
      "execution_count": null,
      "outputs": [
        {
          "output_type": "execute_result",
          "data": {
            "text/plain": [
              "{'Parent 1': ' Hi!Administrator:Hi there.Hello.I\\'m good.Sorry I\\'m late.I can\\'t figure this out, so-Administrator:You\\'re actually on time, so-Oh, good!Administrator:That\\'s perfect.Hello.Hi.No, it\\'s Parent 1.It\\'s under my husband\\'s name and I couldn\\'t figure out how to change it on my.I\\'m not as savvy as my teenage son on computers.So I have two children.Two boys, one 13 and one eight.And a little dog that\\'s sitting on my lap.Hi! So, that\\'s it.I can go next.So what was the question. It was.So they never, definitely my eight-year-old, never used technology for school.They don\\'t even have homework at that age.My 13-year-old, he also has ADD, ADHD and he has an IEP and all that stuff.And so, he would do his homework at school.So I don\\'t even know what he\\'d used in terms of technology, but he didn\\'t use it at home.That\\'s for sure.And then afterwards, he had to use it for.It\\'s the same situation with the two screens, and he would have his Chromebook open doing school.And then I can\\'t helicopter him, so-Moderator 1:Right.Because I\\'m working full-time from home.So I\\'m jumping between mom hat, work hat.And so I go in there into his room and I have to keep the door open because then I can\\'t trust him.He sneaks it and he has another screen going.It\\'s like crack, it\\'s like a drug, like he has to have it.And I\\'m like, \"You don\\'t play at school, video games.So why would you think you can do it during school hours at home.\" And then he\\'s, \"Of course.Of course, Mom.\" And then he does it anyway.So there\\'s the sneaking.And really, I can\\'t put any limits on him because that\\'s not just for school.It\\'s also how they socialize.So he\\'s not seeing his friends at school.So how.Anyway, I think that before it was almost non-existence in terms of education.And then it was really just not effective at home because I couldn\\'t monitor it.And because of the ADHD, I think he had a really hard time just logging in to show that he was present for the class.So he had like 40 absences and I\\'m like, \"No, he didn\\'t have 40 absences.He was online.He did the work.I saw him online.He just didn\\'t check in.\" And so, it just ended up being one negative thing after the other.And he\\'s getting in trouble with his teachers and he missed assignments.And it was a nightmare.And the Chromebooks were really an issue.They\\'re not as capable as they should be.And they- [crosstalk 00:21:53]Moderator 1:In terms of what. In terms of being able to filter or block or- [crosstalk 00:21:57]In terms of what they can do.And the ease of use, too.And the filters.The filters, for sure.But also the ease of use.He should have been able to log into his Chromebook and then log into that class and boom! Automatically be counted as present.[crosstalk 00:22:09] But now, you have to go through seven steps to get there.Now he has to check the instant chats and the non-instant chats.I don\\'t know, just-Moderator 1:It\\'s a lot of extra responsibilities that are very independent and it\\'s.Yeah.[crosstalk 00:22:36]Yep.And I couldn\\'t figure it out, so how\\'s he going to figure it out. [crosstalk 00:22:38]Moderator 1:Right, yeah.And the social part is interesting, also, that you\\'re saying.That it also makes it hard to limit.I can\\'t take it away from him.I can\\'t take the drug away.That\\'s his only outlet, even now.That\\'s just how it.I don\\'t know if that\\'s how it would normally be anyway, just because of their age and the era that we live in.It\\'s a digital age, so maybe it would have been anyway, but-Moderator 1:Right, but it\\'s an extra complication, sounds like.All right.And extra screen time on top of extra screen time, so.That\\'s it.Sorry.Can you repeat that.Well, since I\\'m already muting, I think that going forward, it\\'s never, it\\'s not going to ever be the same the way it was.We\\'re in for the whole new life, basically.And I think that I\\'m not ever going to get my iPad back.That\\'s gone, so that\\'s a bummer.And I think that I\\'m going to see what I saw at the very end of the year when they went back.And I think I\\'m going to see that in the fall, meaning towards the end of the year, my son was failing out of school.And it was because I don\\'t think anybody was monitoring him.At least when he was home, I was monitoring him a little bit.Enough to be like, \"Did you do this. Did you do that.\"Well, I\\'m not a helicopter parent anyway, but I\\'m certainly not.I\\'m thinking that he\\'s got special ed teachers who keep him on track and make them write down what he needs to do at the end of every day.But I found out that he was missing entire homeworks, entire reports, and when I would ask him, he would, \"Oh yeah, no, I turned everything in.Everything\\'s totally fine.\" And then I get an email from the school saying, \"He\\'s got an F,\" Or \"He\\'s got a D.\" He\\'s missing these six things.And so I anticipate it\\'s going to be very similar to that.As Parent 2 mentioned with the dyslexia, my son also has dyslexia.He was just diagnosed, though.And it\\'s not the one where you flip the things.It\\'s a much more weird.I don\\'t know.Anyways, he\\'s doing the Wilson book programs.And so, and he has summer school because of it, because and he\\'s only on grade three, it\\'s really bad.And so, I mean, the guy can barely read, and even when he reads, he can\\'t comprehend.So I just feel like I\\'m already starting off with just a huge catch-up that is unrealistic.He\\'s not going to catch up.And so it\\'s going to take years to get there.And it\\'s going to take a lot of summer school, so.I mean, and I think that I actually anticipate that he\\'s going to need outside help and not just tutors, but people who are specifically trained in where he has deficiencies, with the ADHD and the focusing and the reading comprehension, and really, because he has to unlearn the way he learned and then relearn it a different way with the Wilson, that I think that I\\'m just anticipating a shit show.Another thing, everybody is going to struggle.It\\'s just our kids, who need a little bit more support, are going to have a very hard time.And not just, he\\'s going to get extra support through sports through the school, for sure, because I make sure it\\'s in his IEP.I fight for him, like nobody\\'s business.But he\\'s going to need even more outside support and including me, my husband, and that sort of thing.Absolutely, absolutely.I think I\\'m going to have to fight tooth and nail to get everything that he needs.And then I\\'m going to have to get a second job to pay for all of the tutoring he\\'s going to need, so.Yeah.That\\'s, I\\'m anticipating a [crosstalk 00:33:33].The other thing is it\\'s going to be hard for everybody.Well, I actually thought that they should repeat personally because I don\\'t think he learned anything.And I feel like we lost so much that I\\'m like, \"Why are we even moving them onto the grade that they didn\\'t even.\" Let\\'s just redo it.Everybody redo it.And then that\\'s just-Moderator 1:I\\'ve heard that argument.So anyway, Next.I\\'ll go.So I think that the teachers.It really depended on the type of teacher.The general ed teachers, I found, were less tolerant of any adjustments to the technology or to the timeframes of things.And they were just less flexible.And I think it\\'s because they were just overwhelmed with so many kids, plus so many kids with technology issues.And my boys didn\\'t have the same experience because I don\\'t have a girl.But I really, if I had been her, I would have been like, \"Oh my God, oh my God.\" I would have been like, \"Whoa, this is not good.Everybody\\'s seeing me.\" I would have flipped, so.But my kids are like, \"I have to shower, what.\" So I think that the general ed teachers were.I found some of them to be mean and just intolerant to any adjustments.And, but then the special ed teachers would come in and say, \"Okay, let\\'s deal with this.\" And much the way they do at the actual school in-person.And so, I felt that they really helped facilitate the situation.And also act as a go-between in between me, the general ed teacher, and [inaudible 00:42:49] and my kids, both of them really.And so, I think that because they had two teachers, that really helped a lot.But also, I would find they would just disappear.We would log into school, and they would be like, \"So-and-so is out.\" Okay.And they would be out for one day.\"So here\\'s an assignment.We\\'re not going to give you any instructions.\" Or \"We don\\'t have a teacher for you because we don\\'t have subs.So go do it.\"And that was very hard for them to understand that.And then you had also the ones who were like, \"Well, I\\'m out for whatever,\" or \"I\\'m sick.\" A lot of them did get sick, so they were out for a month.And so, in that case, if they had two teachers, the other one picked up the slack.But it was mostly just one day here, one day there, where it wasn\\'t anticipated.And so the kids were just sort of left hanging.And it was tough because they were like, \"Well, how do we do attendance if she\\'s not there. Or he\\'s not there.\" And it was just, Anyway, I think the teachers were frustrated, and that showed, that came through very much so.And honestly, they should have been frustrated.It was frustrating for everybody.So, that\\'s it.I\\'ll go.I think, first of all, we need to remember that it\\'s not the \\'80s, and we\\'re in a totally different era with or without COVID.I think that they are online all the time.And talk to adults who are young, much younger than us, but still in their 20s and things.And that\\'s how they live.They\\'re constantly online, be it for work and for gaming.And in some cases, I think that\\'s just going to be the new norm, and it\\'s not all bad because some gaming will teach you strategy and it\\'s conflict resolution and all sorts of things.I mean, you can go one way or the other.In terms of the gaming, though.I think that I\\'m seeing that my youngest, my eight-year-old is much more addicted than he ever was.Before.Yes, he had my iPad.Yes, but I could easily take it away from him.Now, it\\'s almost like the Chromebooks became a gateway drug to this whole, like a video game addiction thing.And both of my kids are complete addicts, complete.If I take it away from them, they will go through absolute withdrawals, to the point where I\\'m like, \"Whoa, this is not an appropriate reaction to what\\'s going on.\" And the world is ending apparently, if I turn off the internet, so.And so I think that because it\\'s sort of the Chromebooks came in and they figured out how to use them, and the teachers taught them how to use them.Now they\\'ve got all these skills that they can use for good or evil.And so they\\'re using it for both.And I do find my eight-year-old, who would never lie and sneak, sneaks the iPad, sneaks the video games.He still admits to it, but soon, he will not admit to it.And he will not say, \"Oh mom, last night I woke up, and I played the video.\" At some point, he\\'s going to start lying.My other one is I actually have to cut him off at the knees.I have to say, \"Everything\\'s being shut down in 10 minutes.\" Otherwise, he will be up until 3:00 AM, every single night playing, playing, playing.And so are all of his friends.That\\'s what I don\\'t understand.I\\'m like, \"Who are you playing with.\" And he\\'s like, \"All of my friends.\" And so they\\'re all.I don\\'t know what\\'s going on, but everybody is just constantly on video games.And that\\'s how they interact socially.And we\\'re not into play dates yet anymore, or them getting together socially outside yet.Maybe it\\'s because everybody tends to have younger kids.So they don\\'t want to expose those who are vaccinated.I mean, those who are not vaccinated to anything, which I totally get.And so they still need that for socialization.So I\\'m stuck, I\\'m stuck between both.And I think it\\'s just going to get worse, and I think we just need to embrace it and try and figure out what they\\'re really getting out of it in a positive way and emphasize that.And so, and I think there are a lot.I can\\'t think of all of them now, but I read an article that was just really, it was pro-gaming, and it was awesome.Because I was like, \"Oh, I never thought of that.\" The strategy and conflict resolution.And they had brothers who lived.Were really close, and then they moved far away from each other.But the one thing they had in common was video games, and they talk every day.That\\'s a good thing.And so I think there\\'s a lot of positives that people forget about.On the flip side, they need to be-PART 2 OF 4 ENDS [00:52:04]On the flip side, they need to be able to control it.And it\\'s hard.It\\'s almost like.It\\'s not like drugs, cigarettes, or something like that, it\\'s like sugar or caffeine.You can\\'t avoid sugar.You have to have a little bit of it, but you got to be able to control it.So, we could look at it like, sugar can be a good thing, sometimes it makes things taste good, but there has to be a balance and a way of figuring that out.And so, I would love help from the school and from Child Mind Institute.I just have a suggestion for everybody.My eight year old, he\\'s like a walking encyclopedia, and it\\'s because he\\'s been watching these YouTube videos and I.I got to fly around me, sorry.This is driving me crazy.And it\\'s called, he has learned so much and he can regurgitate it on the fly, because it\\'s called over-simplified.And it\\'s these little tiny clips of just oversimplified history, oversimplified explanations about things.And he introduced it to us.He\\'s eight years old.My 13 year old and I both like it and I learn stuff from it.I\\'m like, \"Wow, I\\'m a history major, no, I remember that\".But my explanation was dragged out and their eyes rolled into the back of heads in history class.But this oversimplified, you should guys should check it out.It\\'s really cool.When will we have the tips and suggestions on how to handle all this out.Thank you.PART 3 OF 4 ENDS [01:18:04]Parent 3:.As you can see, he\\'s not used to going to the office',\n",
              " 'Parent 2': 'Hi, I\\'m Parent 2.I have two kids, a boy and a girl.My son is 12.My daughter\\'s 10, almost 11.I guess, I don\\'t know.What else did you want to know in the introduction. Sorry.Sure.It\\'s pretty similar to what you guys are saying.My son is the oldest, he\\'s 12, so he didn\\'t really use technology much in school.He\\'s ADHD, as well as dyslexic.So purposefully, they avoided technology just for the process of writing is better.So he did use some apps for reading, like Learning Ally for reading and stuff.But basically, one positive thing is he\\'s definitely learned how to type, which is amazing.At first I would watch him.It was so tedious.It was painful.For him, some parts would have been positive, like learning to type, it actually helped him be a little more organized because all of his work was in Google Classroom instead of forgetting papers at school.And so, he would get a notification from his teacher that he had work to do, and it would be right there.It wasn\\'t something that he\\'d written and forgotten about or whatever.So in a lot of ways, it sort of helped him be a little more accountable because it was just in his face.I could look at it and see and help him.I don\\'t know if he says he didn\\'t have something, I could see that he did and it wasn\\'t just something that he forgot he had, right. The negatives are definitely what you\\'re saying, as far as being distracted and like.It was hopeless.I tried so hard in the beginning to keep him off of video games.But for him, it was a total distraction, but somehow he was able to manage to keep up with schoolwork.I don\\'t know how he did it, but he definitely did his schoolwork, in addition to watching videos while the teacher was talking, which makes no sense.It would drive me batty, but the same thing.I\\'m trying to work and I can\\'t stay on top of him.I tried all the screen time things, but then he would just find ways around it.The greatest one was figuring out that he had to have Google Docs.So he figured out how he could import his YouTube videos into Google Doc and watch them, even though I turned off YouTube.One day, I\\'m like, \"How is he watching that.\" And he even told me, he was like, \"Oh!\" Like he was so proud, but I was like, \"That\\'s great that you figured it out, but it\\'s-\" [crosstalk 00:25:52]Parent 1:That\\'s clever.So, besides that, I\\'m thinking.I mean, I think previous to this, he leaned towards the.PART 1 OF 4 ENDS [00:26:04]I mean, I think previous to this, he leaned towards being really hyper-focused on video games.But it was a little more manageable because we could draw the line.He didn\\'t need the computer or the iPad to do something, so we could take it away.But like you\\'re saying, the school, it\\'s how he socialized, how he did all of his schoolwork.So it was a little hard to sort of.But part of me realizes it\\'s his personality.So, in general, it\\'s something that we have to work on anyway because there\\'s always going to be the temptation of electronic.I mean, as adults, we still have to learn how to turn off all the other distractions and do our work, so.I mean his school, they made us feel better because they\\'re like, \"We\\'re dealing with all the kids.\" So it\\'s like, well, they\\'re well aware.So in a lot of ways, they changed some of their strategies to make things a little more interactive instead of a little less, sort of cut and dry, so they can engage them more, which helped somewhat, but.Anyways, so my daughter, I don\\'t know, she\\'s totally addicted to her device, which she didn\\'t.Well, we had a family iPad before, but then once this happened, she\\'s 10, almost 11.So we eventually.She has her own device so that she could do the school stuff and she\\'s addicted to it.But it\\'s been a little tricky for her because she\\'s definitely become.It\\'s hard to motivate her to do other things because it\\'s like.So the gratification is there.It\\'s so easy.I don\\'t know.I feel like that\\'s the hardest part is how do you scale back, isn\\'t it.She went back to school.And there\\'s not the excuse now.Her work isn\\'t on the device, so.I don\\'t know, but it\\'s been definitely hard to reel it in a little.One thing I would say sort of to add to both of these things is my daughter\\'s 10, and she\\'s in fifth grade.So one negative thing that I saw that her teacher actually helped with a little was I think it was a lot for them to have to stare at themselves on the screen all the time.My daughter started, I don\\'t know, worrying about things about herself, like \"My eyebrows are too.You can\\'t see my.\", all these crazy things.And it\\'s because she\\'s looking at all of her friends and herself straight on all the time.So it did become sort of a conversation with her teacher.And they were pretty strict at first about trying to get them to turn all their cameras on.But I think they became a little more lenient when they sort of realized that kids can have their camera off but still be paying attention, which is the case with my daughter, probably not my son.But my daughter definitely, she would be doing what she needed to do most of the time.But so I do think it kind of, I don\\'t know, it was this weird.She became a little more self-conscious, I think, I don\\'t know.But then it was interesting also to see the difference between my daughter\\'s teachers and my son\\'s teachers.He had way more daily, all the time classes in-person on Zoom.Whereas my daughter was a little more.She did have in-person, but it was, I don\\'t know, half the amount of time as him probably.So I don\\'t know.She had to work more independently than he did.I don\\'t know.I think as far as challenges, I think it\\'s more social.Right now, it\\'s hard to get my kids to.I don\\'t know.They feel like they\\'ve become hermits in some ways.So it is hard for me to get them to think outside of their video game box.You could give them a list of things to do and they can\\'t.I don\\'t know, they don\\'t seem to want to do anything, so I think that\\'s going to be the challenge.I mean, just really social, I think.We\\'ve had a lot of the same thing, but a few things.I sort of have a specific time, like the internet goes off.That way, it takes me out of it.Like they know, and then, I mean, they will ask for me to turn it back on or whatever, but it\\'s like, I don\\'t know.Because if it were up to me, I would forget, and it would be much later.So, that kind of helps a lot.The thing with my kids are, the different things they\\'re doing, lots of things are positive, Minecraft, all those things, but the most annoying thing are the YouTube videos of craziness that just keep going and going.It\\'s just such a mind numbing time-suck that my daughter gets into.I mean, so it really depends on what they\\'re doing, but it\\'s also difficult to always know what they\\'re doing, because they know how to get around everything.So, I don\\'t know, but the other positive thing is, my kids have definitely been playing games and things with their cousins who live on the west coast, in upstate New York, and their friends have become friends with their cousins on these.So, their circle is bigger and more connected through these.So, it\\'s really, really sweet to my daughter.Now, her cousin knows her best friend and it\\'s not just this person that exists.So, that\\'s good, but it\\'s definitely trying to do it in moderation and to be able take a break and do other things and be engaged in the conversation around you and not need it every second.Every break in the day doesn\\'t have to be video games, but I don\\'t know, it\\'s a battle',\n",
              " 'Parent 3': 'Oh',\n",
              " 'Parent 4': 'Hi, I\\'m Parent 4.I\\'m at work, so I\\'ll turn my camera on and off.So, sorry.I\\'m the mom of a 16-year-old boy and a 13-year-old girl.I can speak.So I- [crosstalk 00:17:26] Sure.So my 16-year-old, I don\\'t think that he.I mean, I guess they must\\'ve used technology before, but.I guess they used Google classroom and stuff, but not as much as they obviously did during the pandemic.They always had PupilPath and different things to, sort of, follow their assignments.But I think during the pandemic, my son, the 16-year-old, has ADHD.And so, he has two screens in his room.So on one screen, there\\'s a Zoom with his class.And on the other screen, he\\'s playing video games.And to me, it\\'s just very frustrating and it\\'s been.You can\\'t take technology away from them because they need it for school.So that\\'s been a very frustrating part of the whole experience.And he feels like he\\'s not really learning very much because, well, I mean, I would say it\\'s because he\\'s playing video games while they\\'re trying to teach him.But he says it\\'s just not conducive to his learning, so.Yeah.So I don\\'t know, I think that there were some good things, like with the Google classroom and stuff, I could, not that I did, but because he gets very upset if I try to stay on top of him.He was able to see what he was missing and everything.And so I think going back, I think that he has learned some executive skills that he didn\\'t have before, which is really good for somebody who\\'s 16 and theoretically will fly the coop in two years.I do think he has expressed the fact that he is looking forward to going back to school.Because he will not be allowed to play video games while he\\'s supposed to be listening to the teachers, so that\\'s a good thing.I do agree that he has not learned as much as he should have.And I think that the thing that I\\'m most worried about is his math because he\\'s supposed to go into pre-calculus next year, and I\\'m not sure he knows trigonometry or whatever he was supposed to learn this year.But we\\'ll deal with it, tutors, whatever if he gets into trouble.I\\'m not sure that I would agree with leaving everybody back because I do think.For my daughter, she\\'s much more high functioning than my son.And she had a 99 average between her classes and went to school and got all her schoolwork done and never handed anything in late.And meanwhile, my son had 20 missing assignments the day before school ended, and somehow he got it down to six.So, I think my daughter, I think she actually benefited because she\\'s a seventh-grade girl and seventh-grade girls are so mean to each other and the fact that they were at home and did not have to interact with all the other mean girls.I think that was actually good for her.So-Moderator 1:Yeah, that\\'s interesting.We\\'ve heard that, that some of the social pressure was lessened.And they didn\\'t have to deal with the social drama as much and could focus on their work a little bit.So have you felt that was true for your daughter.Yeah.And for my son too.I mean, my son was, I guess, I don\\'t know how much, whatever\\'s on, confidential.But the day before COVID hit, he was suspended for substance abuse in the school.And then he didn\\'t have to do his suspension.Because they were like, \"No, don\\'t come in.\" Because I\\'m a health care worker, and they\\'re like, \"No, no, she\\'s been exposed to COVID.\" So COVID was amazing because he was not allowed to interact with anybody for the first six months.And so he sort of was forced to deal with the substance abuse stuff and didn\\'t have access to it and all that, so that [crosstalk 00:37:34] was good.And now, I\\'m really worried about him going back because all those things are going to be there again.The social pressures and all that stuff.About teachers.I mean, so my kids have a lot of teachers because they\\'re in high school and middle school.So, there was definitely a wide range of responses.Some teachers handled things really well.And I have to say that at my son\\'s school, they were very lenient about handing in assignments late.And my daughter\\'s school.They were also trying to focus on sort of the kids who were not handing in assignments, which I thought was really nice of them.So, but there were definitely, there were some teachers who showed up every day and wanted the cameras on.I mean, I guess they all showed up every day, but there was definitely some people who allowed the kids.Like Parent 4, Child 1 would, sorry, my son would lay in bed for his first, for the morning of classes.And some of the teachers were like, \"Fine.He\\'s in bed.\" But some of the teachers were like, \"No, he has to sit up, and we have to see him sit up.\" Because he would fall back to sleep during some of the classes, so.But I think the teachers were all.But my kids go to these really progressive schools in the city.So I think that that had something to do with the fact that the teachers were very lenient and forgiving of all the craziness that was happening.No, I mean, I think my son was way addicted before COVID and is still as addicted to video gaming as he was before.No, I don\\'t.It\\'s sort of always impacted his academics.So, yeah, he\\'s had a problem with it for a while.I think one thing that I actually wanted to say that I didn\\'t bring up before about the social thing, my son actually had a girlfriend all from COVID.So, they\\'ve been together for the past 17 months or something.And for a while, they were like their own pod, and he went to her lake house and she would spend time with us.And now that things are opening up, he wants to spend time with his friends and she wants to spend time with her friends.And so, they\\'re having these issues that they haven\\'t had for the past 17 months with things that girlfriends and boyfriends probably should have learned how to navigate by this point in their relationship.So, I know that has nothing to do with video gaming, but I wanted to say it before, but I forgot'}"
            ]
          },
          "metadata": {},
          "execution_count": 78
        }
      ]
    },
    {
      "cell_type": "code",
      "metadata": {
        "colab": {
          "base_uri": "https://localhost:8080/"
        },
        "id": "KAmWTXRSduvH",
        "outputId": "80747250-e40c-43a9-a564-678f947ad155"
      },
      "source": [
        "list(res.keys())"
      ],
      "execution_count": null,
      "outputs": [
        {
          "output_type": "execute_result",
          "data": {
            "text/plain": [
              "['Parent 1', 'Parent 2', 'Parent 3', 'Parent 4']"
            ]
          },
          "metadata": {},
          "execution_count": 69
        }
      ]
    },
    {
      "cell_type": "code",
      "metadata": {
        "colab": {
          "base_uri": "https://localhost:8080/"
        },
        "id": "wvxyDHQPeA-z",
        "outputId": "29966415-c6a8-49f3-b557-520a886bef07"
      },
      "source": [
        "list(res.values())"
      ],
      "execution_count": null,
      "outputs": [
        {
          "output_type": "execute_result",
          "data": {
            "text/plain": [
              "[' Hi!Administrator:Hi there.Hello.I\\'m good.Sorry I\\'m late.I can\\'t figure this out, so-Administrator:You\\'re actually on time, so-Oh, good!Administrator:That\\'s perfect.Hello.Hi.No, it\\'s Parent 1.It\\'s under my husband\\'s name and I couldn\\'t figure out how to change it on my.I\\'m not as savvy as my teenage son on computers.So I have two children.Two boys, one 13 and one eight.And a little dog that\\'s sitting on my lap.Hi! So, that\\'s it.I can go next.So what was the question. It was.So they never, definitely my eight-year-old, never used technology for school.They don\\'t even have homework at that age.My 13-year-old, he also has ADD, ADHD and he has an IEP and all that stuff.And so, he would do his homework at school.So I don\\'t even know what he\\'d used in terms of technology, but he didn\\'t use it at home.That\\'s for sure.And then afterwards, he had to use it for.It\\'s the same situation with the two screens, and he would have his Chromebook open doing school.And then I can\\'t helicopter him, so-Moderator 1:Right.Because I\\'m working full-time from home.So I\\'m jumping between mom hat, work hat.And so I go in there into his room and I have to keep the door open because then I can\\'t trust him.He sneaks it and he has another screen going.It\\'s like crack, it\\'s like a drug, like he has to have it.And I\\'m like, \"You don\\'t play at school, video games.So why would you think you can do it during school hours at home.\" And then he\\'s, \"Of course.Of course, Mom.\" And then he does it anyway.So there\\'s the sneaking.And really, I can\\'t put any limits on him because that\\'s not just for school.It\\'s also how they socialize.So he\\'s not seeing his friends at school.So how.Anyway, I think that before it was almost non-existence in terms of education.And then it was really just not effective at home because I couldn\\'t monitor it.And because of the ADHD, I think he had a really hard time just logging in to show that he was present for the class.So he had like 40 absences and I\\'m like, \"No, he didn\\'t have 40 absences.He was online.He did the work.I saw him online.He just didn\\'t check in.\" And so, it just ended up being one negative thing after the other.And he\\'s getting in trouble with his teachers and he missed assignments.And it was a nightmare.And the Chromebooks were really an issue.They\\'re not as capable as they should be.And they- [crosstalk 00:21:53]Moderator 1:In terms of what. In terms of being able to filter or block or- [crosstalk 00:21:57]In terms of what they can do.And the ease of use, too.And the filters.The filters, for sure.But also the ease of use.He should have been able to log into his Chromebook and then log into that class and boom! Automatically be counted as present.[crosstalk 00:22:09] But now, you have to go through seven steps to get there.Now he has to check the instant chats and the non-instant chats.I don\\'t know, just-Moderator 1:It\\'s a lot of extra responsibilities that are very independent and it\\'s.Yeah.[crosstalk 00:22:36]Yep.And I couldn\\'t figure it out, so how\\'s he going to figure it out. [crosstalk 00:22:38]Moderator 1:Right, yeah.And the social part is interesting, also, that you\\'re saying.That it also makes it hard to limit.I can\\'t take it away from him.I can\\'t take the drug away.That\\'s his only outlet, even now.That\\'s just how it.I don\\'t know if that\\'s how it would normally be anyway, just because of their age and the era that we live in.It\\'s a digital age, so maybe it would have been anyway, but-Moderator 1:Right, but it\\'s an extra complication, sounds like.All right.And extra screen time on top of extra screen time, so.That\\'s it.Sorry.Can you repeat that.Well, since I\\'m already muting, I think that going forward, it\\'s never, it\\'s not going to ever be the same the way it was.We\\'re in for the whole new life, basically.And I think that I\\'m not ever going to get my iPad back.That\\'s gone, so that\\'s a bummer.And I think that I\\'m going to see what I saw at the very end of the year when they went back.And I think I\\'m going to see that in the fall, meaning towards the end of the year, my son was failing out of school.And it was because I don\\'t think anybody was monitoring him.At least when he was home, I was monitoring him a little bit.Enough to be like, \"Did you do this. Did you do that.\"Well, I\\'m not a helicopter parent anyway, but I\\'m certainly not.I\\'m thinking that he\\'s got special ed teachers who keep him on track and make them write down what he needs to do at the end of every day.But I found out that he was missing entire homeworks, entire reports, and when I would ask him, he would, \"Oh yeah, no, I turned everything in.Everything\\'s totally fine.\" And then I get an email from the school saying, \"He\\'s got an F,\" Or \"He\\'s got a D.\" He\\'s missing these six things.And so I anticipate it\\'s going to be very similar to that.As Parent 2 mentioned with the dyslexia, my son also has dyslexia.He was just diagnosed, though.And it\\'s not the one where you flip the things.It\\'s a much more weird.I don\\'t know.Anyways, he\\'s doing the Wilson book programs.And so, and he has summer school because of it, because and he\\'s only on grade three, it\\'s really bad.And so, I mean, the guy can barely read, and even when he reads, he can\\'t comprehend.So I just feel like I\\'m already starting off with just a huge catch-up that is unrealistic.He\\'s not going to catch up.And so it\\'s going to take years to get there.And it\\'s going to take a lot of summer school, so.I mean, and I think that I actually anticipate that he\\'s going to need outside help and not just tutors, but people who are specifically trained in where he has deficiencies, with the ADHD and the focusing and the reading comprehension, and really, because he has to unlearn the way he learned and then relearn it a different way with the Wilson, that I think that I\\'m just anticipating a shit show.Another thing, everybody is going to struggle.It\\'s just our kids, who need a little bit more support, are going to have a very hard time.And not just, he\\'s going to get extra support through sports through the school, for sure, because I make sure it\\'s in his IEP.I fight for him, like nobody\\'s business.But he\\'s going to need even more outside support and including me, my husband, and that sort of thing.Absolutely, absolutely.I think I\\'m going to have to fight tooth and nail to get everything that he needs.And then I\\'m going to have to get a second job to pay for all of the tutoring he\\'s going to need, so.Yeah.That\\'s, I\\'m anticipating a [crosstalk 00:33:33].The other thing is it\\'s going to be hard for everybody.Well, I actually thought that they should repeat personally because I don\\'t think he learned anything.And I feel like we lost so much that I\\'m like, \"Why are we even moving them onto the grade that they didn\\'t even.\" Let\\'s just redo it.Everybody redo it.And then that\\'s just-Moderator 1:I\\'ve heard that argument.So anyway, Next.I\\'ll go.So I think that the teachers.It really depended on the type of teacher.The general ed teachers, I found, were less tolerant of any adjustments to the technology or to the timeframes of things.And they were just less flexible.And I think it\\'s because they were just overwhelmed with so many kids, plus so many kids with technology issues.And my boys didn\\'t have the same experience because I don\\'t have a girl.But I really, if I had been her, I would have been like, \"Oh my God, oh my God.\" I would have been like, \"Whoa, this is not good.Everybody\\'s seeing me.\" I would have flipped, so.But my kids are like, \"I have to shower, what.\" So I think that the general ed teachers were.I found some of them to be mean and just intolerant to any adjustments.And, but then the special ed teachers would come in and say, \"Okay, let\\'s deal with this.\" And much the way they do at the actual school in-person.And so, I felt that they really helped facilitate the situation.And also act as a go-between in between me, the general ed teacher, and [inaudible 00:42:49] and my kids, both of them really.And so, I think that because they had two teachers, that really helped a lot.But also, I would find they would just disappear.We would log into school, and they would be like, \"So-and-so is out.\" Okay.And they would be out for one day.\"So here\\'s an assignment.We\\'re not going to give you any instructions.\" Or \"We don\\'t have a teacher for you because we don\\'t have subs.So go do it.\"And that was very hard for them to understand that.And then you had also the ones who were like, \"Well, I\\'m out for whatever,\" or \"I\\'m sick.\" A lot of them did get sick, so they were out for a month.And so, in that case, if they had two teachers, the other one picked up the slack.But it was mostly just one day here, one day there, where it wasn\\'t anticipated.And so the kids were just sort of left hanging.And it was tough because they were like, \"Well, how do we do attendance if she\\'s not there. Or he\\'s not there.\" And it was just, Anyway, I think the teachers were frustrated, and that showed, that came through very much so.And honestly, they should have been frustrated.It was frustrating for everybody.So, that\\'s it.I\\'ll go.I think, first of all, we need to remember that it\\'s not the \\'80s, and we\\'re in a totally different era with or without COVID.I think that they are online all the time.And talk to adults who are young, much younger than us, but still in their 20s and things.And that\\'s how they live.They\\'re constantly online, be it for work and for gaming.And in some cases, I think that\\'s just going to be the new norm, and it\\'s not all bad because some gaming will teach you strategy and it\\'s conflict resolution and all sorts of things.I mean, you can go one way or the other.In terms of the gaming, though.I think that I\\'m seeing that my youngest, my eight-year-old is much more addicted than he ever was.Before.Yes, he had my iPad.Yes, but I could easily take it away from him.Now, it\\'s almost like the Chromebooks became a gateway drug to this whole, like a video game addiction thing.And both of my kids are complete addicts, complete.If I take it away from them, they will go through absolute withdrawals, to the point where I\\'m like, \"Whoa, this is not an appropriate reaction to what\\'s going on.\" And the world is ending apparently, if I turn off the internet, so.And so I think that because it\\'s sort of the Chromebooks came in and they figured out how to use them, and the teachers taught them how to use them.Now they\\'ve got all these skills that they can use for good or evil.And so they\\'re using it for both.And I do find my eight-year-old, who would never lie and sneak, sneaks the iPad, sneaks the video games.He still admits to it, but soon, he will not admit to it.And he will not say, \"Oh mom, last night I woke up, and I played the video.\" At some point, he\\'s going to start lying.My other one is I actually have to cut him off at the knees.I have to say, \"Everything\\'s being shut down in 10 minutes.\" Otherwise, he will be up until 3:00 AM, every single night playing, playing, playing.And so are all of his friends.That\\'s what I don\\'t understand.I\\'m like, \"Who are you playing with.\" And he\\'s like, \"All of my friends.\" And so they\\'re all.I don\\'t know what\\'s going on, but everybody is just constantly on video games.And that\\'s how they interact socially.And we\\'re not into play dates yet anymore, or them getting together socially outside yet.Maybe it\\'s because everybody tends to have younger kids.So they don\\'t want to expose those who are vaccinated.I mean, those who are not vaccinated to anything, which I totally get.And so they still need that for socialization.So I\\'m stuck, I\\'m stuck between both.And I think it\\'s just going to get worse, and I think we just need to embrace it and try and figure out what they\\'re really getting out of it in a positive way and emphasize that.And so, and I think there are a lot.I can\\'t think of all of them now, but I read an article that was just really, it was pro-gaming, and it was awesome.Because I was like, \"Oh, I never thought of that.\" The strategy and conflict resolution.And they had brothers who lived.Were really close, and then they moved far away from each other.But the one thing they had in common was video games, and they talk every day.That\\'s a good thing.And so I think there\\'s a lot of positives that people forget about.On the flip side, they need to be-PART 2 OF 4 ENDS [00:52:04]On the flip side, they need to be able to control it.And it\\'s hard.It\\'s almost like.It\\'s not like drugs, cigarettes, or something like that, it\\'s like sugar or caffeine.You can\\'t avoid sugar.You have to have a little bit of it, but you got to be able to control it.So, we could look at it like, sugar can be a good thing, sometimes it makes things taste good, but there has to be a balance and a way of figuring that out.And so, I would love help from the school and from Child Mind Institute.I just have a suggestion for everybody.My eight year old, he\\'s like a walking encyclopedia, and it\\'s because he\\'s been watching these YouTube videos and I.I got to fly around me, sorry.This is driving me crazy.And it\\'s called, he has learned so much and he can regurgitate it on the fly, because it\\'s called over-simplified.And it\\'s these little tiny clips of just oversimplified history, oversimplified explanations about things.And he introduced it to us.He\\'s eight years old.My 13 year old and I both like it and I learn stuff from it.I\\'m like, \"Wow, I\\'m a history major, no, I remember that\".But my explanation was dragged out and their eyes rolled into the back of heads in history class.But this oversimplified, you should guys should check it out.It\\'s really cool.When will we have the tips and suggestions on how to handle all this out.Thank you.PART 3 OF 4 ENDS [01:18:04]Parent 3:.As you can see, he\\'s not used to going to the office',\n",
              " 'Hi, I\\'m Parent 2.I have two kids, a boy and a girl.My son is 12.My daughter\\'s 10, almost 11.I guess, I don\\'t know.What else did you want to know in the introduction. Sorry.Sure.It\\'s pretty similar to what you guys are saying.My son is the oldest, he\\'s 12, so he didn\\'t really use technology much in school.He\\'s ADHD, as well as dyslexic.So purposefully, they avoided technology just for the process of writing is better.So he did use some apps for reading, like Learning Ally for reading and stuff.But basically, one positive thing is he\\'s definitely learned how to type, which is amazing.At first I would watch him.It was so tedious.It was painful.For him, some parts would have been positive, like learning to type, it actually helped him be a little more organized because all of his work was in Google Classroom instead of forgetting papers at school.And so, he would get a notification from his teacher that he had work to do, and it would be right there.It wasn\\'t something that he\\'d written and forgotten about or whatever.So in a lot of ways, it sort of helped him be a little more accountable because it was just in his face.I could look at it and see and help him.I don\\'t know if he says he didn\\'t have something, I could see that he did and it wasn\\'t just something that he forgot he had, right. The negatives are definitely what you\\'re saying, as far as being distracted and like.It was hopeless.I tried so hard in the beginning to keep him off of video games.But for him, it was a total distraction, but somehow he was able to manage to keep up with schoolwork.I don\\'t know how he did it, but he definitely did his schoolwork, in addition to watching videos while the teacher was talking, which makes no sense.It would drive me batty, but the same thing.I\\'m trying to work and I can\\'t stay on top of him.I tried all the screen time things, but then he would just find ways around it.The greatest one was figuring out that he had to have Google Docs.So he figured out how he could import his YouTube videos into Google Doc and watch them, even though I turned off YouTube.One day, I\\'m like, \"How is he watching that.\" And he even told me, he was like, \"Oh!\" Like he was so proud, but I was like, \"That\\'s great that you figured it out, but it\\'s-\" [crosstalk 00:25:52]Parent 1:That\\'s clever.So, besides that, I\\'m thinking.I mean, I think previous to this, he leaned towards the.PART 1 OF 4 ENDS [00:26:04]I mean, I think previous to this, he leaned towards being really hyper-focused on video games.But it was a little more manageable because we could draw the line.He didn\\'t need the computer or the iPad to do something, so we could take it away.But like you\\'re saying, the school, it\\'s how he socialized, how he did all of his schoolwork.So it was a little hard to sort of.But part of me realizes it\\'s his personality.So, in general, it\\'s something that we have to work on anyway because there\\'s always going to be the temptation of electronic.I mean, as adults, we still have to learn how to turn off all the other distractions and do our work, so.I mean his school, they made us feel better because they\\'re like, \"We\\'re dealing with all the kids.\" So it\\'s like, well, they\\'re well aware.So in a lot of ways, they changed some of their strategies to make things a little more interactive instead of a little less, sort of cut and dry, so they can engage them more, which helped somewhat, but.Anyways, so my daughter, I don\\'t know, she\\'s totally addicted to her device, which she didn\\'t.Well, we had a family iPad before, but then once this happened, she\\'s 10, almost 11.So we eventually.She has her own device so that she could do the school stuff and she\\'s addicted to it.But it\\'s been a little tricky for her because she\\'s definitely become.It\\'s hard to motivate her to do other things because it\\'s like.So the gratification is there.It\\'s so easy.I don\\'t know.I feel like that\\'s the hardest part is how do you scale back, isn\\'t it.She went back to school.And there\\'s not the excuse now.Her work isn\\'t on the device, so.I don\\'t know, but it\\'s been definitely hard to reel it in a little.One thing I would say sort of to add to both of these things is my daughter\\'s 10, and she\\'s in fifth grade.So one negative thing that I saw that her teacher actually helped with a little was I think it was a lot for them to have to stare at themselves on the screen all the time.My daughter started, I don\\'t know, worrying about things about herself, like \"My eyebrows are too.You can\\'t see my.\", all these crazy things.And it\\'s because she\\'s looking at all of her friends and herself straight on all the time.So it did become sort of a conversation with her teacher.And they were pretty strict at first about trying to get them to turn all their cameras on.But I think they became a little more lenient when they sort of realized that kids can have their camera off but still be paying attention, which is the case with my daughter, probably not my son.But my daughter definitely, she would be doing what she needed to do most of the time.But so I do think it kind of, I don\\'t know, it was this weird.She became a little more self-conscious, I think, I don\\'t know.But then it was interesting also to see the difference between my daughter\\'s teachers and my son\\'s teachers.He had way more daily, all the time classes in-person on Zoom.Whereas my daughter was a little more.She did have in-person, but it was, I don\\'t know, half the amount of time as him probably.So I don\\'t know.She had to work more independently than he did.I don\\'t know.I think as far as challenges, I think it\\'s more social.Right now, it\\'s hard to get my kids to.I don\\'t know.They feel like they\\'ve become hermits in some ways.So it is hard for me to get them to think outside of their video game box.You could give them a list of things to do and they can\\'t.I don\\'t know, they don\\'t seem to want to do anything, so I think that\\'s going to be the challenge.I mean, just really social, I think.We\\'ve had a lot of the same thing, but a few things.I sort of have a specific time, like the internet goes off.That way, it takes me out of it.Like they know, and then, I mean, they will ask for me to turn it back on or whatever, but it\\'s like, I don\\'t know.Because if it were up to me, I would forget, and it would be much later.So, that kind of helps a lot.The thing with my kids are, the different things they\\'re doing, lots of things are positive, Minecraft, all those things, but the most annoying thing are the YouTube videos of craziness that just keep going and going.It\\'s just such a mind numbing time-suck that my daughter gets into.I mean, so it really depends on what they\\'re doing, but it\\'s also difficult to always know what they\\'re doing, because they know how to get around everything.So, I don\\'t know, but the other positive thing is, my kids have definitely been playing games and things with their cousins who live on the west coast, in upstate New York, and their friends have become friends with their cousins on these.So, their circle is bigger and more connected through these.So, it\\'s really, really sweet to my daughter.Now, her cousin knows her best friend and it\\'s not just this person that exists.So, that\\'s good, but it\\'s definitely trying to do it in moderation and to be able take a break and do other things and be engaged in the conversation around you and not need it every second.Every break in the day doesn\\'t have to be video games, but I don\\'t know, it\\'s a battle',\n",
              " 'Oh',\n",
              " 'Hi, I\\'m Parent 4.I\\'m at work, so I\\'ll turn my camera on and off.So, sorry.I\\'m the mom of a 16-year-old boy and a 13-year-old girl.I can speak.So I- [crosstalk 00:17:26] Sure.So my 16-year-old, I don\\'t think that he.I mean, I guess they must\\'ve used technology before, but.I guess they used Google classroom and stuff, but not as much as they obviously did during the pandemic.They always had PupilPath and different things to, sort of, follow their assignments.But I think during the pandemic, my son, the 16-year-old, has ADHD.And so, he has two screens in his room.So on one screen, there\\'s a Zoom with his class.And on the other screen, he\\'s playing video games.And to me, it\\'s just very frustrating and it\\'s been.You can\\'t take technology away from them because they need it for school.So that\\'s been a very frustrating part of the whole experience.And he feels like he\\'s not really learning very much because, well, I mean, I would say it\\'s because he\\'s playing video games while they\\'re trying to teach him.But he says it\\'s just not conducive to his learning, so.Yeah.So I don\\'t know, I think that there were some good things, like with the Google classroom and stuff, I could, not that I did, but because he gets very upset if I try to stay on top of him.He was able to see what he was missing and everything.And so I think going back, I think that he has learned some executive skills that he didn\\'t have before, which is really good for somebody who\\'s 16 and theoretically will fly the coop in two years.I do think he has expressed the fact that he is looking forward to going back to school.Because he will not be allowed to play video games while he\\'s supposed to be listening to the teachers, so that\\'s a good thing.I do agree that he has not learned as much as he should have.And I think that the thing that I\\'m most worried about is his math because he\\'s supposed to go into pre-calculus next year, and I\\'m not sure he knows trigonometry or whatever he was supposed to learn this year.But we\\'ll deal with it, tutors, whatever if he gets into trouble.I\\'m not sure that I would agree with leaving everybody back because I do think.For my daughter, she\\'s much more high functioning than my son.And she had a 99 average between her classes and went to school and got all her schoolwork done and never handed anything in late.And meanwhile, my son had 20 missing assignments the day before school ended, and somehow he got it down to six.So, I think my daughter, I think she actually benefited because she\\'s a seventh-grade girl and seventh-grade girls are so mean to each other and the fact that they were at home and did not have to interact with all the other mean girls.I think that was actually good for her.So-Moderator 1:Yeah, that\\'s interesting.We\\'ve heard that, that some of the social pressure was lessened.And they didn\\'t have to deal with the social drama as much and could focus on their work a little bit.So have you felt that was true for your daughter.Yeah.And for my son too.I mean, my son was, I guess, I don\\'t know how much, whatever\\'s on, confidential.But the day before COVID hit, he was suspended for substance abuse in the school.And then he didn\\'t have to do his suspension.Because they were like, \"No, don\\'t come in.\" Because I\\'m a health care worker, and they\\'re like, \"No, no, she\\'s been exposed to COVID.\" So COVID was amazing because he was not allowed to interact with anybody for the first six months.And so he sort of was forced to deal with the substance abuse stuff and didn\\'t have access to it and all that, so that [crosstalk 00:37:34] was good.And now, I\\'m really worried about him going back because all those things are going to be there again.The social pressures and all that stuff.About teachers.I mean, so my kids have a lot of teachers because they\\'re in high school and middle school.So, there was definitely a wide range of responses.Some teachers handled things really well.And I have to say that at my son\\'s school, they were very lenient about handing in assignments late.And my daughter\\'s school.They were also trying to focus on sort of the kids who were not handing in assignments, which I thought was really nice of them.So, but there were definitely, there were some teachers who showed up every day and wanted the cameras on.I mean, I guess they all showed up every day, but there was definitely some people who allowed the kids.Like Parent 4, Child 1 would, sorry, my son would lay in bed for his first, for the morning of classes.And some of the teachers were like, \"Fine.He\\'s in bed.\" But some of the teachers were like, \"No, he has to sit up, and we have to see him sit up.\" Because he would fall back to sleep during some of the classes, so.But I think the teachers were all.But my kids go to these really progressive schools in the city.So I think that that had something to do with the fact that the teachers were very lenient and forgiving of all the craziness that was happening.No, I mean, I think my son was way addicted before COVID and is still as addicted to video gaming as he was before.No, I don\\'t.It\\'s sort of always impacted his academics.So, yeah, he\\'s had a problem with it for a while.I think one thing that I actually wanted to say that I didn\\'t bring up before about the social thing, my son actually had a girlfriend all from COVID.So, they\\'ve been together for the past 17 months or something.And for a while, they were like their own pod, and he went to her lake house and she would spend time with us.And now that things are opening up, he wants to spend time with his friends and she wants to spend time with her friends.And so, they\\'re having these issues that they haven\\'t had for the past 17 months with things that girlfriends and boyfriends probably should have learned how to navigate by this point in their relationship.So, I know that has nothing to do with video gaming, but I wanted to say it before, but I forgot']"
            ]
          },
          "metadata": {},
          "execution_count": 70
        }
      ]
    },
    {
      "cell_type": "code",
      "metadata": {
        "id": "5mpv7_lTOh53"
      },
      "source": [
        "??re.sub"
      ],
      "execution_count": null,
      "outputs": []
    },
    {
      "cell_type": "code",
      "metadata": {
        "id": "LcjIaK3-OmQm"
      },
      "source": [
        "??re.subn"
      ],
      "execution_count": null,
      "outputs": []
    },
    {
      "cell_type": "code",
      "metadata": {
        "id": "3HuWVZkQMPeH"
      },
      "source": [
        "text = textract.process('./ML-for-Good-Hackathon/Data/FocusGroups/Media_Group2.docx')\n",
        "text = text.decode('utf-8')\n",
        "text =text.replace('\\n',\"\")\n",
        "text = text.replace('\\t',\"\")\n",
        "text = text.replace('(silence)',\"\")\n",
        "text = text.replace('. ','.')\n",
        "split_sent=re.split(r'[?.]', text)\n",
        "split_sent = list(filter(('').__ne__, split_sent))\n",
        "dial_characters = ('Administrator','Moderator','Parent','Speaker',' Administrator',' Moderator',' Parent',' Speaker')"
      ],
      "execution_count": null,
      "outputs": []
    },
    {
      "cell_type": "code",
      "metadata": {
        "colab": {
          "base_uri": "https://localhost:8080/",
          "height": 135
        },
        "id": "4mBzwxTxNKsZ",
        "outputId": "a4a62415-a6e3-4fc0-cde4-b8a45f4c5a09"
      },
      "source": [
        "text"
      ],
      "execution_count": null,
      "outputs": [
        {
          "output_type": "execute_result",
          "data": {
            "application/vnd.google.colaboratory.intrinsic+json": {
              "type": "string"
            },
            "text/plain": [
              "'Parent 1: Hello, good afternoon.Parent 2:Hi.Moderator 1:Hi Parent 2 and Parent 1 Thank you guys for joining.Parent 2:Hi.Good afternoon.Parent 1:Good afternoon.Moderator 1:So I think we\\'re going to be a group of either five or six parents today so I\\'m just going to wait for a few more people to sign on.Parent 1:Okay.Parent 2:Okay. Moderator 1:Hi, Parent 3.Welcome.Parent 3:Hi.Sorry.I had the volume all the way down so I couldn\\'t hear but I-Moderator 1:No problem.We\\'re just waiting a few minutes for everyone else to join but we\\'ll hopefully [inaudible 00:07:46] soon.Parent 3:As soon as I came into my room, my husband\\'s out there but I can hear my kids start fighting.He was like, \"Why do you start fighting the instant your mother goes into the other room?\" Better him than me, I suppose.Moderator 1:It\\'s nice they\\'re doing something else.Parent 3:Right.Moderator 1:Hi, Parent 6.Welcome.Hi, everyone.Good afternoon.Hi, Parent 4.Welcome.Parent 4:[inaudible 00:08:43].Hi.Moderator 1:Hi, everyone.Hi, Parent 5.Parent 5:Yes, yes.Moderator 1:Okay, welcome.Parent 5:[crosstalk 00:08:56].Moderator 1:So we\\'re all here.So thank you so much for taking out some time to [inaudible 00:09:05].We know that you all filled out our crisis questionnaire already and we really just want to use this to go a little bit more in depth, to hear about your experiences with technology over the past year and a half since the start of the pandemic.So I was thinking we could start by just going around, say your name, maybe the age of your kids, and if you have a good TV or movie recommendation for something that you\\'ve watched, maybe share that with us as well.So I can start.My name is Moderator 1.I am a neuropsychologist with the Healthy Brain Network.And a good TV show that I have started to get into during the pandemic is Good Girls.It\\'s about three housewives who end up getting involved in crime.I really like it.So it\\'s nice to meet you all.Thank you for taking some time.So who would like to go next? Parent 2:I can go.Moderator 1:Yeah.Hi, Parent 2.Parent 2:I\\'m Parent 2.I live in Brooklyn.I\\'m an academic advisor.I have a 14-year-old son.And a movie that I just saw was Thunderforce, which is cool with two women that are like superheroes.That was funny.Moderator 1:Oh, cool.Thanks, Parent 2.Who\\'s next? Parent 2:Hi, Parent 5.Parent 5:Hi.My name is Parent 5.I\\'m Andrew\\'s mom.He\\'s 12 years old and we live in Brooklyn as well.We had a chance to go to the theater in February and we saw the new released Tom and Jerry movie and it was amazing.My kids enjoyed it so much.It was funny.Moderator 1:Okay.That sounds fun.Thanks, Parent 5.Who\\'s next? Parent 1:Hi.My name is [Parent 1 00:11:15].Hi.Yes.My name is Parent 1.I have a handsome and inquisitive young 10-year-old son.His name is Kal-El, like Superman.And we\\'re originally from New York and we have been enjoying some quality time during this quarantine, although we have a little bit of cabin fever.I\\'m not too much of a TV watcher, however, I am a book reader and a few of my favorite books thus far is The Science of Getting Rich by Wallace D.Wattles and Opening Your Mind to Prosperity by Catherine Ponder and some of the principles in those books I\\'ve been allowing my son to also study.And it\\'s more so about opening your mind and creating your world through the power of thought.So I definitely recommend those books.And thank you for welcoming me and I\\'m grateful to be a part of this group today.Moderator 1:Thank you, Parent 1.Who wants to go next? Parent 3:I\\'ll go.I\\'m Parent 3 and I have three children, they are 15, almost 11, my middle child will be 11 on Tuesday, and five.My oldest two are enrolled in the study.Anyway, I live in Brooklyn.What was the other thing? Oh, the show or something.It\\'s funny, I haven\\'t watched anything really contemporary, but my husband has been binge watching shows like American Horror Story and I\\'ve been binge watching period romance and dramas and stuff.I\\'m the opposite.During the pandemic I\\'ve just been looking for total escape, so like Jane Austin, different mini series and Outlander and Pole Dark and stuff like that.Moderator 1:I hear that.I hear that, Parent 3.Thank you.Okay.Who\\'s next? Parent 4? Parent 6? Parent 6:I guess I\\'ll go.My name is Parent 6.I have three kids, two were enrolled in the study.I have an 11-year-old, I have an eight-year-old, and a four-year-old.They\\'re all boys.I haven\\'t really watched much shows recently, but I do a lot of reading as well.Good book that I really enjoyed recently was The Alchemist is a pretty good book that I\\'ve read recently.Moderator 1:Thank you.Thank you, Parent 6.And Parent 4? You there, Parent 4? I think you\\'re on mute right now.Parent 4, I think you\\'re on mute but try to see if you can get your audio on.In the meantime, [Administrator 00:14:53], do you want to introduce yourself? Administrator:Hi, everyone.Wait, can you all hear me? Awesome.So I\\'m Administrator.I am a research assistant here at HBN and the person that\\'s been hounding you all.So thank you all so much for being here.Introductions.I forgot what we were doing.Moderator 1:If you have a TV show, book, movie-Administrator:Yes.Okay.So the TV show would be Lovecraft Country.It\\'s based on a book but it\\'s set in I think the Jim Crow era and basically the protagonist, he\\'s a Pitts family bloodline as a part of magician cult thingy.So he\\'s trying to garner the magic to share to his offspring.And it\\'s an adventure and all that good stuff.It\\'s really, really good.They finished season one and I\\'m looking forward to season two.It\\'s on HBO Max.I don\\'t know about any other things.Oh, I\\'m from Brooklyn.Yeah.That\\'s my introduction.Moderator 1:Thank you, Administrator.Okay.So Parent 4, if we can help you, you can use the chat and just let us know if there\\'s anything we can help you with.Yeah, definitely pipe up whenever you\\'re audio starts working.Parent 4:Hi.Can you hear me okay? Moderator 1:Yeah.We can hear you.Parent 4:[crosstalk 00:16:29].Moderator 1:Yes.Hi, Parent 4.Parent 4:Hi.I don\\'t know.I didn\\'t quite hear what part of the introduction.What would you like from us to present in this introduction.Moderator 1:Just say hi, the ages of your kids, and if you have a recommendation for us for TV, book, movie.We\\'d love to hear.Parent 4:Oh.I just got to second that Lovecraft one because I totally, totally enjoyed that.My kids, I have four children, two older and two younger.So I would say I have two sets of kids.So my first two, my son is a principal and my daughter is a district manager for a business.And the last two, my daughter is in the third grade, so she\\'s 12 ...No.Wait a minute.And I have a 12-year-old and an eight-year-old.I\\'m the mom, right? And I have a 12-year-old and an eight-year-old.Those are the last two.And the last two are girls.Moderator 1:Very nice.Okay.Thank you, Parent 4.Okay.So again, thank you all for coming.I was thinking that we could start with a little exercise.If you have a paper and pencil nearby, try to jot down a few positive ways that technology has impacted your children during the pandemic and als then a few negative ways that technology has impacted your children during the pandemic.So let\\'s just take a few minutes to do that and then we\\'ll discuss.Parent 3:I have to go get a pen and paper for that.[crosstalk 00:18:22].Moderator 1:Thanks, Parent 3.Parent 4:Hello? Can you hear me okay? Moderator 1:Yes.We can hear you, Parent 4.Parent 4:Yeah.I\\'m trying to move where I can get a great wifi signal because I see that\\'s what the problem is.I can get mine too, because I don\\'t have a pen and paper right now.Moderator 1:Okay.So I\\'ll ask for them in a minute.But, yeah.When we discuss, just think about them if you don\\'t have a pen and paper.Parent 4:Okay.Moderator 1:And then as you\\'re jotting them down, I\\'d also like you to think between the positives and the negatives, which one has had the biggest overall effect? So has the negative parts of technology had a bigger overall impact on your children or have the positive effects had a bigger overall impact? And just circle whichever one.Okay.Does everyone have some things jotted down or in their mind? Parent 1:Yes.Moderator 1:Okay.So by show of hands or speaking up if you\\'re not on video, how many people circled the negative list as having the bigger overall impact.Okay.Parent 6 circled the negative list, Parent 2, Parent 5.I see Parent 4.Okay.Parent 1, did you circle the negative or the positive list? Parent 1:I circled the positive.Moderator 1:Okay.And what about you, Parent 3? Parent 3:I\\'m really finding it hard to choose.I still think it\\'s a tossup.And partly too, with the two kids, there are different benefits and challenges for each one.I\\'m falling right in the middle.Moderator 1:Okay.Yeah.Let\\'s definitely go into that.I think it sounds like there are negatives and positives all around.I definitely encourage ...As we go through this discussion, what we\\'ve been seeing is that there are a lot of people who are having very overlapping experiences and agree on some things and then there are definitely people who hare having different and more unique experiences.So please feel free to chime in on your individual experience even if it may be different than what you\\'re hearing from other people.So the first question that I want to put out there for discussion is how did your children use technology for educational purposes before the pandemic? And did you have any concerns or what were the benefits of technology for education before the pandemic? And then maybe speak a little bit about now during the pandemic, how that has changed, if that\\'s changed, and if you have more concerns or if it\\'s been beneficial during the pandemic? So who wants to start? Parent 6:I\\'ll start.Parent 2:I can go first.[crosstalk 00:22:40].Moderator 1:Here, how about Parent 6.Parent 6:So before the pandemic I feel like, especially with technology, my kids didn\\'t really have much at all that they had to do.My oldest is in sixth grade now, so I think that might have changed going to middle school, however, while they were in elementary school, they really didn\\'t have any assignments that they needed technology for, for the most part.So it was rare.And then, of course, last March school went completely virtual and everything was online.So it was like a night and day change for us.It was a disaster, to be honest.Moderator 1:Okay.So what were some of your concerns or what did you find problematic about using technology for education? Parent 6:Well, really, they\\'re on all day.They\\'re on all day.Now, one of my children is a really unique learner and one of them did okay.One of them was able to go on.But then one of them is really ...He\\'s unique and his teacher not seeing him in person, it affected him.Even this year, for example, he started fully virtual at the beginning of the school year and his teacher, since she hadn\\'t met him and she hadn\\'t seen him in person, she didn\\'t grasp that if he wasn\\'t doing an assignment, it wasn\\'t because ...He has ADHD and if he wasn\\'t doing the assignment, it wasn\\'t that he was trying not to do it, he was just having a hard time and she wasn\\'t there to be able to intercept and to sit with him and to see how she could help him.She wasn\\'t able to help him because she didn\\'t know what the problem was because he wasn\\'t there.Moderator 1:Right.So it sounds like he lost out on that one to one.Parent 6:Yeah.Now he\\'s back full time and he is doing a lot better.Still, I feel like they\\'re just online all day long and it\\'s a problem.Moderator 1:Thank you, Parent 6.Can someone else share their experience with technology [crosstalk 00:24:57].Yes, Parent 1? Parent 1:I might echo Parent 6 because, similarly, my son too, prior to the pandemic the most time he would spend on any electronic device was either in school for a computer media class and then after school or after homework, he\\'ll have some free time, we call it free time, where he can play on his iPad or his cellphone for a couple of hours before bed.But, I mean, it was a total 180 where now he\\'s fully remote.And actually, it was like a double whammy because I was actually diagnosed with breast cancer in February, so having this diagnosis and having the pandemic and then all of this pressure on my son to make sure that I\\'m healthy, make sure that he\\'s doing well in school, it did take a negative toll at first.But, again, through reading affirmative things and helping him along and making sure that he sees me in a not just a healthy state but also in a physically healthy situation, it helped him.But literally, his electronic usage went from pretty much nonexistent to almost 200%, because after school he goes directly to his iPad to play.When that dies, he goes directly to his iPhone and then if that dies, then he\\'ll go to my computer to do classwork.It was like a never ending cycle and I have to break him off of it.I would try to have not just physical exercise but mental exercise as well when he\\'s on break and when I also work remotely, fully remote, we would for lunch just go outside, take a walk, just talk about the sky or talk about the birds chirping.Something that we don\\'t have to focus on where it\\'s a problem or it\\'s worrisome.That seemed to help for the time being.But I think when we come back indoors, it\\'s back to the gadgets.I would say his learning, his academics actually improved.He has an IEP.He has-Moderator 1:Yeah.I\\'d like to hear about that, because I know that you had said that there was an overall positive effect.So can you speak a little-Parent 1:Yes, yes.Moderator 1:...on the academic piece.Yeah.Parent 1:Right.I mean, as much as he\\'s on these devices, he actually improved academically because it enhanced some of his skills that he already had, his computer skills and navigating.He was able to work independently and actually become a leader in his class where he\\'s in the chatroom trying to troubleshoot those who are even having technical difficulties logging on.It\\'d be so funny.But-Moderator 1:[crosstalk 00:27:58] tech support for the ...Parent 1:Right.Well, can you help mommy record this Zoom? But I\\'ve seen and his teachers have also seen a very much more confident student and person overall.Not to take up too much time, but my son, he had confidence issues and wanting to be liked by everyone, wanting to be friends with everyone.But this past year especially, he really stepped up to the plate and actually became the leader confidently and was able to excel.So I\\'m very proud of him.I\\'m very proud of him.Moderator 1:Right.So it sounds like the emphasis on computers skills really brought out some nice strengths for him in those places.Well, good.That\\'s great.Parent 1:And I\\'m cancer free too.So [inaudible 00:28:49].Moderator 1:Wow.That is really great to hear.Parent 1:Yes.Thank you.Parent 4:I just want to say-Moderator 1:Who wants to go next talking about-Parent 4:Can you hear me okay? Moderator 1:...technology for education? Sorry, Parent 4? Parent 4:Can you hear me okay because I\\'m struggling with my technology.Moderator 1:Yeah.We can hear you.Parent 4:I can either do video or audio but-Moderator 1:[crosstalk 00:29:12]-Parent 4:Everything at one time is not working for me.So that\\'s why I wanted to go ahead and say what I have to say.So if you can hear me-Moderator 1:Yeah.Parent 4:You can hear me? Moderator 1:We can hear you.We can hear you.Parent 4:Okay, great.So it has had a negative impact on my household because it\\'s too much computer time.And I remember those questions when I was filling out one of those questionnaires when I brought my daughter there to be evaluated.It was speaking about the problems in reference to the computers.I\\'m like, \"I don\\'t have those kind of problems.What are they talking about?\" Now fast forward to this pandemic, now I understand.I\\'m having those problems.I\\'m having problems because now she wants to be on the computer all the time and it\\'s hard for me to take it away because she has to do her schoolwork and she\\'s learning remotely.It\\'s hard to sanction that because she\\'ll say, \"Oh, I need to do my homework, or I need this app or that app.\" It\\'s just difficult to sanction the time so I have to let her use her computer but I catch her and she\\'s getting in trouble with the computer because now all of these open sites and bringing up conversations that I never thought I would have to have with my 11-year-old daughter because she\\'s on all of these different sites.And here, I\\'m putting in all these parental controls but she\\'s very savvy so she can overstep those controls and now her and her friend and then teaching her how not to turn over your screen to your friend, I know you think is your friend, but there\\'s so many things that you can get into problems with.So for me, I\\'m just devastated by all of this computer time.And I have two children, so even the little one ...I mean, they need some in person.They need to not always have to rely on the computer.And that was my problem even before the pandemic because I saw the teachers were moving into having your children learn more with these apps.And sometimes I have to tell them it\\'s okay for them to use pencil and paper because I feel you learn better, at least until you have the concept, then you can do it on the computer.Yeah.I\\'m not impressed with all of this, everything on the computer.For me, it\\'s just a negative impact.Moderator 1:Right.And it sounds like it was a big switch for your family and that it also, that point that you made, I appreciate that, that the fact that it\\'s needed for school purposes makes it a little bit harder to control it because it\\'s not like you can just say no computers at all.Okay.Thanks, Joanna.So who-Parent 3:I\\'ll go.Moderator 1:...would like to share on that? Parent 3, yeah? Parent 3:Yeah.So before the pandemic, my oldest daughter who was then in eighth grade, she was the primary computer user in terms of schoolwork.But even then, she still had other things that she could use.She had texts that they would send home.She had articles that were printed out already or worksheets or things like that.She has some trouble with writing.She had OT to help her with writing for, I think it\\'s dysgraphia.And it\\'s much, much better now.So the computer, she tended to use it a bit for anything that involved writing and she did a lot of voice to text and things like that anyway, but she did have a lot of alternatives.My middle daughter who is about to turn 11, she hardly used the computer at all.She used it sometimes for some research things if she was working on a project.But most of her work was either done in school or it was done on paper.It was read a book and write a paragraph or something like that.She was then in fourth grade.Then, of course, this hit and they were 100% learning online.It was more successful for my fourth grader because her teacher had it organized.She would give them a checklist on Google Classroom so they could see what they needed to do each day.She would give them a preparation for what was coming up, like, \"Here\\'s what the week will look like.\" And she also had live class sessions and she had it broken into ...She did three meetings per day, and one was a morning meeting to talk about the plan for the day, then she would give them an assignment, then she would have them meet back again an hour later to check in about the assignment and do the next thing.And then in the afternoon she did some small group work.Where it was really challenging is that my daughter is in a French dual language program and so, of course, and we\\'re anglophone, so that just dropped.I mean, that\\'s one reason why her teacher tried to do a lot of small group work to try to help build that up, but that was certainly a challenge for us.We had to try to find ways to help her be exposed to the language so she wouldn\\'t lose her ability then for starting fifth grade and then struggling.But my eighth grader, some of her teachers were amazing with checking in and having office hours and doing some instruction and tutoring and things like that online and some of them, it was like they just were phoning it in at the end of the semester and she was teaching herself.And that was very difficult.This year, it\\'s changed because now she\\'s in high school and she\\'s at a performing arts school.It\\'s been a real challenge because her art is violin and it\\'s really hard to do instrumental work with groups Zoom.They\\'ve done their violin lessons on Zoom but it was just one on one.But her orchestra class, they really haven\\'t done any orchestra all year because you can\\'t really do an orchestra on Zoom.There\\'s a lag between the things.So that\\'s been a little bit of a challenge.But she\\'s had all live classes online this year, because their school, that\\'s how they set it up.That has been fantastic.Because it\\'s enabled two things to happen.One is that because she does have ADHD and she has a really hard time organizing herself, she doesn\\'t really have to organize herself because she\\'s in the lessons all day.And then she has a little bit of homework to do, but it\\'s not an extreme amount.And they do a lot of breakout rooms and stuff so she\\'s able to do some small group work and it helps her, I think, because she doesn\\'t have to be teaching herself.It also helps because when I\\'m home, I\\'m hearing what she\\'s learning in class.That\\'s been really great.With all my kids, hearing their teachers teaching them online, I\\'ve been blown away by the skill of these teachers.They\\'re amazing.And the thoughtfulness that they put into their projects and developing their curriculum, it\\'s just outstanding and I feel like that\\'s been a great gift to have that insight.And it\\'s also helped me when it comes time for me to help them, because I can say, \"Oh, no.Remember, Mme Simone was saying that you needed to do this with this project.Yeah.I understand you forgot that, but I heard her say it so let\\'s do that.\" So that\\'s been helpful.It\\'s been good.Moderator 1:Yeah.That\\'s actually a very interesting pro, having that little bit up close view [crosstalk 00:37:48], and it sounds like there\\'s been some helpful parts to address ADHD and organization as well.But I\\'m hearing some variability in the quality of education.Parent 3:Yeah.The challenge that we\\'ve had with mostly my middle daughter is that she also has anxiety and OCD and so she, first of all, can go down a rabbit hole when she\\'s just learning online.Secondly, this year she\\'s been doing blended learning so when she\\'s in school, she\\'s doing all right.When she\\'s at home, she gets almost no work done.I mean, she\\'s been working today and as of the time I came in here, I think she had done one math problem.She just has a really hard time.And I have to see her screen at all times.If I can\\'t see her screen, she\\'s not doing what she\\'s supposed to do and that\\'s [crosstalk 00:38:49]-Moderator 1:So she\\'s having more of a problem doing it independently? Parent 3:And that makes problems because then I have a five-year-old, and if I have to look at the screen all day of her older sister, I can\\'t be doing things with the five-year-old.And my five-year-old then spends a lot of time coloring or playing with magnet tiles or watching videos because I have to keep saying, \"I\\'m sorry it\\'s a beautiful day.We can\\'t go outside.I have to make sure your sister\\'s doing her work.\" Moderator 1:Right.There\\'s only so much resources to support you.Parent 3:Yeah, exactly.Moderator 1:Okay.Parent 5, can you share? Parent 5:Yeah.Well, prior to the pandemic my kids were very exposed to technology.They were using it as well for school.They had a lot of apps for reading.My older son, Andrew, he has a-Moderator 1:What were your feelings about it before? Did you find technology to be helpful before the pandemic? Parent 5:It was.It was because it was controlled.Whenever I needed to, I was able to put away the devices.But after the pandemic, like another mommy said, I have a problem taking the laptop away because he uses it for school.Now, the negative of it is my older son who has an IEP is becoming more addicted to the screen.If it\\'s not the laptop, it\\'s the iPad, when the iPad goes empty, it goes to my phone.He\\'s just switching from one device to the other.But as far as school goes, he is doing amazing, a lot better than when he was in school.Remote has done wonders for us.He\\'s more focused.He\\'s totally in charge of his school day.I don\\'t get involved.He gets great grades.And it helped us also with the transition.I was very nervous about Andrew going into sixth grade.It\\'s a new school, new teachers, new system.But that worked out so well for us because now he got to know all his teachers and he\\'s doing great academically.He\\'s doing amazingly.So that was very good.It\\'s just that he\\'s becoming more addicted and less socially involved and that\\'s the part I\\'m not happy with.Moderator 1:Yeah.So I\\'m curious to hear a little more.What do you think about the way he\\'s learning now has been so good for him? What about it? Parent 5:Yeah.Lucky for us, honest to God, I pray for these teachers.They\\'re amazing.I don\\'t know if it\\'s us, we jut are lucky with the teachers he has.They\\'re very dedicated.He has live classes.I don\\'t feel like he\\'s missing anything.And I also get to see how Andrew is like with his teachers and his classmates.Moderator 1:Like what Parent 3 was saying.Yeah, yeah.Parent 5:And he takes charge also, like another mommy said.It was funny, I was laughing because he does the same thing.He gives everybody advice on technology.He\\'s like the tech person in the class.Even his teachers, they tell me if Andrew\\'s not there, we get nervous.He\\'s enjoying it.I\\'m happy to see how he\\'s like and he\\'s doing great.Moderator 1:Yeah.Parent 5:And I feel like when this is all over, when school is over, I can go back to controlling device time, screen time.Moderator 1:Right.So it definitely sounds like it\\'s been concerning, the addictive part of it, but you\\'re confident that once they\\'re more back in person that you can take over that part again.Parent 5:He\\'s not going to give it up willingly.I\\'ll have to hide devices like I used to before, which is fine.It used to work.So it\\'s good.Parent 3:We\\'ve had to do that too.We have to lock them in a room.Would it be all right if I just add something to what you ...Moderator 1:Yeah, yeah.Add something and then afterwards I\\'m going to move us to the next question.But, yeah.Parent 3:Okay.So there were two things that Parent 5 said that reminded me of stuff with my kids.One of them was that the addiction to the screen time is followed by this ...In the beginning of the pandemic at least, we really had to force them to go outside.One of my kids just had a meltdown yesterday because we had to go to in person violin lesson because her teacher resumed that.She says, \"I don\\'t want to go outside.I don\\'t want to go outside.\" So definitely there\\'s been an element of ...Once they\\'re out, it\\'s okay but it\\'s like leaving the apartment has become a bigger deal.And one of my kids, she had almost lost complete contact with friends until she consciously ...We both, we planned it out.You\\'ve got to start contacting your friends because it just slipped away.The other thing I wanted to say, which Parent 5 was talking about her son\\'s skills with the technology and it\\'s not just the Zoom or the Google Classroom or Google Meet, but my kids have used so many more different types of programs like Flip Grid.They\\'re creating presentations with Google Slides.They\\'re using special effects in their presentations.They\\'re creating videos.The one with the violin, she\\'s working with something called Click Track so that she can coordinate her timing with the timing of someone else\\'s playing so that they can line up their performance videos.They\\'re doing animations for projects.Moderator 1:It [crosstalk 00:44:23] into all these new ways to be really creative.Parent 3:That\\'s been amazing to see that, because they\\'ve then been able to use what appeals to them and what works with their skillset and their abilities to do their assignments, because there\\'s a lot of variability in how they present the information and then they\\'ve got this array of options through technology to work with and that\\'s been a real gift as well.So it\\'s definitely been a double edged issue.Moderator 1:Okay.All right.So the next question that I want to put out there is now that either some people have gone back in person or you\\'re anticipating going back in person, what are the challenges that you anticipate and are there parts of this that you hope will continue and are there parts of this way of educating kids that you hope will end? So who wants to take that one first? Parent 2? Parent 2:I\\'ll go.I guess I\\'m anticipating ...I would like him to go back to school.He\\'s in ninth grade right now.So hopefully he\\'ll be able to go back in person.He does have asthma so that\\'s what I\\'m really concerned about, just him being in person.But I like the aspect that they can utilize their computers in the classroom.That\\'s a good benefit.But I do like the teachers teaching live.That\\'s another thing.But he needs that social skills.That interaction is what really ...It\\'s just me and him in the house and I think we\\'re both getting tired of each other talking to each other.He needs that input with other people, other teenagers his own age.And I like that the teachers are incorporating all this new technology.He\\'s learned how to type and just things he should have known how to do, and even learned life skills within the house, which is great.Just so we could incorporate all those things when they go back into the classroom.Moderator 1:Yeah.Keep the good but it sounds like there are parts of going back that you think are really important like the social part.Okay.Anyone else for-Parent 4:Hi.This is Parent 4.Moderator 1:Hi, Parent 4.Yeah? Parent 4:Yeah.I will be very excited when they go back in person.The part that the teachers are doing a fantastic job and I have to say they are going above and beyond during this remote learning.And I know one thing they said, \"Oh, my kid is so great.She\\'s so great.She\\'s doing so well.She\\'s leading the class.\" Yeah.She is doing a lot of that stuff because she\\'s home with me every day and the teachers don\\'t really have to deal so much with those behavioral issues because now all the behavioral issues are home with me so she can shine with them for the most part.But for my youngest one, she loves that in person and she needs that.For me, I\\'m working every day from home so to work every day from home and try to teach a third grader and a sixth grader, it\\'s very difficult.So I definitely would love for them to be back in school and in person learning and they can use some of this technology and hopefully the teachers will continue to be as great as they\\'ve always been.Moderator 1:Thanks, Parent 4.Anyone else for challenges you anticipate in going back? Things you\\'d want to keep, change? Parent 1:I ...Moderator 1:Hi, Parent 1.Parent 1:Hi.I\\'m looking forward to ...My daughter\\'s about to start five days.She\\'s been going three days, she\\'s been going two or three days, my five and 11-year-old.It\\'s been so exhausting.Well, it\\'s enabled me to see where the problems and challenges are.I\\'ve asked for an IEP review because I\\'m like, \"These are some other issues that I didn\\'t realize were going on.\" It\\'s been so exhausting and I haven\\'t been able to do any of my work.As I think Parent 4 eluded to or said, it\\'s a struggle to do anything you have to do when you\\'ve got these kids that you have to teach as well.So I\\'m looking forward to them being able to go into the classroom and do and have their learning more focused there.And for my five-year-old, it\\'s so important because of the social stuff and for my 15-year-old, she\\'s just going to be starting back three days.And she\\'s done really well with being fairly connected to people given that she\\'s never stepped foot in her school.She\\'s in ninth grade.But it\\'s going to be great for her to be able to be there and really to connect with her teachers and with her classmates.What I\\'m worried about is that ...Well, two things.One, is it gets harder for the older one who needs a little bit more ...Who\\'s not as self directed and so she\\'s then more independent, which actually makes it a challenge for me to keep track of what\\'s going on.But my 11-year-old has so much anxiety, she gets so many physical symptoms of that, that she\\'s had a lot of school refusal in the past.And having it be just two or three days was what kept us going this year, was you can go, you can have that time, but guess what? When she was refusing on a Wednesday, \"I\\'m not going to school.I feel sick.My stomach hurts.My head hurts.\" We would say, \"But it\\'s the last day of the week.Then tomorrow and Friday you\\'re home.\" So that was what kept us going.I\\'m not looking forward to those morning challenges again because I feel like it\\'s going to be a lot for her because she\\'s just so anxious.Moderator 1:Right.Especially after being out for so long probably.Parent 1:Yeah.Moderator 1:Anyone else for challenges going back.Parent 5, yeah? Parent 5:Well, my kids are not too excited about going back to school and that worries me.Neither am I.I\\'ve gotten really very selfish.I enjoy having them home.I love having them home.And the only thing we miss really is the social aspect of being physically in school and the after school programs.I had them registered in chess, soccer, all these activities.But having them home has been awesome.So I think it\\'s going to be difficult for all of us when they start going back to school.Moderator 1:Yeah.That separation again.You get used to [crosstalk 00:51:16] keeping them close.Parent 2:I could just briefly-Moderator 1:[crosstalk 00:51:20]Parent 2:Yeah.If I could just briefly piggyback off of what everyone had shared is my son has been fully remote and I think with him graduating fifth grade, entering a new school sixth grade.That\\'s already some pressure right there and whether or not he\\'ll be in blended learning or in in-person learning full time, that\\'s really dependent on the current environment around September.My son as well has asthma so, of course, that\\'s always his health.His safety is always at the forefront.And my son, again, I had JD as an IEP so he\\'s very hands on, visual type of student who requires that physical in person learning.It\\'s not to say that he can do without, but in a physical classroom setting I feel that now that he\\'s matured and has a little more confidence, he can enhance those skills better in in-person learning.Again, I\\'m with Parent 5.We all have enjoyed being ...I\\'m a social butterfly, but I really am recluse as well.And I passed that along to my son.We\\'ve been home together during this time, however, it\\'s going to be a change for the both of us.Myself, I\\'m being called back into work as well.So getting into a new normal, of course, it\\'s going to take some adjusting to, but I\\'m sure that we can overcome any challenges that we face, especially if we are not only physically prepared but mentally prepared for it as well.Moderator 1:Yeah, yeah.Parent 6:I just want to add my kids have been full time for a while.My husband and I are both essential workers so we\\'ve had no choice other than we had to keep him out of school.They\\'re really happy back in school full time now.Moderator 1:Good.Was it hard for them to go back? Did they face any challenges? Parent 6:My oldest is now in middle school so he had to wake up early.So he had to get on the bus-Moderator 1:That\\'s a challenge regardless probably.Parent 6:He had to leave at 7:00, so that\\'s really his only complaint.Other than that, he said that he\\'s really, really happy to be back in school.They\\'re really enjoying being with the other kids.Moderator 1:Good to hear.Thank you, Parent 6.So we have about 15 minutes left.I want to be respectful of your time because I really appreciate you taking out some time to talk to us.For the last 10 or 15 minutes, I\\'d like to just shift the conversation a little bit to talking about social media and media use specifically.Just hearing some experiences about what was the social media and media used, and by media we mean YouTube or any kind of media that they\\'re consuming.What was the use like before the pandemic, how has that changed? Any concerns, any benefits that you\\'re seeing from changes in social media use? So whoever wants to start us off.Parent 6:I\\'ll start us off.Moderator 1:Okay, [crosstalk 00:54:49].Parent 6:So what\\'s changed with the social media, so my kids, as I\\'m sure all the rest of the year kids do also, they really like Roblox and they want to play with their friends.So before it was more controlling, okay, you have this amount of time to go on YouTube, you have this amount of time to play.But now, when everybody was home, the Roblox playing with friends and talking on the phone at the same time was the only socialization that they had.That was their only option.So it got a little more and a little more and then they said, \"Oh, well, I\\'m playing with my friends so can I keep playing?\" So then that time extended a little bit.So it\\'s hard when that is the only way that they could socialize or when they\\'re on FaceTime, when they\\'re going on FaceTime with friends.When that\\'s the only way that they could socialize, that has been really difficult to reign it in and stop them from it.So we\\'ve been having a lot of challenges with that.And then the YouTube videos start and that\\'s when everything they have, like their school issued iPads, and so I could take away their own personal devices, but the school iPads have YouTube on them.So I can\\'t ...It\\'s for school so I can\\'t just take it away.So then-Moderator 1:[crosstalk 00:56:16]-Parent 6:...they end up sneaking.Mm-hmm (affirmative).It\\'s a lot harder.And sometimes I don\\'t even want to because that\\'s the way that they\\'re able to socialize.They\\'re starting to go to the park with kids and doing more now but it\\'s been a challenge this whole time.Moderator 1:Thanks, Parent 6.Who wants to go next? Parent 3:I\\'ll go.Moderator 1:Thanks, Parent 3.Parent 3:So I\\'ve had a very similar experience.My then eighth grader was already on social media because I reluctantly let her have an Instagram account because her class at school, her cohort, had a cohort Instagram chat going and they mostly used it for things like, \"Hey, I have a doctor\\'s appointment today.Can anyone tell me what I\\'m going to miss in this class?\" For that type of thing.So they mostly used it well.There were some incidents though of kids sharing porn and things like that on it.That was obviously a problem.But this year, yeah, she\\'s used it really ...That, and the other thing was SnapChat that I was like, \"You cannot have SnapChat.Absolutely not.It\\'s like a sexual predator\\'s playground.\" And then she had a friend, a pen pal in New Zealand, who she found out was on SnapChat.So then it was like, \"All right.\" Kind of like Parent 6 was saying, that\\'s how they connect.I mean, yes, they can write letters but it\\'s so much more immediate and they socialize so much more so I was like, \"Fine, okay.You can use SnapChat.\" So it was creeping up.But I think I have to have my rules.I have to have the passwords.I have to have access because I want to make sure that they\\'re safe online.And so I periodically go in and check.My 11-year-old doesn\\'t have any of these accounts.What she has is YouTube and she\\'s become obsessed with various YouTubers and it\\'s prompted some discussions about what we value and what we don\\'t.She definitely sneaks it when she\\'s not supposed to.That\\'s definitely been a challenge.And again, same thing, school computer, you can\\'t exactly ...I mean, she does have to do work.It\\'s been great in some respects because she\\'s been able to use it for school, but also I don\\'t really want you looking at these people and following what they\\'re doing because I don\\'t agree with it.So, yeah.That\\'s been a little bit of an issue.I\\'ve worried a lot about body image and things like that with them because I feel like when they\\'re following these people on whether Instagram or YouTube or wherever else, a lot of these people are making tons of money as so called influencers and they have a very different lifestyle.And I feel like sometimes that\\'s hard for them to see.But one of my kids went through a little bit of an issue around food and she was talking about like she wished she could be anorexic because she wanted to be a certain way and we had to have a whole discussion with the psychiatrist around that and talking about positive body image and stuff.And I think she seems like she\\'s on a better path.But I wanted to say one last thing about it, is that where it has been really good is that my oldest daughter, during this time, she seems to be like a lot of adolescent girls are, I\\'m reading, she\\'s developed vocal and motor ticks, which is one thing I\\'m worried about when she goes back to school.At home she can hide it from people to some degree but when she\\'s in person, it\\'s a lot harder.But she\\'s actually connected a lot with people on Instagram who also have some of these struggles and she\\'s starting to talk about herself more as neurodivergent as opposed to having a disorder and things like that, and learning techniques for managing it.She\\'ll say, \"Oh, I found out that so and so on Instagram has the same kind of ticks that I do and this is what she does to help herself.That\\'s been fantastic, that it\\'s really enabled her to develop a sense of agency around herself and her managing [crosstalk 01:01:17].Moderator 1:Yeah.Just connect with people that she may not have ever had access to.Parent 3:Yeah, yeah.So that\\'s been the positive, whereas the rest is like a minefield.Moderator 1:Yeah, yeah.Thanks for sharing that.Yeah, Parent 4? Parent 4:I have to say that my kids, even the eight-year-old, everyone wants to be a YouTuber.They want to be a YouTube star or they want to be famous or Instagram famous and that\\'s killing me right now.Because with everything that\\'s going on, you\\'re like, \"What happened to I wanted to be a doctor or lawyer or teacher?\" Everyone want to be a YouTuber and even the eight-year-old.I\\'ll go, \"What do you want to do on YouTube?\" And she\\'s struggling with, \"Maybe I can open toys.\" I\\'m just so over it.I just feel like I have to get back to basics.And it\\'s harder with the 12-year-old because she\\'s exposed to so much and she\\'s faster than I am with these computer skills.So if I see something I don\\'t like, she can hit two or three buttons and it\\'s done.So I spend the rest of my time going, \"Go back to that page.Go back to that page.I know I saw it.\" I just feel like this whole social media, these influencer ...And I didn\\'t even know what an influencer was before the pandemic.I had to learn all of this during the pandemic.And when they see these kids in these beautiful houses and their parents.The YouTubers where the twin girls or whoever, all I can do is watch it and say, \"Hey, their house is clean.You see they cleaned their room.Are you cleaning your room? They make their beds every day.Yes.\" So these people are making tons and tons of money and they have all of these toys and these beautiful houses.Like one young lady said, the body imaging.I\\'m watching my 12-year-old constantly looking at her body and excited about it or say, \"Hey, I want my boobs bigger or maybe my butt should be bigger.\" I\\'m so over it.So even when this pandemic is over and these kids are back in school, this whole social media presence is here to stay.And I have to now navigate it so that I know what my kids are doing.And that whole SnapChat, I had to shut SnapChat down so quick because it\\'s just too much.And the schools don\\'t have SnapChat on their computers so I can say, \"Hey, no.We\\'re not having it.\" But the social media presence, I just have to stay on top of it.And with all that I have to do, I really don\\'t want to be on social media like that but I have to.Moderator 1:Yeah.It sounds like it\\'s hard to keep up with, but thank you for highlighting [inaudible 01:04:34].Those are really important points.We have a couple more minutes.Does anyone have anything to add in terms of social media that we haven\\'t already said.Yeah.Hi, Parent 5.Yeah? Parent 5:I actually thank you for this meeting because I thought I was the only one in this world that\\'s having a problem with YouTubers.My son has developed such an addiction to video game YouTubers and I freak out.I just flip.The more I tell him not to be on them, the more addicted he gets.Like I said, after school I\\'m hiding all devices.Hopefully it\\'ll be under control.Moderator 1:Yeah, no.It\\'s a challenge and I think as we\\'re having these meetings, we\\'re hearing that a lot from parents.We really thank you for taking some time to share this and contributing to the research.Part of our goal in this project is to really raise awareness of a lot of the challenges that parents are facing.Parent 5:Thank you.Moderator 1:Administrator, do you want to close us out? Administrator:Yeah.Just like Moderator 1 said, we\\'re seeing the same commonalities with the Roblox, the Instagram, YouTube, SnapChat.In fact, all of the parents have been echoing the same thing that you guys have been saying, so you are not alone in your sentiment.And we just really thank and appreciate you for taking the time out to really help us and giving us just your sentiments and the things that you guys have been going through.Just because sometimes, like in yesterday\\'s group, parents were talking about just how some parents will say that they\\'re doing such an amazing job with their kids and everything.And as a parent, feeling as if you\\'re not doing the best, that you\\'re having a hard time just navigating this new life with your child.So we really appreciate all of your sentiments.Thank you so much for just taking the time out to be here with us today.In regards to compensation, I\\'m going to be sending our administrator your contact information so you guys should be receiving compensation either by today or no later than Monday.So I would say if by Monday evening you don\\'t get it, please do not hesitate to give me a call or email me back just to let me know that you guys did receive it.Parent 5:Thank you very much for the meeting.It was very beneficial for me personally and it was nice meeting all the other parents.Parent 3:Yeah.Thank you.Moderator 1:Thank you all.It was a pleasure meeting you.Parent 1:Definitely.'"
            ]
          },
          "metadata": {},
          "execution_count": 38
        }
      ]
    },
    {
      "cell_type": "code",
      "metadata": {
        "colab": {
          "base_uri": "https://localhost:8080/"
        },
        "id": "H5aa1Cm6NL8r",
        "outputId": "4d1f01e0-b835-4c82-f343-21aeaf44a1e8"
      },
      "source": [
        "split_sent"
      ],
      "execution_count": null,
      "outputs": [
        {
          "output_type": "execute_result",
          "data": {
            "text/plain": [
              "['Parent 1: Hello, good afternoon',\n",
              " 'Parent 2:Hi',\n",
              " 'Moderator 1:Hi Parent 2 and Parent 1 Thank you guys for joining',\n",
              " 'Parent 2:Hi',\n",
              " 'Good afternoon',\n",
              " 'Parent 1:Good afternoon',\n",
              " \"Moderator 1:So I think we're going to be a group of either five or six parents today so I'm just going to wait for a few more people to sign on\",\n",
              " 'Parent 1:Okay',\n",
              " 'Parent 2:Okay',\n",
              " ' Moderator 1:Hi, Parent 3',\n",
              " 'Welcome',\n",
              " 'Parent 3:Hi',\n",
              " 'Sorry',\n",
              " \"I had the volume all the way down so I couldn't hear but I-Moderator 1:No problem\",\n",
              " \"We're just waiting a few minutes for everyone else to join but we'll hopefully [inaudible 00:07:46] soon\",\n",
              " \"Parent 3:As soon as I came into my room, my husband's out there but I can hear my kids start fighting\",\n",
              " 'He was like, \"Why do you start fighting the instant your mother goes into the other room',\n",
              " '\" Better him than me, I suppose',\n",
              " \"Moderator 1:It's nice they're doing something else\",\n",
              " 'Parent 3:Right',\n",
              " 'Moderator 1:Hi, Parent 6',\n",
              " 'Welcome',\n",
              " 'Hi, everyone',\n",
              " 'Good afternoon',\n",
              " 'Hi, Parent 4',\n",
              " 'Welcome',\n",
              " 'Parent 4:[inaudible 00:08:43]',\n",
              " 'Hi',\n",
              " 'Moderator 1:Hi, everyone',\n",
              " 'Hi, Parent 5',\n",
              " 'Parent 5:Yes, yes',\n",
              " 'Moderator 1:Okay, welcome',\n",
              " 'Parent 5:[crosstalk 00:08:56]',\n",
              " \"Moderator 1:So we're all here\",\n",
              " 'So thank you so much for taking out some time to [inaudible 00:09:05]',\n",
              " 'We know that you all filled out our crisis questionnaire already and we really just want to use this to go a little bit more in depth, to hear about your experiences with technology over the past year and a half since the start of the pandemic',\n",
              " \"So I was thinking we could start by just going around, say your name, maybe the age of your kids, and if you have a good TV or movie recommendation for something that you've watched, maybe share that with us as well\",\n",
              " 'So I can start',\n",
              " 'My name is Moderator 1',\n",
              " 'I am a neuropsychologist with the Healthy Brain Network',\n",
              " 'And a good TV show that I have started to get into during the pandemic is Good Girls',\n",
              " \"It's about three housewives who end up getting involved in crime\",\n",
              " 'I really like it',\n",
              " \"So it's nice to meet you all\",\n",
              " 'Thank you for taking some time',\n",
              " 'So who would like to go next',\n",
              " ' Parent 2:I can go',\n",
              " 'Moderator 1:Yeah',\n",
              " 'Hi, Parent 2',\n",
              " \"Parent 2:I'm Parent 2\",\n",
              " 'I live in Brooklyn',\n",
              " \"I'm an academic advisor\",\n",
              " 'I have a 14-year-old son',\n",
              " 'And a movie that I just saw was Thunderforce, which is cool with two women that are like superheroes',\n",
              " 'That was funny',\n",
              " 'Moderator 1:Oh, cool',\n",
              " 'Thanks, Parent 2',\n",
              " \"Who's next\",\n",
              " ' Parent 2:Hi, Parent 5',\n",
              " 'Parent 5:Hi',\n",
              " 'My name is Parent 5',\n",
              " \"I'm Andrew's mom\",\n",
              " \"He's 12 years old and we live in Brooklyn as well\",\n",
              " 'We had a chance to go to the theater in February and we saw the new released Tom and Jerry movie and it was amazing',\n",
              " 'My kids enjoyed it so much',\n",
              " 'It was funny',\n",
              " 'Moderator 1:Okay',\n",
              " 'That sounds fun',\n",
              " 'Thanks, Parent 5',\n",
              " \"Who's next\",\n",
              " ' Parent 1:Hi',\n",
              " 'My name is [Parent 1 00:11:15]',\n",
              " 'Hi',\n",
              " 'Yes',\n",
              " 'My name is Parent 1',\n",
              " 'I have a handsome and inquisitive young 10-year-old son',\n",
              " 'His name is Kal-El, like Superman',\n",
              " \"And we're originally from New York and we have been enjoying some quality time during this quarantine, although we have a little bit of cabin fever\",\n",
              " \"I'm not too much of a TV watcher, however, I am a book reader and a few of my favorite books thus far is The Science of Getting Rich by Wallace D\",\n",
              " \"Wattles and Opening Your Mind to Prosperity by Catherine Ponder and some of the principles in those books I've been allowing my son to also study\",\n",
              " \"And it's more so about opening your mind and creating your world through the power of thought\",\n",
              " 'So I definitely recommend those books',\n",
              " \"And thank you for welcoming me and I'm grateful to be a part of this group today\",\n",
              " 'Moderator 1:Thank you, Parent 1',\n",
              " 'Who wants to go next',\n",
              " \" Parent 3:I'll go\",\n",
              " \"I'm Parent 3 and I have three children, they are 15, almost 11, my middle child will be 11 on Tuesday, and five\",\n",
              " 'My oldest two are enrolled in the study',\n",
              " 'Anyway, I live in Brooklyn',\n",
              " 'What was the other thing',\n",
              " ' Oh, the show or something',\n",
              " \"It's funny, I haven't watched anything really contemporary, but my husband has been binge watching shows like American Horror Story and I've been binge watching period romance and dramas and stuff\",\n",
              " \"I'm the opposite\",\n",
              " \"During the pandemic I've just been looking for total escape, so like Jane Austin, different mini series and Outlander and Pole Dark and stuff like that\",\n",
              " 'Moderator 1:I hear that',\n",
              " 'I hear that, Parent 3',\n",
              " 'Thank you',\n",
              " 'Okay',\n",
              " \"Who's next\",\n",
              " ' Parent 4',\n",
              " ' Parent 6',\n",
              " \" Parent 6:I guess I'll go\",\n",
              " 'My name is Parent 6',\n",
              " 'I have three kids, two were enrolled in the study',\n",
              " 'I have an 11-year-old, I have an eight-year-old, and a four-year-old',\n",
              " \"They're all boys\",\n",
              " \"I haven't really watched much shows recently, but I do a lot of reading as well\",\n",
              " \"Good book that I really enjoyed recently was The Alchemist is a pretty good book that I've read recently\",\n",
              " 'Moderator 1:Thank you',\n",
              " 'Thank you, Parent 6',\n",
              " 'And Parent 4',\n",
              " ' You there, Parent 4',\n",
              " \" I think you're on mute right now\",\n",
              " \"Parent 4, I think you're on mute but try to see if you can get your audio on\",\n",
              " 'In the meantime, [Administrator 00:14:53], do you want to introduce yourself',\n",
              " ' Administrator:Hi, everyone',\n",
              " 'Wait, can you all hear me',\n",
              " ' Awesome',\n",
              " \"So I'm Administrator\",\n",
              " \"I am a research assistant here at HBN and the person that's been hounding you all\",\n",
              " 'So thank you all so much for being here',\n",
              " 'Introductions',\n",
              " 'I forgot what we were doing',\n",
              " 'Moderator 1:If you have a TV show, book, movie-Administrator:Yes',\n",
              " 'Okay',\n",
              " 'So the TV show would be Lovecraft Country',\n",
              " \"It's based on a book but it's set in I think the Jim Crow era and basically the protagonist, he's a Pitts family bloodline as a part of magician cult thingy\",\n",
              " \"So he's trying to garner the magic to share to his offspring\",\n",
              " \"And it's an adventure and all that good stuff\",\n",
              " \"It's really, really good\",\n",
              " \"They finished season one and I'm looking forward to season two\",\n",
              " \"It's on HBO Max\",\n",
              " \"I don't know about any other things\",\n",
              " \"Oh, I'm from Brooklyn\",\n",
              " 'Yeah',\n",
              " \"That's my introduction\",\n",
              " 'Moderator 1:Thank you, Administrator',\n",
              " 'Okay',\n",
              " \"So Parent 4, if we can help you, you can use the chat and just let us know if there's anything we can help you with\",\n",
              " \"Yeah, definitely pipe up whenever you're audio starts working\",\n",
              " 'Parent 4:Hi',\n",
              " 'Can you hear me okay',\n",
              " ' Moderator 1:Yeah',\n",
              " 'We can hear you',\n",
              " 'Parent 4:[crosstalk 00:16:29]',\n",
              " 'Moderator 1:Yes',\n",
              " 'Hi, Parent 4',\n",
              " 'Parent 4:Hi',\n",
              " \"I don't know\",\n",
              " \"I didn't quite hear what part of the introduction\",\n",
              " 'What would you like from us to present in this introduction',\n",
              " 'Moderator 1:Just say hi, the ages of your kids, and if you have a recommendation for us for TV, book, movie',\n",
              " \"We'd love to hear\",\n",
              " 'Parent 4:Oh',\n",
              " 'I just got to second that Lovecraft one because I totally, totally enjoyed that',\n",
              " 'My kids, I have four children, two older and two younger',\n",
              " 'So I would say I have two sets of kids',\n",
              " 'So my first two, my son is a principal and my daughter is a district manager for a business',\n",
              " \"And the last two, my daughter is in the third grade, so she's 12 \",\n",
              " 'No',\n",
              " 'Wait a minute',\n",
              " 'And I have a 12-year-old and an eight-year-old',\n",
              " \"I'm the mom, right\",\n",
              " ' And I have a 12-year-old and an eight-year-old',\n",
              " 'Those are the last two',\n",
              " 'And the last two are girls',\n",
              " 'Moderator 1:Very nice',\n",
              " 'Okay',\n",
              " 'Thank you, Parent 4',\n",
              " 'Okay',\n",
              " 'So again, thank you all for coming',\n",
              " 'I was thinking that we could start with a little exercise',\n",
              " 'If you have a paper and pencil nearby, try to jot down a few positive ways that technology has impacted your children during the pandemic and als then a few negative ways that technology has impacted your children during the pandemic',\n",
              " \"So let's just take a few minutes to do that and then we'll discuss\",\n",
              " 'Parent 3:I have to go get a pen and paper for that',\n",
              " '[crosstalk 00:18:22]',\n",
              " 'Moderator 1:Thanks, Parent 3',\n",
              " 'Parent 4:Hello',\n",
              " ' Can you hear me okay',\n",
              " ' Moderator 1:Yes',\n",
              " 'We can hear you, Parent 4',\n",
              " 'Parent 4:Yeah',\n",
              " \"I'm trying to move where I can get a great wifi signal because I see that's what the problem is\",\n",
              " \"I can get mine too, because I don't have a pen and paper right now\",\n",
              " 'Moderator 1:Okay',\n",
              " \"So I'll ask for them in a minute\",\n",
              " 'But, yeah',\n",
              " \"When we discuss, just think about them if you don't have a pen and paper\",\n",
              " 'Parent 4:Okay',\n",
              " \"Moderator 1:And then as you're jotting them down, I'd also like you to think between the positives and the negatives, which one has had the biggest overall effect\",\n",
              " ' So has the negative parts of technology had a bigger overall impact on your children or have the positive effects had a bigger overall impact',\n",
              " ' And just circle whichever one',\n",
              " 'Okay',\n",
              " 'Does everyone have some things jotted down or in their mind',\n",
              " ' Parent 1:Yes',\n",
              " 'Moderator 1:Okay',\n",
              " \"So by show of hands or speaking up if you're not on video, how many people circled the negative list as having the bigger overall impact\",\n",
              " 'Okay',\n",
              " 'Parent 6 circled the negative list, Parent 2, Parent 5',\n",
              " 'I see Parent 4',\n",
              " 'Okay',\n",
              " 'Parent 1, did you circle the negative or the positive list',\n",
              " ' Parent 1:I circled the positive',\n",
              " 'Moderator 1:Okay',\n",
              " 'And what about you, Parent 3',\n",
              " \" Parent 3:I'm really finding it hard to choose\",\n",
              " \"I still think it's a tossup\",\n",
              " 'And partly too, with the two kids, there are different benefits and challenges for each one',\n",
              " \"I'm falling right in the middle\",\n",
              " 'Moderator 1:Okay',\n",
              " 'Yeah',\n",
              " \"Let's definitely go into that\",\n",
              " 'I think it sounds like there are negatives and positives all around',\n",
              " 'I definitely encourage ',\n",
              " \"As we go through this discussion, what we've been seeing is that there are a lot of people who are having very overlapping experiences and agree on some things and then there are definitely people who hare having different and more unique experiences\",\n",
              " \"So please feel free to chime in on your individual experience even if it may be different than what you're hearing from other people\",\n",
              " 'So the first question that I want to put out there for discussion is how did your children use technology for educational purposes before the pandemic',\n",
              " ' And did you have any concerns or what were the benefits of technology for education before the pandemic',\n",
              " \" And then maybe speak a little bit about now during the pandemic, how that has changed, if that's changed, and if you have more concerns or if it's been beneficial during the pandemic\",\n",
              " ' So who wants to start',\n",
              " \" Parent 6:I'll start\",\n",
              " 'Parent 2:I can go first',\n",
              " '[crosstalk 00:22:40]',\n",
              " 'Moderator 1:Here, how about Parent 6',\n",
              " \"Parent 6:So before the pandemic I feel like, especially with technology, my kids didn't really have much at all that they had to do\",\n",
              " \"My oldest is in sixth grade now, so I think that might have changed going to middle school, however, while they were in elementary school, they really didn't have any assignments that they needed technology for, for the most part\",\n",
              " 'So it was rare',\n",
              " 'And then, of course, last March school went completely virtual and everything was online',\n",
              " 'So it was like a night and day change for us',\n",
              " 'It was a disaster, to be honest',\n",
              " 'Moderator 1:Okay',\n",
              " 'So what were some of your concerns or what did you find problematic about using technology for education',\n",
              " \" Parent 6:Well, really, they're on all day\",\n",
              " \"They're on all day\",\n",
              " 'Now, one of my children is a really unique learner and one of them did okay',\n",
              " 'One of them was able to go on',\n",
              " 'But then one of them is really ',\n",
              " \"He's unique and his teacher not seeing him in person, it affected him\",\n",
              " \"Even this year, for example, he started fully virtual at the beginning of the school year and his teacher, since she hadn't met him and she hadn't seen him in person, she didn't grasp that if he wasn't doing an assignment, it wasn't because \",\n",
              " \"He has ADHD and if he wasn't doing the assignment, it wasn't that he was trying not to do it, he was just having a hard time and she wasn't there to be able to intercept and to sit with him and to see how she could help him\",\n",
              " \"She wasn't able to help him because she didn't know what the problem was because he wasn't there\",\n",
              " 'Moderator 1:Right',\n",
              " 'So it sounds like he lost out on that one to one',\n",
              " 'Parent 6:Yeah',\n",
              " \"Now he's back full time and he is doing a lot better\",\n",
              " \"Still, I feel like they're just online all day long and it's a problem\",\n",
              " 'Moderator 1:Thank you, Parent 6',\n",
              " 'Can someone else share their experience with technology [crosstalk 00:24:57]',\n",
              " 'Yes, Parent 1',\n",
              " \" Parent 1:I might echo Parent 6 because, similarly, my son too, prior to the pandemic the most time he would spend on any electronic device was either in school for a computer media class and then after school or after homework, he'll have some free time, we call it free time, where he can play on his iPad or his cellphone for a couple of hours before bed\",\n",
              " \"But, I mean, it was a total 180 where now he's fully remote\",\n",
              " \"And actually, it was like a double whammy because I was actually diagnosed with breast cancer in February, so having this diagnosis and having the pandemic and then all of this pressure on my son to make sure that I'm healthy, make sure that he's doing well in school, it did take a negative toll at first\",\n",
              " 'But, again, through reading affirmative things and helping him along and making sure that he sees me in a not just a healthy state but also in a physically healthy situation, it helped him',\n",
              " 'But literally, his electronic usage went from pretty much nonexistent to almost 200%, because after school he goes directly to his iPad to play',\n",
              " \"When that dies, he goes directly to his iPhone and then if that dies, then he'll go to my computer to do classwork\",\n",
              " 'It was like a never ending cycle and I have to break him off of it',\n",
              " \"I would try to have not just physical exercise but mental exercise as well when he's on break and when I also work remotely, fully remote, we would for lunch just go outside, take a walk, just talk about the sky or talk about the birds chirping\",\n",
              " \"Something that we don't have to focus on where it's a problem or it's worrisome\",\n",
              " 'That seemed to help for the time being',\n",
              " \"But I think when we come back indoors, it's back to the gadgets\",\n",
              " 'I would say his learning, his academics actually improved',\n",
              " 'He has an IEP',\n",
              " 'He has-Moderator 1:Yeah',\n",
              " \"I'd like to hear about that, because I know that you had said that there was an overall positive effect\",\n",
              " 'So can you speak a little-Parent 1:Yes, yes',\n",
              " 'Moderator 1:',\n",
              " 'on the academic piece',\n",
              " 'Yeah',\n",
              " 'Parent 1:Right',\n",
              " \"I mean, as much as he's on these devices, he actually improved academically because it enhanced some of his skills that he already had, his computer skills and navigating\",\n",
              " \"He was able to work independently and actually become a leader in his class where he's in the chatroom trying to troubleshoot those who are even having technical difficulties logging on\",\n",
              " \"It'd be so funny\",\n",
              " 'But-Moderator 1:[crosstalk 00:27:58] tech support for the ',\n",
              " 'Parent 1:Right',\n",
              " 'Well, can you help mommy record this Zoom',\n",
              " \" But I've seen and his teachers have also seen a very much more confident student and person overall\",\n",
              " 'Not to take up too much time, but my son, he had confidence issues and wanting to be liked by everyone, wanting to be friends with everyone',\n",
              " 'But this past year especially, he really stepped up to the plate and actually became the leader confidently and was able to excel',\n",
              " \"So I'm very proud of him\",\n",
              " \"I'm very proud of him\",\n",
              " 'Moderator 1:Right',\n",
              " 'So it sounds like the emphasis on computers skills really brought out some nice strengths for him in those places',\n",
              " 'Well, good',\n",
              " \"That's great\",\n",
              " \"Parent 1:And I'm cancer free too\",\n",
              " 'So [inaudible 00:28:49]',\n",
              " 'Moderator 1:Wow',\n",
              " 'That is really great to hear',\n",
              " 'Parent 1:Yes',\n",
              " 'Thank you',\n",
              " 'Parent 4:I just want to say-Moderator 1:Who wants to go next talking about-Parent 4:Can you hear me okay',\n",
              " ' Moderator 1:',\n",
              " 'technology for education',\n",
              " ' Sorry, Parent 4',\n",
              " \" Parent 4:Can you hear me okay because I'm struggling with my technology\",\n",
              " 'Moderator 1:Yeah',\n",
              " 'We can hear you',\n",
              " 'Parent 4:I can either do video or audio but-Moderator 1:[crosstalk 00:29:12]-Parent 4:Everything at one time is not working for me',\n",
              " \"So that's why I wanted to go ahead and say what I have to say\",\n",
              " 'So if you can hear me-Moderator 1:Yeah',\n",
              " 'Parent 4:You can hear me',\n",
              " ' Moderator 1:We can hear you',\n",
              " 'We can hear you',\n",
              " 'Parent 4:Okay, great',\n",
              " \"So it has had a negative impact on my household because it's too much computer time\",\n",
              " 'And I remember those questions when I was filling out one of those questionnaires when I brought my daughter there to be evaluated',\n",
              " 'It was speaking about the problems in reference to the computers',\n",
              " 'I\\'m like, \"I don\\'t have those kind of problems',\n",
              " 'What are they talking about',\n",
              " '\" Now fast forward to this pandemic, now I understand',\n",
              " \"I'm having those problems\",\n",
              " \"I'm having problems because now she wants to be on the computer all the time and it's hard for me to take it away because she has to do her schoolwork and she's learning remotely\",\n",
              " 'It\\'s hard to sanction that because she\\'ll say, \"Oh, I need to do my homework, or I need this app or that app',\n",
              " '\" It\\'s just difficult to sanction the time so I have to let her use her computer but I catch her and she\\'s getting in trouble with the computer because now all of these open sites and bringing up conversations that I never thought I would have to have with my 11-year-old daughter because she\\'s on all of these different sites',\n",
              " \"And here, I'm putting in all these parental controls but she's very savvy so she can overstep those controls and now her and her friend and then teaching her how not to turn over your screen to your friend, I know you think is your friend, but there's so many things that you can get into problems with\",\n",
              " \"So for me, I'm just devastated by all of this computer time\",\n",
              " 'And I have two children, so even the little one ',\n",
              " 'I mean, they need some in person',\n",
              " 'They need to not always have to rely on the computer',\n",
              " 'And that was my problem even before the pandemic because I saw the teachers were moving into having your children learn more with these apps',\n",
              " \"And sometimes I have to tell them it's okay for them to use pencil and paper because I feel you learn better, at least until you have the concept, then you can do it on the computer\",\n",
              " 'Yeah',\n",
              " \"I'm not impressed with all of this, everything on the computer\",\n",
              " \"For me, it's just a negative impact\",\n",
              " 'Moderator 1:Right',\n",
              " \"And it sounds like it was a big switch for your family and that it also, that point that you made, I appreciate that, that the fact that it's needed for school purposes makes it a little bit harder to control it because it's not like you can just say no computers at all\",\n",
              " 'Okay',\n",
              " 'Thanks, Joanna',\n",
              " \"So who-Parent 3:I'll go\",\n",
              " 'Moderator 1:',\n",
              " 'would like to share on that',\n",
              " ' Parent 3, yeah',\n",
              " ' Parent 3:Yeah',\n",
              " 'So before the pandemic, my oldest daughter who was then in eighth grade, she was the primary computer user in terms of schoolwork',\n",
              " 'But even then, she still had other things that she could use',\n",
              " 'She had texts that they would send home',\n",
              " 'She had articles that were printed out already or worksheets or things like that',\n",
              " 'She has some trouble with writing',\n",
              " \"She had OT to help her with writing for, I think it's dysgraphia\",\n",
              " \"And it's much, much better now\",\n",
              " 'So the computer, she tended to use it a bit for anything that involved writing and she did a lot of voice to text and things like that anyway, but she did have a lot of alternatives',\n",
              " 'My middle daughter who is about to turn 11, she hardly used the computer at all',\n",
              " 'She used it sometimes for some research things if she was working on a project',\n",
              " 'But most of her work was either done in school or it was done on paper',\n",
              " 'It was read a book and write a paragraph or something like that',\n",
              " 'She was then in fourth grade',\n",
              " 'Then, of course, this hit and they were 100% learning online',\n",
              " 'It was more successful for my fourth grader because her teacher had it organized',\n",
              " 'She would give them a checklist on Google Classroom so they could see what they needed to do each day',\n",
              " 'She would give them a preparation for what was coming up, like, \"Here\\'s what the week will look like',\n",
              " '\" And she also had live class sessions and she had it broken into ',\n",
              " 'She did three meetings per day, and one was a morning meeting to talk about the plan for the day, then she would give them an assignment, then she would have them meet back again an hour later to check in about the assignment and do the next thing',\n",
              " 'And then in the afternoon she did some small group work',\n",
              " \"Where it was really challenging is that my daughter is in a French dual language program and so, of course, and we're anglophone, so that just dropped\",\n",
              " \"I mean, that's one reason why her teacher tried to do a lot of small group work to try to help build that up, but that was certainly a challenge for us\",\n",
              " \"We had to try to find ways to help her be exposed to the language so she wouldn't lose her ability then for starting fifth grade and then struggling\",\n",
              " 'But my eighth grader, some of her teachers were amazing with checking in and having office hours and doing some instruction and tutoring and things like that online and some of them, it was like they just were phoning it in at the end of the semester and she was teaching herself',\n",
              " 'And that was very difficult',\n",
              " \"This year, it's changed because now she's in high school and she's at a performing arts school\",\n",
              " \"It's been a real challenge because her art is violin and it's really hard to do instrumental work with groups Zoom\",\n",
              " \"They've done their violin lessons on Zoom but it was just one on one\",\n",
              " \"But her orchestra class, they really haven't done any orchestra all year because you can't really do an orchestra on Zoom\",\n",
              " \"There's a lag between the things\",\n",
              " \"So that's been a little bit of a challenge\",\n",
              " \"But she's had all live classes online this year, because their school, that's how they set it up\",\n",
              " 'That has been fantastic',\n",
              " \"Because it's enabled two things to happen\",\n",
              " \"One is that because she does have ADHD and she has a really hard time organizing herself, she doesn't really have to organize herself because she's in the lessons all day\",\n",
              " \"And then she has a little bit of homework to do, but it's not an extreme amount\",\n",
              " \"And they do a lot of breakout rooms and stuff so she's able to do some small group work and it helps her, I think, because she doesn't have to be teaching herself\",\n",
              " \"It also helps because when I'm home, I'm hearing what she's learning in class\",\n",
              " \"That's been really great\",\n",
              " \"With all my kids, hearing their teachers teaching them online, I've been blown away by the skill of these teachers\",\n",
              " \"They're amazing\",\n",
              " \"And the thoughtfulness that they put into their projects and developing their curriculum, it's just outstanding and I feel like that's been a great gift to have that insight\",\n",
              " 'And it\\'s also helped me when it comes time for me to help them, because I can say, \"Oh, no',\n",
              " 'Remember, Mme Simone was saying that you needed to do this with this project',\n",
              " 'Yeah',\n",
              " \"I understand you forgot that, but I heard her say it so let's do that\",\n",
              " '\" So that\\'s been helpful',\n",
              " \"It's been good\",\n",
              " 'Moderator 1:Yeah',\n",
              " \"That's actually a very interesting pro, having that little bit up close view [crosstalk 00:37:48], and it sounds like there's been some helpful parts to address ADHD and organization as well\",\n",
              " \"But I'm hearing some variability in the quality of education\",\n",
              " 'Parent 3:Yeah',\n",
              " \"The challenge that we've had with mostly my middle daughter is that she also has anxiety and OCD and so she, first of all, can go down a rabbit hole when she's just learning online\",\n",
              " \"Secondly, this year she's been doing blended learning so when she's in school, she's doing all right\",\n",
              " \"When she's at home, she gets almost no work done\",\n",
              " \"I mean, she's been working today and as of the time I came in here, I think she had done one math problem\",\n",
              " 'She just has a really hard time',\n",
              " 'And I have to see her screen at all times',\n",
              " \"If I can't see her screen, she's not doing what she's supposed to do and that's [crosstalk 00:38:49]-Moderator 1:So she's having more of a problem doing it independently\",\n",
              " \" Parent 3:And that makes problems because then I have a five-year-old, and if I have to look at the screen all day of her older sister, I can't be doing things with the five-year-old\",\n",
              " 'And my five-year-old then spends a lot of time coloring or playing with magnet tiles or watching videos because I have to keep saying, \"I\\'m sorry it\\'s a beautiful day',\n",
              " \"We can't go outside\",\n",
              " \"I have to make sure your sister's doing her work\",\n",
              " '\" Moderator 1:Right',\n",
              " \"There's only so much resources to support you\",\n",
              " 'Parent 3:Yeah, exactly',\n",
              " 'Moderator 1:Okay',\n",
              " 'Parent 5, can you share',\n",
              " ' Parent 5:Yeah',\n",
              " 'Well, prior to the pandemic my kids were very exposed to technology',\n",
              " 'They were using it as well for school',\n",
              " 'They had a lot of apps for reading',\n",
              " 'My older son, Andrew, he has a-Moderator 1:What were your feelings about it before',\n",
              " ' Did you find technology to be helpful before the pandemic',\n",
              " ' Parent 5:It was',\n",
              " 'It was because it was controlled',\n",
              " 'Whenever I needed to, I was able to put away the devices',\n",
              " 'But after the pandemic, like another mommy said, I have a problem taking the laptop away because he uses it for school',\n",
              " 'Now, the negative of it is my older son who has an IEP is becoming more addicted to the screen',\n",
              " \"If it's not the laptop, it's the iPad, when the iPad goes empty, it goes to my phone\",\n",
              " \"He's just switching from one device to the other\",\n",
              " 'But as far as school goes, he is doing amazing, a lot better than when he was in school',\n",
              " 'Remote has done wonders for us',\n",
              " \"He's more focused\",\n",
              " \"He's totally in charge of his school day\",\n",
              " \"I don't get involved\",\n",
              " 'He gets great grades',\n",
              " 'And it helped us also with the transition',\n",
              " 'I was very nervous about Andrew going into sixth grade',\n",
              " \"It's a new school, new teachers, new system\",\n",
              " \"But that worked out so well for us because now he got to know all his teachers and he's doing great academically\",\n",
              " \"He's doing amazingly\",\n",
              " 'So that was very good',\n",
              " \"It's just that he's becoming more addicted and less socially involved and that's the part I'm not happy with\",\n",
              " 'Moderator 1:Yeah',\n",
              " \"So I'm curious to hear a little more\",\n",
              " \"What do you think about the way he's learning now has been so good for him\",\n",
              " ' What about it',\n",
              " ' Parent 5:Yeah',\n",
              " 'Lucky for us, honest to God, I pray for these teachers',\n",
              " \"They're amazing\",\n",
              " \"I don't know if it's us, we jut are lucky with the teachers he has\",\n",
              " \"They're very dedicated\",\n",
              " 'He has live classes',\n",
              " \"I don't feel like he's missing anything\",\n",
              " 'And I also get to see how Andrew is like with his teachers and his classmates',\n",
              " 'Moderator 1:Like what Parent 3 was saying',\n",
              " 'Yeah, yeah',\n",
              " 'Parent 5:And he takes charge also, like another mommy said',\n",
              " 'It was funny, I was laughing because he does the same thing',\n",
              " 'He gives everybody advice on technology',\n",
              " \"He's like the tech person in the class\",\n",
              " \"Even his teachers, they tell me if Andrew's not there, we get nervous\",\n",
              " \"He's enjoying it\",\n",
              " \"I'm happy to see how he's like and he's doing great\",\n",
              " 'Moderator 1:Yeah',\n",
              " 'Parent 5:And I feel like when this is all over, when school is over, I can go back to controlling device time, screen time',\n",
              " 'Moderator 1:Right',\n",
              " \"So it definitely sounds like it's been concerning, the addictive part of it, but you're confident that once they're more back in person that you can take over that part again\",\n",
              " \"Parent 5:He's not going to give it up willingly\",\n",
              " \"I'll have to hide devices like I used to before, which is fine\",\n",
              " 'It used to work',\n",
              " \"So it's good\",\n",
              " \"Parent 3:We've had to do that too\",\n",
              " 'We have to lock them in a room',\n",
              " 'Would it be all right if I just add something to what you ',\n",
              " 'Moderator 1:Yeah, yeah',\n",
              " \"Add something and then afterwards I'm going to move us to the next question\",\n",
              " 'But, yeah',\n",
              " 'Parent 3:Okay',\n",
              " 'So there were two things that Parent 5 said that reminded me of stuff with my kids',\n",
              " 'One of them was that the addiction to the screen time is followed by this ',\n",
              " 'In the beginning of the pandemic at least, we really had to force them to go outside',\n",
              " 'One of my kids just had a meltdown yesterday because we had to go to in person violin lesson because her teacher resumed that',\n",
              " 'She says, \"I don\\'t want to go outside',\n",
              " \"I don't want to go outside\",\n",
              " '\" So definitely there\\'s been an element of ',\n",
              " \"Once they're out, it's okay but it's like leaving the apartment has become a bigger deal\",\n",
              " 'And one of my kids, she had almost lost complete contact with friends until she consciously ',\n",
              " 'We both, we planned it out',\n",
              " \"You've got to start contacting your friends because it just slipped away\",\n",
              " \"The other thing I wanted to say, which Parent 5 was talking about her son's skills with the technology and it's not just the Zoom or the Google Classroom or Google Meet, but my kids have used so many more different types of programs like Flip Grid\",\n",
              " \"They're creating presentations with Google Slides\",\n",
              " \"They're using special effects in their presentations\",\n",
              " \"They're creating videos\",\n",
              " \"The one with the violin, she's working with something called Click Track so that she can coordinate her timing with the timing of someone else's playing so that they can line up their performance videos\",\n",
              " \"They're doing animations for projects\",\n",
              " 'Moderator 1:It [crosstalk 00:44:23] into all these new ways to be really creative',\n",
              " \"Parent 3:That's been amazing to see that, because they've then been able to use what appeals to them and what works with their skillset and their abilities to do their assignments, because there's a lot of variability in how they present the information and then they've got this array of options through technology to work with and that's been a real gift as well\",\n",
              " \"So it's definitely been a double edged issue\",\n",
              " 'Moderator 1:Okay',\n",
              " 'All right',\n",
              " \"So the next question that I want to put out there is now that either some people have gone back in person or you're anticipating going back in person, what are the challenges that you anticipate and are there parts of this that you hope will continue and are there parts of this way of educating kids that you hope will end\",\n",
              " ' So who wants to take that one first',\n",
              " ' Parent 2',\n",
              " \" Parent 2:I'll go\",\n",
              " \"I guess I'm anticipating \",\n",
              " 'I would like him to go back to school',\n",
              " \"He's in ninth grade right now\",\n",
              " \"So hopefully he'll be able to go back in person\",\n",
              " \"He does have asthma so that's what I'm really concerned about, just him being in person\",\n",
              " 'But I like the aspect that they can utilize their computers in the classroom',\n",
              " \"That's a good benefit\",\n",
              " 'But I do like the teachers teaching live',\n",
              " \"That's another thing\",\n",
              " 'But he needs that social skills',\n",
              " 'That interaction is what really ',\n",
              " \"It's just me and him in the house and I think we're both getting tired of each other talking to each other\",\n",
              " 'He needs that input with other people, other teenagers his own age',\n",
              " 'And I like that the teachers are incorporating all this new technology',\n",
              " \"He's learned how to type and just things he should have known how to do, and even learned life skills within the house, which is great\",\n",
              " 'Just so we could incorporate all those things when they go back into the classroom',\n",
              " 'Moderator 1:Yeah',\n",
              " 'Keep the good but it sounds like there are parts of going back that you think are really important like the social part',\n",
              " 'Okay',\n",
              " 'Anyone else for-Parent 4:Hi',\n",
              " 'This is Parent 4',\n",
              " 'Moderator 1:Hi, Parent 4',\n",
              " 'Yeah',\n",
              " ' Parent 4:Yeah',\n",
              " 'I will be very excited when they go back in person',\n",
              " 'The part that the teachers are doing a fantastic job and I have to say they are going above and beyond during this remote learning',\n",
              " 'And I know one thing they said, \"Oh, my kid is so great',\n",
              " \"She's so great\",\n",
              " \"She's doing so well\",\n",
              " \"She's leading the class\",\n",
              " '\" Yeah',\n",
              " \"She is doing a lot of that stuff because she's home with me every day and the teachers don't really have to deal so much with those behavioral issues because now all the behavioral issues are home with me so she can shine with them for the most part\",\n",
              " 'But for my youngest one, she loves that in person and she needs that',\n",
              " \"For me, I'm working every day from home so to work every day from home and try to teach a third grader and a sixth grader, it's very difficult\",\n",
              " \"So I definitely would love for them to be back in school and in person learning and they can use some of this technology and hopefully the teachers will continue to be as great as they've always been\",\n",
              " 'Moderator 1:Thanks, Parent 4',\n",
              " 'Anyone else for challenges you anticipate in going back',\n",
              " \" Things you'd want to keep, change\",\n",
              " ' Parent 1:I ',\n",
              " 'Moderator 1:Hi, Parent 1',\n",
              " 'Parent 1:Hi',\n",
              " \"I'm looking forward to \",\n",
              " \"My daughter's about to start five days\",\n",
              " \"She's been going three days, she's been going two or three days, my five and 11-year-old\",\n",
              " \"It's been so exhausting\",\n",
              " \"Well, it's enabled me to see where the problems and challenges are\",\n",
              " 'I\\'ve asked for an IEP review because I\\'m like, \"These are some other issues that I didn\\'t realize were going on',\n",
              " '\" It\\'s been so exhausting and I haven\\'t been able to do any of my work',\n",
              " \"As I think Parent 4 eluded to or said, it's a struggle to do anything you have to do when you've got these kids that you have to teach as well\",\n",
              " \"So I'm looking forward to them being able to go into the classroom and do and have their learning more focused there\",\n",
              " \"And for my five-year-old, it's so important because of the social stuff and for my 15-year-old, she's just going to be starting back three days\",\n",
              " \"And she's done really well with being fairly connected to people given that she's never stepped foot in her school\",\n",
              " \"She's in ninth grade\",\n",
              " \"But it's going to be great for her to be able to be there and really to connect with her teachers and with her classmates\",\n",
              " \"What I'm worried about is that \",\n",
              " 'Well, two things',\n",
              " 'One, is it gets harder for the older one who needs a little bit more ',\n",
              " \"Who's not as self directed and so she's then more independent, which actually makes it a challenge for me to keep track of what's going on\",\n",
              " \"But my 11-year-old has so much anxiety, she gets so many physical symptoms of that, that she's had a lot of school refusal in the past\",\n",
              " 'And having it be just two or three days was what kept us going this year, was you can go, you can have that time, but guess what',\n",
              " ' When she was refusing on a Wednesday, \"I\\'m not going to school',\n",
              " 'I feel sick',\n",
              " 'My stomach hurts',\n",
              " 'My head hurts',\n",
              " '\" We would say, \"But it\\'s the last day of the week',\n",
              " \"Then tomorrow and Friday you're home\",\n",
              " '\" So that was what kept us going',\n",
              " \"I'm not looking forward to those morning challenges again because I feel like it's going to be a lot for her because she's just so anxious\",\n",
              " 'Moderator 1:Right',\n",
              " 'Especially after being out for so long probably',\n",
              " 'Parent 1:Yeah',\n",
              " 'Moderator 1:Anyone else for challenges going back',\n",
              " 'Parent 5, yeah',\n",
              " ' Parent 5:Well, my kids are not too excited about going back to school and that worries me',\n",
              " 'Neither am I',\n",
              " \"I've gotten really very selfish\",\n",
              " 'I enjoy having them home',\n",
              " 'I love having them home',\n",
              " 'And the only thing we miss really is the social aspect of being physically in school and the after school programs',\n",
              " 'I had them registered in chess, soccer, all these activities',\n",
              " 'But having them home has been awesome',\n",
              " \"So I think it's going to be difficult for all of us when they start going back to school\",\n",
              " 'Moderator 1:Yeah',\n",
              " 'That separation again',\n",
              " 'You get used to [crosstalk 00:51:16] keeping them close',\n",
              " 'Parent 2:I could just briefly-Moderator 1:[crosstalk 00:51:20]Parent 2:Yeah',\n",
              " 'If I could just briefly piggyback off of what everyone had shared is my son has been fully remote and I think with him graduating fifth grade, entering a new school sixth grade',\n",
              " \"That's already some pressure right there and whether or not he'll be in blended learning or in in-person learning full time, that's really dependent on the current environment around September\",\n",
              " \"My son as well has asthma so, of course, that's always his health\",\n",
              " 'His safety is always at the forefront',\n",
              " \"And my son, again, I had JD as an IEP so he's very hands on, visual type of student who requires that physical in person learning\",\n",
              " \"It's not to say that he can do without, but in a physical classroom setting I feel that now that he's matured and has a little more confidence, he can enhance those skills better in in-person learning\",\n",
              " \"Again, I'm with Parent 5\",\n",
              " 'We all have enjoyed being ',\n",
              " \"I'm a social butterfly, but I really am recluse as well\",\n",
              " 'And I passed that along to my son',\n",
              " \"We've been home together during this time, however, it's going to be a change for the both of us\",\n",
              " \"Myself, I'm being called back into work as well\",\n",
              " \"So getting into a new normal, of course, it's going to take some adjusting to, but I'm sure that we can overcome any challenges that we face, especially if we are not only physically prepared but mentally prepared for it as well\",\n",
              " 'Moderator 1:Yeah, yeah',\n",
              " 'Parent 6:I just want to add my kids have been full time for a while',\n",
              " \"My husband and I are both essential workers so we've had no choice other than we had to keep him out of school\",\n",
              " \"They're really happy back in school full time now\",\n",
              " 'Moderator 1:Good',\n",
              " 'Was it hard for them to go back',\n",
              " ' Did they face any challenges',\n",
              " ' Parent 6:My oldest is now in middle school so he had to wake up early',\n",
              " \"So he had to get on the bus-Moderator 1:That's a challenge regardless probably\",\n",
              " \"Parent 6:He had to leave at 7:00, so that's really his only complaint\",\n",
              " \"Other than that, he said that he's really, really happy to be back in school\",\n",
              " \"They're really enjoying being with the other kids\",\n",
              " 'Moderator 1:Good to hear',\n",
              " 'Thank you, Parent 6',\n",
              " 'So we have about 15 minutes left',\n",
              " 'I want to be respectful of your time because I really appreciate you taking out some time to talk to us',\n",
              " \"For the last 10 or 15 minutes, I'd like to just shift the conversation a little bit to talking about social media and media use specifically\",\n",
              " \"Just hearing some experiences about what was the social media and media used, and by media we mean YouTube or any kind of media that they're consuming\",\n",
              " 'What was the use like before the pandemic, how has that changed',\n",
              " \" Any concerns, any benefits that you're seeing from changes in social media use\",\n",
              " ' So whoever wants to start us off',\n",
              " \"Parent 6:I'll start us off\",\n",
              " 'Moderator 1:Okay, [crosstalk 00:54:49]',\n",
              " \"Parent 6:So what's changed with the social media, so my kids, as I'm sure all the rest of the year kids do also, they really like Roblox and they want to play with their friends\",\n",
              " 'So before it was more controlling, okay, you have this amount of time to go on YouTube, you have this amount of time to play',\n",
              " 'But now, when everybody was home, the Roblox playing with friends and talking on the phone at the same time was the only socialization that they had',\n",
              " 'That was their only option',\n",
              " 'So it got a little more and a little more and then they said, \"Oh, well, I\\'m playing with my friends so can I keep playing',\n",
              " '\" So then that time extended a little bit',\n",
              " \"So it's hard when that is the only way that they could socialize or when they're on FaceTime, when they're going on FaceTime with friends\",\n",
              " \"When that's the only way that they could socialize, that has been really difficult to reign it in and stop them from it\",\n",
              " \"So we've been having a lot of challenges with that\",\n",
              " \"And then the YouTube videos start and that's when everything they have, like their school issued iPads, and so I could take away their own personal devices, but the school iPads have YouTube on them\",\n",
              " \"So I can't \",\n",
              " \"It's for school so I can't just take it away\",\n",
              " 'So then-Moderator 1:[crosstalk 00:56:16]-Parent 6:',\n",
              " 'they end up sneaking',\n",
              " 'Mm-hmm (affirmative)',\n",
              " \"It's a lot harder\",\n",
              " \"And sometimes I don't even want to because that's the way that they're able to socialize\",\n",
              " \"They're starting to go to the park with kids and doing more now but it's been a challenge this whole time\",\n",
              " 'Moderator 1:Thanks, Parent 6',\n",
              " 'Who wants to go next',\n",
              " \" Parent 3:I'll go\",\n",
              " 'Moderator 1:Thanks, Parent 3',\n",
              " \"Parent 3:So I've had a very similar experience\",\n",
              " 'My then eighth grader was already on social media because I reluctantly let her have an Instagram account because her class at school, her cohort, had a cohort Instagram chat going and they mostly used it for things like, \"Hey, I have a doctor\\'s appointment today',\n",
              " \"Can anyone tell me what I'm going to miss in this class\",\n",
              " '\" For that type of thing',\n",
              " 'So they mostly used it well',\n",
              " 'There were some incidents though of kids sharing porn and things like that on it',\n",
              " 'That was obviously a problem',\n",
              " \"But this year, yeah, she's used it really \",\n",
              " 'That, and the other thing was SnapChat that I was like, \"You cannot have SnapChat',\n",
              " 'Absolutely not',\n",
              " \"It's like a sexual predator's playground\",\n",
              " '\" And then she had a friend, a pen pal in New Zealand, who she found out was on SnapChat',\n",
              " 'So then it was like, \"All right',\n",
              " '\" Kind of like Parent 6 was saying, that\\'s how they connect',\n",
              " 'I mean, yes, they can write letters but it\\'s so much more immediate and they socialize so much more so I was like, \"Fine, okay',\n",
              " 'You can use SnapChat',\n",
              " '\" So it was creeping up',\n",
              " 'But I think I have to have my rules',\n",
              " 'I have to have the passwords',\n",
              " \"I have to have access because I want to make sure that they're safe online\",\n",
              " 'And so I periodically go in and check',\n",
              " \"My 11-year-old doesn't have any of these accounts\",\n",
              " \"What she has is YouTube and she's become obsessed with various YouTubers and it's prompted some discussions about what we value and what we don't\",\n",
              " \"She definitely sneaks it when she's not supposed to\",\n",
              " \"That's definitely been a challenge\",\n",
              " \"And again, same thing, school computer, you can't exactly \",\n",
              " 'I mean, she does have to do work',\n",
              " \"It's been great in some respects because she's been able to use it for school, but also I don't really want you looking at these people and following what they're doing because I don't agree with it\",\n",
              " 'So, yeah',\n",
              " \"That's been a little bit of an issue\",\n",
              " \"I've worried a lot about body image and things like that with them because I feel like when they're following these people on whether Instagram or YouTube or wherever else, a lot of these people are making tons of money as so called influencers and they have a very different lifestyle\",\n",
              " \"And I feel like sometimes that's hard for them to see\",\n",
              " 'But one of my kids went through a little bit of an issue around food and she was talking about like she wished she could be anorexic because she wanted to be a certain way and we had to have a whole discussion with the psychiatrist around that and talking about positive body image and stuff',\n",
              " \"And I think she seems like she's on a better path\",\n",
              " \"But I wanted to say one last thing about it, is that where it has been really good is that my oldest daughter, during this time, she seems to be like a lot of adolescent girls are, I'm reading, she's developed vocal and motor ticks, which is one thing I'm worried about when she goes back to school\",\n",
              " \"At home she can hide it from people to some degree but when she's in person, it's a lot harder\",\n",
              " \"But she's actually connected a lot with people on Instagram who also have some of these struggles and she's starting to talk about herself more as neurodivergent as opposed to having a disorder and things like that, and learning techniques for managing it\",\n",
              " 'She\\'ll say, \"Oh, I found out that so and so on Instagram has the same kind of ticks that I do and this is what she does to help herself',\n",
              " \"That's been fantastic, that it's really enabled her to develop a sense of agency around herself and her managing [crosstalk 01:01:17]\",\n",
              " 'Moderator 1:Yeah',\n",
              " 'Just connect with people that she may not have ever had access to',\n",
              " 'Parent 3:Yeah, yeah',\n",
              " \"So that's been the positive, whereas the rest is like a minefield\",\n",
              " 'Moderator 1:Yeah, yeah',\n",
              " 'Thanks for sharing that',\n",
              " 'Yeah, Parent 4',\n",
              " ' Parent 4:I have to say that my kids, even the eight-year-old, everyone wants to be a YouTuber',\n",
              " \"They want to be a YouTube star or they want to be famous or Instagram famous and that's killing me right now\",\n",
              " 'Because with everything that\\'s going on, you\\'re like, \"What happened to I wanted to be a doctor or lawyer or teacher',\n",
              " '\" Everyone want to be a YouTuber and even the eight-year-old',\n",
              " 'I\\'ll go, \"What do you want to do on YouTube',\n",
              " '\" And she\\'s struggling with, \"Maybe I can open toys',\n",
              " '\" I\\'m just so over it',\n",
              " 'I just feel like I have to get back to basics',\n",
              " \"And it's harder with the 12-year-old because she's exposed to so much and she's faster than I am with these computer skills\",\n",
              " \"So if I see something I don't like, she can hit two or three buttons and it's done\",\n",
              " 'So I spend the rest of my time going, \"Go back to that page',\n",
              " 'Go back to that page',\n",
              " 'I know I saw it',\n",
              " '\" I just feel like this whole social media, these influencer ',\n",
              " \"And I didn't even know what an influencer was before the pandemic\",\n",
              " 'I had to learn all of this during the pandemic',\n",
              " 'And when they see these kids in these beautiful houses and their parents',\n",
              " 'The YouTubers where the twin girls or whoever, all I can do is watch it and say, \"Hey, their house is clean',\n",
              " 'You see they cleaned their room',\n",
              " 'Are you cleaning your room',\n",
              " ' They make their beds every day',\n",
              " 'Yes',\n",
              " '\" So these people are making tons and tons of money and they have all of these toys and these beautiful houses',\n",
              " 'Like one young lady said, the body imaging',\n",
              " 'I\\'m watching my 12-year-old constantly looking at her body and excited about it or say, \"Hey, I want my boobs bigger or maybe my butt should be bigger',\n",
              " '\" I\\'m so over it',\n",
              " 'So even when this pandemic is over and these kids are back in school, this whole social media presence is here to stay',\n",
              " 'And I have to now navigate it so that I know what my kids are doing',\n",
              " \"And that whole SnapChat, I had to shut SnapChat down so quick because it's just too much\",\n",
              " 'And the schools don\\'t have SnapChat on their computers so I can say, \"Hey, no',\n",
              " \"We're not having it\",\n",
              " '\" But the social media presence, I just have to stay on top of it',\n",
              " \"And with all that I have to do, I really don't want to be on social media like that but I have to\",\n",
              " 'Moderator 1:Yeah',\n",
              " \"It sounds like it's hard to keep up with, but thank you for highlighting [inaudible 01:04:34]\",\n",
              " 'Those are really important points',\n",
              " 'We have a couple more minutes',\n",
              " \"Does anyone have anything to add in terms of social media that we haven't already said\",\n",
              " 'Yeah',\n",
              " 'Hi, Parent 5',\n",
              " 'Yeah',\n",
              " \" Parent 5:I actually thank you for this meeting because I thought I was the only one in this world that's having a problem with YouTubers\",\n",
              " 'My son has developed such an addiction to video game YouTubers and I freak out',\n",
              " 'I just flip',\n",
              " 'The more I tell him not to be on them, the more addicted he gets',\n",
              " \"Like I said, after school I'm hiding all devices\",\n",
              " \"Hopefully it'll be under control\",\n",
              " 'Moderator 1:Yeah, no',\n",
              " \"It's a challenge and I think as we're having these meetings, we're hearing that a lot from parents\",\n",
              " 'We really thank you for taking some time to share this and contributing to the research',\n",
              " 'Part of our goal in this project is to really raise awareness of a lot of the challenges that parents are facing',\n",
              " 'Parent 5:Thank you',\n",
              " 'Moderator 1:Administrator, do you want to close us out',\n",
              " ' Administrator:Yeah',\n",
              " \"Just like Moderator 1 said, we're seeing the same commonalities with the Roblox, the Instagram, YouTube, SnapChat\",\n",
              " 'In fact, all of the parents have been echoing the same thing that you guys have been saying, so you are not alone in your sentiment',\n",
              " 'And we just really thank and appreciate you for taking the time out to really help us and giving us just your sentiments and the things that you guys have been going through',\n",
              " \"Just because sometimes, like in yesterday's group, parents were talking about just how some parents will say that they're doing such an amazing job with their kids and everything\",\n",
              " \"And as a parent, feeling as if you're not doing the best, that you're having a hard time just navigating this new life with your child\",\n",
              " 'So we really appreciate all of your sentiments',\n",
              " 'Thank you so much for just taking the time out to be here with us today',\n",
              " \"In regards to compensation, I'm going to be sending our administrator your contact information so you guys should be receiving compensation either by today or no later than Monday\",\n",
              " \"So I would say if by Monday evening you don't get it, please do not hesitate to give me a call or email me back just to let me know that you guys did receive it\",\n",
              " 'Parent 5:Thank you very much for the meeting',\n",
              " 'It was very beneficial for me personally and it was nice meeting all the other parents',\n",
              " 'Parent 3:Yeah',\n",
              " 'Thank you',\n",
              " 'Moderator 1:Thank you all',\n",
              " 'It was a pleasure meeting you',\n",
              " 'Parent 1:Definitely']"
            ]
          },
          "metadata": {},
          "execution_count": 39
        }
      ]
    },
    {
      "cell_type": "code",
      "metadata": {
        "id": "J-vYAIbWNomZ"
      },
      "source": [
        "dial_start=[ind for ind,l in enumerate(split_sent) if l.startswith(dial_characters)]"
      ],
      "execution_count": null,
      "outputs": []
    },
    {
      "cell_type": "code",
      "metadata": {
        "colab": {
          "base_uri": "https://localhost:8080/"
        },
        "id": "cojD6HNjNttp",
        "outputId": "c5a82dee-d944-43d3-e6f9-eed79c4a22c7"
      },
      "source": [
        "dial_start"
      ],
      "execution_count": null,
      "outputs": [
        {
          "output_type": "execute_result",
          "data": {
            "text/plain": [
              "[0,\n",
              " 1,\n",
              " 2,\n",
              " 3,\n",
              " 5,\n",
              " 6,\n",
              " 7,\n",
              " 8,\n",
              " 9,\n",
              " 11,\n",
              " 15,\n",
              " 18,\n",
              " 19,\n",
              " 20,\n",
              " 26,\n",
              " 28,\n",
              " 30,\n",
              " 31,\n",
              " 32,\n",
              " 33,\n",
              " 46,\n",
              " 47,\n",
              " 49,\n",
              " 55,\n",
              " 58,\n",
              " 59,\n",
              " 66,\n",
              " 70,\n",
              " 83,\n",
              " 85,\n",
              " 94,\n",
              " 99,\n",
              " 100,\n",
              " 101,\n",
              " 108,\n",
              " 113,\n",
              " 115,\n",
              " 123,\n",
              " 136,\n",
              " 140,\n",
              " 142,\n",
              " 144,\n",
              " 145,\n",
              " 147,\n",
              " 151,\n",
              " 153,\n",
              " 166,\n",
              " 174,\n",
              " 176,\n",
              " 177,\n",
              " 179,\n",
              " 181,\n",
              " 184,\n",
              " 188,\n",
              " 189,\n",
              " 194,\n",
              " 195,\n",
              " 198,\n",
              " 201,\n",
              " 202,\n",
              " 203,\n",
              " 205,\n",
              " 209,\n",
              " 220,\n",
              " 221,\n",
              " 223,\n",
              " 224,\n",
              " 230,\n",
              " 232,\n",
              " 241,\n",
              " 243,\n",
              " 246,\n",
              " 249,\n",
              " 265,\n",
              " 268,\n",
              " 273,\n",
              " 280,\n",
              " 284,\n",
              " 286,\n",
              " 288,\n",
              " 290,\n",
              " 291,\n",
              " 294,\n",
              " 295,\n",
              " 297,\n",
              " 300,\n",
              " 301,\n",
              " 303,\n",
              " 324,\n",
              " 329,\n",
              " 331,\n",
              " 332,\n",
              " 381,\n",
              " 384,\n",
              " 392,\n",
              " 398,\n",
              " 399,\n",
              " 400,\n",
              " 401,\n",
              " 407,\n",
              " 427,\n",
              " 431,\n",
              " 439,\n",
              " 441,\n",
              " 448,\n",
              " 449,\n",
              " 450,\n",
              " 452,\n",
              " 456,\n",
              " 459,\n",
              " 462,\n",
              " 480,\n",
              " 481,\n",
              " 483,\n",
              " 487,\n",
              " 488,\n",
              " 505,\n",
              " 510,\n",
              " 512,\n",
              " 524,\n",
              " 527,\n",
              " 528,\n",
              " 529,\n",
              " 557,\n",
              " 559,\n",
              " 560,\n",
              " 561,\n",
              " 562,\n",
              " 571,\n",
              " 574,\n",
              " 588,\n",
              " 589,\n",
              " 592,\n",
              " 595,\n",
              " 597,\n",
              " 600,\n",
              " 609,\n",
              " 610,\n",
              " 611,\n",
              " 629,\n",
              " 631,\n",
              " 632,\n",
              " 633,\n",
              " 672,\n",
              " 674,\n",
              " 676,\n",
              " 679,\n",
              " 712,\n",
              " 720,\n",
              " 726,\n",
              " 730,\n",
              " 731,\n",
              " 732,\n",
              " 742,\n",
              " 744,\n",
              " 746,\n",
              " 748]"
            ]
          },
          "metadata": {},
          "execution_count": 41
        }
      ]
    },
    {
      "cell_type": "code",
      "metadata": {
        "id": "3gAv8ii9NW4k"
      },
      "source": [
        "list_of_dial = []\n",
        "for i in range(len(dial_start)-1):\n",
        "  list_of_dial.append('.'.join(split_sent[dial_start[i]:dial_start[i+1]]))\n",
        "list_of_Parent_dial = [sent for sent in list_of_dial if sent.startswith('Parent')]\n",
        "num_ind = [sent.split(\" \")[1].split(':')[0] for sent in list_of_Parent_dial]\n",
        "parent_num = list(set([int(word) for sent in num_ind for word in sent.split() if word.isdigit()]))\n",
        "all_dial_comb = []\n",
        "for i in parent_num:\n",
        "      all_dial_comb.append('.'.join([sent for sent in list_of_Parent_dial if sent.startswith(('Parent '+str(i)+':',' Parent '+str(i)+':'))]))\n",
        "all_d_comb_n=[]\n",
        "for i in range(len(all_dial_comb)):\n",
        "  all_d_comb_n.append(all_dial_comb[i].replace('Parent '+str(i+1)+\":\",\"\").replace(' Parent '+str(i+1)+\":\",\"\"))"
      ],
      "execution_count": null,
      "outputs": []
    },
    {
      "cell_type": "code",
      "metadata": {
        "colab": {
          "base_uri": "https://localhost:8080/"
        },
        "id": "QrSwHtPFS2Mm",
        "outputId": "19a3bc1f-b120-4b20-99bd-3cdff422de95"
      },
      "source": [
        "list_of_dial"
      ],
      "execution_count": null,
      "outputs": [
        {
          "output_type": "execute_result",
          "data": {
            "text/plain": [
              "['Parent 1: Hello, good afternoon',\n",
              " 'Parent 2:Hi',\n",
              " 'Moderator 1:Hi Parent 2 and Parent 1 Thank you guys for joining',\n",
              " 'Parent 2:Hi.Good afternoon',\n",
              " 'Parent 1:Good afternoon',\n",
              " \"Moderator 1:So I think we're going to be a group of either five or six parents today so I'm just going to wait for a few more people to sign on\",\n",
              " 'Parent 1:Okay',\n",
              " 'Parent 2:Okay',\n",
              " ' Moderator 1:Hi, Parent 3.Welcome',\n",
              " \"Parent 3:Hi.Sorry.I had the volume all the way down so I couldn't hear but I-Moderator 1:No problem.We're just waiting a few minutes for everyone else to join but we'll hopefully [inaudible 00:07:46] soon\",\n",
              " 'Parent 3:As soon as I came into my room, my husband\\'s out there but I can hear my kids start fighting.He was like, \"Why do you start fighting the instant your mother goes into the other room.\" Better him than me, I suppose',\n",
              " \"Moderator 1:It's nice they're doing something else\",\n",
              " 'Parent 3:Right',\n",
              " 'Moderator 1:Hi, Parent 6.Welcome.Hi, everyone.Good afternoon.Hi, Parent 4.Welcome',\n",
              " 'Parent 4:[inaudible 00:08:43].Hi',\n",
              " 'Moderator 1:Hi, everyone.Hi, Parent 5',\n",
              " 'Parent 5:Yes, yes',\n",
              " 'Moderator 1:Okay, welcome',\n",
              " 'Parent 5:[crosstalk 00:08:56]',\n",
              " \"Moderator 1:So we're all here.So thank you so much for taking out some time to [inaudible 00:09:05].We know that you all filled out our crisis questionnaire already and we really just want to use this to go a little bit more in depth, to hear about your experiences with technology over the past year and a half since the start of the pandemic.So I was thinking we could start by just going around, say your name, maybe the age of your kids, and if you have a good TV or movie recommendation for something that you've watched, maybe share that with us as well.So I can start.My name is Moderator 1.I am a neuropsychologist with the Healthy Brain Network.And a good TV show that I have started to get into during the pandemic is Good Girls.It's about three housewives who end up getting involved in crime.I really like it.So it's nice to meet you all.Thank you for taking some time.So who would like to go next\",\n",
              " ' Parent 2:I can go',\n",
              " 'Moderator 1:Yeah.Hi, Parent 2',\n",
              " \"Parent 2:I'm Parent 2.I live in Brooklyn.I'm an academic advisor.I have a 14-year-old son.And a movie that I just saw was Thunderforce, which is cool with two women that are like superheroes.That was funny\",\n",
              " \"Moderator 1:Oh, cool.Thanks, Parent 2.Who's next\",\n",
              " ' Parent 2:Hi, Parent 5',\n",
              " \"Parent 5:Hi.My name is Parent 5.I'm Andrew's mom.He's 12 years old and we live in Brooklyn as well.We had a chance to go to the theater in February and we saw the new released Tom and Jerry movie and it was amazing.My kids enjoyed it so much.It was funny\",\n",
              " \"Moderator 1:Okay.That sounds fun.Thanks, Parent 5.Who's next\",\n",
              " \" Parent 1:Hi.My name is [Parent 1 00:11:15].Hi.Yes.My name is Parent 1.I have a handsome and inquisitive young 10-year-old son.His name is Kal-El, like Superman.And we're originally from New York and we have been enjoying some quality time during this quarantine, although we have a little bit of cabin fever.I'm not too much of a TV watcher, however, I am a book reader and a few of my favorite books thus far is The Science of Getting Rich by Wallace D.Wattles and Opening Your Mind to Prosperity by Catherine Ponder and some of the principles in those books I've been allowing my son to also study.And it's more so about opening your mind and creating your world through the power of thought.So I definitely recommend those books.And thank you for welcoming me and I'm grateful to be a part of this group today\",\n",
              " 'Moderator 1:Thank you, Parent 1.Who wants to go next',\n",
              " \" Parent 3:I'll go.I'm Parent 3 and I have three children, they are 15, almost 11, my middle child will be 11 on Tuesday, and five.My oldest two are enrolled in the study.Anyway, I live in Brooklyn.What was the other thing. Oh, the show or something.It's funny, I haven't watched anything really contemporary, but my husband has been binge watching shows like American Horror Story and I've been binge watching period romance and dramas and stuff.I'm the opposite.During the pandemic I've just been looking for total escape, so like Jane Austin, different mini series and Outlander and Pole Dark and stuff like that\",\n",
              " \"Moderator 1:I hear that.I hear that, Parent 3.Thank you.Okay.Who's next\",\n",
              " ' Parent 4',\n",
              " ' Parent 6',\n",
              " \" Parent 6:I guess I'll go.My name is Parent 6.I have three kids, two were enrolled in the study.I have an 11-year-old, I have an eight-year-old, and a four-year-old.They're all boys.I haven't really watched much shows recently, but I do a lot of reading as well.Good book that I really enjoyed recently was The Alchemist is a pretty good book that I've read recently\",\n",
              " \"Moderator 1:Thank you.Thank you, Parent 6.And Parent 4. You there, Parent 4. I think you're on mute right now\",\n",
              " \"Parent 4, I think you're on mute but try to see if you can get your audio on.In the meantime, [Administrator 00:14:53], do you want to introduce yourself\",\n",
              " \" Administrator:Hi, everyone.Wait, can you all hear me. Awesome.So I'm Administrator.I am a research assistant here at HBN and the person that's been hounding you all.So thank you all so much for being here.Introductions.I forgot what we were doing\",\n",
              " \"Moderator 1:If you have a TV show, book, movie-Administrator:Yes.Okay.So the TV show would be Lovecraft Country.It's based on a book but it's set in I think the Jim Crow era and basically the protagonist, he's a Pitts family bloodline as a part of magician cult thingy.So he's trying to garner the magic to share to his offspring.And it's an adventure and all that good stuff.It's really, really good.They finished season one and I'm looking forward to season two.It's on HBO Max.I don't know about any other things.Oh, I'm from Brooklyn.Yeah.That's my introduction\",\n",
              " \"Moderator 1:Thank you, Administrator.Okay.So Parent 4, if we can help you, you can use the chat and just let us know if there's anything we can help you with.Yeah, definitely pipe up whenever you're audio starts working\",\n",
              " 'Parent 4:Hi.Can you hear me okay',\n",
              " ' Moderator 1:Yeah.We can hear you',\n",
              " 'Parent 4:[crosstalk 00:16:29]',\n",
              " 'Moderator 1:Yes.Hi, Parent 4',\n",
              " \"Parent 4:Hi.I don't know.I didn't quite hear what part of the introduction.What would you like from us to present in this introduction\",\n",
              " \"Moderator 1:Just say hi, the ages of your kids, and if you have a recommendation for us for TV, book, movie.We'd love to hear\",\n",
              " \"Parent 4:Oh.I just got to second that Lovecraft one because I totally, totally enjoyed that.My kids, I have four children, two older and two younger.So I would say I have two sets of kids.So my first two, my son is a principal and my daughter is a district manager for a business.And the last two, my daughter is in the third grade, so she's 12 .No.Wait a minute.And I have a 12-year-old and an eight-year-old.I'm the mom, right. And I have a 12-year-old and an eight-year-old.Those are the last two.And the last two are girls\",\n",
              " \"Moderator 1:Very nice.Okay.Thank you, Parent 4.Okay.So again, thank you all for coming.I was thinking that we could start with a little exercise.If you have a paper and pencil nearby, try to jot down a few positive ways that technology has impacted your children during the pandemic and als then a few negative ways that technology has impacted your children during the pandemic.So let's just take a few minutes to do that and then we'll discuss\",\n",
              " 'Parent 3:I have to go get a pen and paper for that.[crosstalk 00:18:22]',\n",
              " 'Moderator 1:Thanks, Parent 3',\n",
              " 'Parent 4:Hello. Can you hear me okay',\n",
              " ' Moderator 1:Yes.We can hear you, Parent 4',\n",
              " \"Parent 4:Yeah.I'm trying to move where I can get a great wifi signal because I see that's what the problem is.I can get mine too, because I don't have a pen and paper right now\",\n",
              " \"Moderator 1:Okay.So I'll ask for them in a minute.But, yeah.When we discuss, just think about them if you don't have a pen and paper\",\n",
              " 'Parent 4:Okay',\n",
              " \"Moderator 1:And then as you're jotting them down, I'd also like you to think between the positives and the negatives, which one has had the biggest overall effect. So has the negative parts of technology had a bigger overall impact on your children or have the positive effects had a bigger overall impact. And just circle whichever one.Okay.Does everyone have some things jotted down or in their mind\",\n",
              " ' Parent 1:Yes',\n",
              " \"Moderator 1:Okay.So by show of hands or speaking up if you're not on video, how many people circled the negative list as having the bigger overall impact.Okay\",\n",
              " 'Parent 6 circled the negative list, Parent 2, Parent 5.I see Parent 4.Okay',\n",
              " 'Parent 1, did you circle the negative or the positive list',\n",
              " ' Parent 1:I circled the positive',\n",
              " 'Moderator 1:Okay.And what about you, Parent 3',\n",
              " \" Parent 3:I'm really finding it hard to choose.I still think it's a tossup.And partly too, with the two kids, there are different benefits and challenges for each one.I'm falling right in the middle\",\n",
              " \"Moderator 1:Okay.Yeah.Let's definitely go into that.I think it sounds like there are negatives and positives all around.I definitely encourage .As we go through this discussion, what we've been seeing is that there are a lot of people who are having very overlapping experiences and agree on some things and then there are definitely people who hare having different and more unique experiences.So please feel free to chime in on your individual experience even if it may be different than what you're hearing from other people.So the first question that I want to put out there for discussion is how did your children use technology for educational purposes before the pandemic. And did you have any concerns or what were the benefits of technology for education before the pandemic. And then maybe speak a little bit about now during the pandemic, how that has changed, if that's changed, and if you have more concerns or if it's been beneficial during the pandemic. So who wants to start\",\n",
              " \" Parent 6:I'll start\",\n",
              " 'Parent 2:I can go first.[crosstalk 00:22:40]',\n",
              " 'Moderator 1:Here, how about Parent 6',\n",
              " \"Parent 6:So before the pandemic I feel like, especially with technology, my kids didn't really have much at all that they had to do.My oldest is in sixth grade now, so I think that might have changed going to middle school, however, while they were in elementary school, they really didn't have any assignments that they needed technology for, for the most part.So it was rare.And then, of course, last March school went completely virtual and everything was online.So it was like a night and day change for us.It was a disaster, to be honest\",\n",
              " 'Moderator 1:Okay.So what were some of your concerns or what did you find problematic about using technology for education',\n",
              " \" Parent 6:Well, really, they're on all day.They're on all day.Now, one of my children is a really unique learner and one of them did okay.One of them was able to go on.But then one of them is really .He's unique and his teacher not seeing him in person, it affected him.Even this year, for example, he started fully virtual at the beginning of the school year and his teacher, since she hadn't met him and she hadn't seen him in person, she didn't grasp that if he wasn't doing an assignment, it wasn't because .He has ADHD and if he wasn't doing the assignment, it wasn't that he was trying not to do it, he was just having a hard time and she wasn't there to be able to intercept and to sit with him and to see how she could help him.She wasn't able to help him because she didn't know what the problem was because he wasn't there\",\n",
              " 'Moderator 1:Right.So it sounds like he lost out on that one to one',\n",
              " \"Parent 6:Yeah.Now he's back full time and he is doing a lot better.Still, I feel like they're just online all day long and it's a problem\",\n",
              " 'Moderator 1:Thank you, Parent 6.Can someone else share their experience with technology [crosstalk 00:24:57].Yes, Parent 1',\n",
              " \" Parent 1:I might echo Parent 6 because, similarly, my son too, prior to the pandemic the most time he would spend on any electronic device was either in school for a computer media class and then after school or after homework, he'll have some free time, we call it free time, where he can play on his iPad or his cellphone for a couple of hours before bed.But, I mean, it was a total 180 where now he's fully remote.And actually, it was like a double whammy because I was actually diagnosed with breast cancer in February, so having this diagnosis and having the pandemic and then all of this pressure on my son to make sure that I'm healthy, make sure that he's doing well in school, it did take a negative toll at first.But, again, through reading affirmative things and helping him along and making sure that he sees me in a not just a healthy state but also in a physically healthy situation, it helped him.But literally, his electronic usage went from pretty much nonexistent to almost 200%, because after school he goes directly to his iPad to play.When that dies, he goes directly to his iPhone and then if that dies, then he'll go to my computer to do classwork.It was like a never ending cycle and I have to break him off of it.I would try to have not just physical exercise but mental exercise as well when he's on break and when I also work remotely, fully remote, we would for lunch just go outside, take a walk, just talk about the sky or talk about the birds chirping.Something that we don't have to focus on where it's a problem or it's worrisome.That seemed to help for the time being.But I think when we come back indoors, it's back to the gadgets.I would say his learning, his academics actually improved.He has an IEP.He has-Moderator 1:Yeah.I'd like to hear about that, because I know that you had said that there was an overall positive effect.So can you speak a little-Parent 1:Yes, yes\",\n",
              " 'Moderator 1:.on the academic piece.Yeah',\n",
              " \"Parent 1:Right.I mean, as much as he's on these devices, he actually improved academically because it enhanced some of his skills that he already had, his computer skills and navigating.He was able to work independently and actually become a leader in his class where he's in the chatroom trying to troubleshoot those who are even having technical difficulties logging on.It'd be so funny.But-Moderator 1:[crosstalk 00:27:58] tech support for the \",\n",
              " \"Parent 1:Right.Well, can you help mommy record this Zoom. But I've seen and his teachers have also seen a very much more confident student and person overall.Not to take up too much time, but my son, he had confidence issues and wanting to be liked by everyone, wanting to be friends with everyone.But this past year especially, he really stepped up to the plate and actually became the leader confidently and was able to excel.So I'm very proud of him.I'm very proud of him\",\n",
              " \"Moderator 1:Right.So it sounds like the emphasis on computers skills really brought out some nice strengths for him in those places.Well, good.That's great\",\n",
              " \"Parent 1:And I'm cancer free too.So [inaudible 00:28:49]\",\n",
              " 'Moderator 1:Wow.That is really great to hear',\n",
              " 'Parent 1:Yes.Thank you',\n",
              " 'Parent 4:I just want to say-Moderator 1:Who wants to go next talking about-Parent 4:Can you hear me okay',\n",
              " ' Moderator 1:.technology for education. Sorry, Parent 4',\n",
              " \" Parent 4:Can you hear me okay because I'm struggling with my technology\",\n",
              " 'Moderator 1:Yeah.We can hear you',\n",
              " \"Parent 4:I can either do video or audio but-Moderator 1:[crosstalk 00:29:12]-Parent 4:Everything at one time is not working for me.So that's why I wanted to go ahead and say what I have to say.So if you can hear me-Moderator 1:Yeah\",\n",
              " 'Parent 4:You can hear me',\n",
              " ' Moderator 1:We can hear you.We can hear you',\n",
              " 'Parent 4:Okay, great.So it has had a negative impact on my household because it\\'s too much computer time.And I remember those questions when I was filling out one of those questionnaires when I brought my daughter there to be evaluated.It was speaking about the problems in reference to the computers.I\\'m like, \"I don\\'t have those kind of problems.What are they talking about.\" Now fast forward to this pandemic, now I understand.I\\'m having those problems.I\\'m having problems because now she wants to be on the computer all the time and it\\'s hard for me to take it away because she has to do her schoolwork and she\\'s learning remotely.It\\'s hard to sanction that because she\\'ll say, \"Oh, I need to do my homework, or I need this app or that app.\" It\\'s just difficult to sanction the time so I have to let her use her computer but I catch her and she\\'s getting in trouble with the computer because now all of these open sites and bringing up conversations that I never thought I would have to have with my 11-year-old daughter because she\\'s on all of these different sites.And here, I\\'m putting in all these parental controls but she\\'s very savvy so she can overstep those controls and now her and her friend and then teaching her how not to turn over your screen to your friend, I know you think is your friend, but there\\'s so many things that you can get into problems with.So for me, I\\'m just devastated by all of this computer time.And I have two children, so even the little one .I mean, they need some in person.They need to not always have to rely on the computer.And that was my problem even before the pandemic because I saw the teachers were moving into having your children learn more with these apps.And sometimes I have to tell them it\\'s okay for them to use pencil and paper because I feel you learn better, at least until you have the concept, then you can do it on the computer.Yeah.I\\'m not impressed with all of this, everything on the computer.For me, it\\'s just a negative impact',\n",
              " \"Moderator 1:Right.And it sounds like it was a big switch for your family and that it also, that point that you made, I appreciate that, that the fact that it's needed for school purposes makes it a little bit harder to control it because it's not like you can just say no computers at all.Okay.Thanks, Joanna.So who-Parent 3:I'll go\",\n",
              " 'Moderator 1:.would like to share on that',\n",
              " ' Parent 3, yeah',\n",
              " ' Parent 3:Yeah.So before the pandemic, my oldest daughter who was then in eighth grade, she was the primary computer user in terms of schoolwork.But even then, she still had other things that she could use.She had texts that they would send home.She had articles that were printed out already or worksheets or things like that.She has some trouble with writing.She had OT to help her with writing for, I think it\\'s dysgraphia.And it\\'s much, much better now.So the computer, she tended to use it a bit for anything that involved writing and she did a lot of voice to text and things like that anyway, but she did have a lot of alternatives.My middle daughter who is about to turn 11, she hardly used the computer at all.She used it sometimes for some research things if she was working on a project.But most of her work was either done in school or it was done on paper.It was read a book and write a paragraph or something like that.She was then in fourth grade.Then, of course, this hit and they were 100% learning online.It was more successful for my fourth grader because her teacher had it organized.She would give them a checklist on Google Classroom so they could see what they needed to do each day.She would give them a preparation for what was coming up, like, \"Here\\'s what the week will look like.\" And she also had live class sessions and she had it broken into .She did three meetings per day, and one was a morning meeting to talk about the plan for the day, then she would give them an assignment, then she would have them meet back again an hour later to check in about the assignment and do the next thing.And then in the afternoon she did some small group work.Where it was really challenging is that my daughter is in a French dual language program and so, of course, and we\\'re anglophone, so that just dropped.I mean, that\\'s one reason why her teacher tried to do a lot of small group work to try to help build that up, but that was certainly a challenge for us.We had to try to find ways to help her be exposed to the language so she wouldn\\'t lose her ability then for starting fifth grade and then struggling.But my eighth grader, some of her teachers were amazing with checking in and having office hours and doing some instruction and tutoring and things like that online and some of them, it was like they just were phoning it in at the end of the semester and she was teaching herself.And that was very difficult.This year, it\\'s changed because now she\\'s in high school and she\\'s at a performing arts school.It\\'s been a real challenge because her art is violin and it\\'s really hard to do instrumental work with groups Zoom.They\\'ve done their violin lessons on Zoom but it was just one on one.But her orchestra class, they really haven\\'t done any orchestra all year because you can\\'t really do an orchestra on Zoom.There\\'s a lag between the things.So that\\'s been a little bit of a challenge.But she\\'s had all live classes online this year, because their school, that\\'s how they set it up.That has been fantastic.Because it\\'s enabled two things to happen.One is that because she does have ADHD and she has a really hard time organizing herself, she doesn\\'t really have to organize herself because she\\'s in the lessons all day.And then she has a little bit of homework to do, but it\\'s not an extreme amount.And they do a lot of breakout rooms and stuff so she\\'s able to do some small group work and it helps her, I think, because she doesn\\'t have to be teaching herself.It also helps because when I\\'m home, I\\'m hearing what she\\'s learning in class.That\\'s been really great.With all my kids, hearing their teachers teaching them online, I\\'ve been blown away by the skill of these teachers.They\\'re amazing.And the thoughtfulness that they put into their projects and developing their curriculum, it\\'s just outstanding and I feel like that\\'s been a great gift to have that insight.And it\\'s also helped me when it comes time for me to help them, because I can say, \"Oh, no.Remember, Mme Simone was saying that you needed to do this with this project.Yeah.I understand you forgot that, but I heard her say it so let\\'s do that.\" So that\\'s been helpful.It\\'s been good',\n",
              " \"Moderator 1:Yeah.That's actually a very interesting pro, having that little bit up close view [crosstalk 00:37:48], and it sounds like there's been some helpful parts to address ADHD and organization as well.But I'm hearing some variability in the quality of education\",\n",
              " \"Parent 3:Yeah.The challenge that we've had with mostly my middle daughter is that she also has anxiety and OCD and so she, first of all, can go down a rabbit hole when she's just learning online.Secondly, this year she's been doing blended learning so when she's in school, she's doing all right.When she's at home, she gets almost no work done.I mean, she's been working today and as of the time I came in here, I think she had done one math problem.She just has a really hard time.And I have to see her screen at all times.If I can't see her screen, she's not doing what she's supposed to do and that's [crosstalk 00:38:49]-Moderator 1:So she's having more of a problem doing it independently\",\n",
              " ' Parent 3:And that makes problems because then I have a five-year-old, and if I have to look at the screen all day of her older sister, I can\\'t be doing things with the five-year-old.And my five-year-old then spends a lot of time coloring or playing with magnet tiles or watching videos because I have to keep saying, \"I\\'m sorry it\\'s a beautiful day.We can\\'t go outside.I have to make sure your sister\\'s doing her work.\" Moderator 1:Right.There\\'s only so much resources to support you',\n",
              " 'Parent 3:Yeah, exactly',\n",
              " 'Moderator 1:Okay',\n",
              " 'Parent 5, can you share',\n",
              " ' Parent 5:Yeah.Well, prior to the pandemic my kids were very exposed to technology.They were using it as well for school.They had a lot of apps for reading.My older son, Andrew, he has a-Moderator 1:What were your feelings about it before. Did you find technology to be helpful before the pandemic',\n",
              " \" Parent 5:It was.It was because it was controlled.Whenever I needed to, I was able to put away the devices.But after the pandemic, like another mommy said, I have a problem taking the laptop away because he uses it for school.Now, the negative of it is my older son who has an IEP is becoming more addicted to the screen.If it's not the laptop, it's the iPad, when the iPad goes empty, it goes to my phone.He's just switching from one device to the other.But as far as school goes, he is doing amazing, a lot better than when he was in school.Remote has done wonders for us.He's more focused.He's totally in charge of his school day.I don't get involved.He gets great grades.And it helped us also with the transition.I was very nervous about Andrew going into sixth grade.It's a new school, new teachers, new system.But that worked out so well for us because now he got to know all his teachers and he's doing great academically.He's doing amazingly.So that was very good.It's just that he's becoming more addicted and less socially involved and that's the part I'm not happy with\",\n",
              " \"Moderator 1:Yeah.So I'm curious to hear a little more.What do you think about the way he's learning now has been so good for him. What about it\",\n",
              " \" Parent 5:Yeah.Lucky for us, honest to God, I pray for these teachers.They're amazing.I don't know if it's us, we jut are lucky with the teachers he has.They're very dedicated.He has live classes.I don't feel like he's missing anything.And I also get to see how Andrew is like with his teachers and his classmates\",\n",
              " 'Moderator 1:Like what Parent 3 was saying.Yeah, yeah',\n",
              " \"Parent 5:And he takes charge also, like another mommy said.It was funny, I was laughing because he does the same thing.He gives everybody advice on technology.He's like the tech person in the class.Even his teachers, they tell me if Andrew's not there, we get nervous.He's enjoying it.I'm happy to see how he's like and he's doing great\",\n",
              " 'Moderator 1:Yeah',\n",
              " 'Parent 5:And I feel like when this is all over, when school is over, I can go back to controlling device time, screen time',\n",
              " \"Moderator 1:Right.So it definitely sounds like it's been concerning, the addictive part of it, but you're confident that once they're more back in person that you can take over that part again\",\n",
              " \"Parent 5:He's not going to give it up willingly.I'll have to hide devices like I used to before, which is fine.It used to work.So it's good\",\n",
              " \"Parent 3:We've had to do that too.We have to lock them in a room.Would it be all right if I just add something to what you \",\n",
              " \"Moderator 1:Yeah, yeah.Add something and then afterwards I'm going to move us to the next question.But, yeah\",\n",
              " 'Parent 3:Okay.So there were two things that Parent 5 said that reminded me of stuff with my kids.One of them was that the addiction to the screen time is followed by this .In the beginning of the pandemic at least, we really had to force them to go outside.One of my kids just had a meltdown yesterday because we had to go to in person violin lesson because her teacher resumed that.She says, \"I don\\'t want to go outside.I don\\'t want to go outside.\" So definitely there\\'s been an element of .Once they\\'re out, it\\'s okay but it\\'s like leaving the apartment has become a bigger deal.And one of my kids, she had almost lost complete contact with friends until she consciously .We both, we planned it out.You\\'ve got to start contacting your friends because it just slipped away.The other thing I wanted to say, which Parent 5 was talking about her son\\'s skills with the technology and it\\'s not just the Zoom or the Google Classroom or Google Meet, but my kids have used so many more different types of programs like Flip Grid.They\\'re creating presentations with Google Slides.They\\'re using special effects in their presentations.They\\'re creating videos.The one with the violin, she\\'s working with something called Click Track so that she can coordinate her timing with the timing of someone else\\'s playing so that they can line up their performance videos.They\\'re doing animations for projects',\n",
              " 'Moderator 1:It [crosstalk 00:44:23] into all these new ways to be really creative',\n",
              " \"Parent 3:That's been amazing to see that, because they've then been able to use what appeals to them and what works with their skillset and their abilities to do their assignments, because there's a lot of variability in how they present the information and then they've got this array of options through technology to work with and that's been a real gift as well.So it's definitely been a double edged issue\",\n",
              " \"Moderator 1:Okay.All right.So the next question that I want to put out there is now that either some people have gone back in person or you're anticipating going back in person, what are the challenges that you anticipate and are there parts of this that you hope will continue and are there parts of this way of educating kids that you hope will end. So who wants to take that one first\",\n",
              " ' Parent 2',\n",
              " \" Parent 2:I'll go.I guess I'm anticipating .I would like him to go back to school.He's in ninth grade right now.So hopefully he'll be able to go back in person.He does have asthma so that's what I'm really concerned about, just him being in person.But I like the aspect that they can utilize their computers in the classroom.That's a good benefit.But I do like the teachers teaching live.That's another thing.But he needs that social skills.That interaction is what really .It's just me and him in the house and I think we're both getting tired of each other talking to each other.He needs that input with other people, other teenagers his own age.And I like that the teachers are incorporating all this new technology.He's learned how to type and just things he should have known how to do, and even learned life skills within the house, which is great.Just so we could incorporate all those things when they go back into the classroom\",\n",
              " 'Moderator 1:Yeah.Keep the good but it sounds like there are parts of going back that you think are really important like the social part.Okay.Anyone else for-Parent 4:Hi.This is Parent 4',\n",
              " 'Moderator 1:Hi, Parent 4.Yeah',\n",
              " ' Parent 4:Yeah.I will be very excited when they go back in person.The part that the teachers are doing a fantastic job and I have to say they are going above and beyond during this remote learning.And I know one thing they said, \"Oh, my kid is so great.She\\'s so great.She\\'s doing so well.She\\'s leading the class.\" Yeah.She is doing a lot of that stuff because she\\'s home with me every day and the teachers don\\'t really have to deal so much with those behavioral issues because now all the behavioral issues are home with me so she can shine with them for the most part.But for my youngest one, she loves that in person and she needs that.For me, I\\'m working every day from home so to work every day from home and try to teach a third grader and a sixth grader, it\\'s very difficult.So I definitely would love for them to be back in school and in person learning and they can use some of this technology and hopefully the teachers will continue to be as great as they\\'ve always been',\n",
              " \"Moderator 1:Thanks, Parent 4.Anyone else for challenges you anticipate in going back. Things you'd want to keep, change\",\n",
              " ' Parent 1:I ',\n",
              " 'Moderator 1:Hi, Parent 1',\n",
              " 'Parent 1:Hi.I\\'m looking forward to .My daughter\\'s about to start five days.She\\'s been going three days, she\\'s been going two or three days, my five and 11-year-old.It\\'s been so exhausting.Well, it\\'s enabled me to see where the problems and challenges are.I\\'ve asked for an IEP review because I\\'m like, \"These are some other issues that I didn\\'t realize were going on.\" It\\'s been so exhausting and I haven\\'t been able to do any of my work.As I think Parent 4 eluded to or said, it\\'s a struggle to do anything you have to do when you\\'ve got these kids that you have to teach as well.So I\\'m looking forward to them being able to go into the classroom and do and have their learning more focused there.And for my five-year-old, it\\'s so important because of the social stuff and for my 15-year-old, she\\'s just going to be starting back three days.And she\\'s done really well with being fairly connected to people given that she\\'s never stepped foot in her school.She\\'s in ninth grade.But it\\'s going to be great for her to be able to be there and really to connect with her teachers and with her classmates.What I\\'m worried about is that .Well, two things.One, is it gets harder for the older one who needs a little bit more .Who\\'s not as self directed and so she\\'s then more independent, which actually makes it a challenge for me to keep track of what\\'s going on.But my 11-year-old has so much anxiety, she gets so many physical symptoms of that, that she\\'s had a lot of school refusal in the past.And having it be just two or three days was what kept us going this year, was you can go, you can have that time, but guess what. When she was refusing on a Wednesday, \"I\\'m not going to school.I feel sick.My stomach hurts.My head hurts.\" We would say, \"But it\\'s the last day of the week.Then tomorrow and Friday you\\'re home.\" So that was what kept us going.I\\'m not looking forward to those morning challenges again because I feel like it\\'s going to be a lot for her because she\\'s just so anxious',\n",
              " 'Moderator 1:Right.Especially after being out for so long probably',\n",
              " 'Parent 1:Yeah',\n",
              " 'Moderator 1:Anyone else for challenges going back',\n",
              " 'Parent 5, yeah',\n",
              " \" Parent 5:Well, my kids are not too excited about going back to school and that worries me.Neither am I.I've gotten really very selfish.I enjoy having them home.I love having them home.And the only thing we miss really is the social aspect of being physically in school and the after school programs.I had them registered in chess, soccer, all these activities.But having them home has been awesome.So I think it's going to be difficult for all of us when they start going back to school\",\n",
              " 'Moderator 1:Yeah.That separation again.You get used to [crosstalk 00:51:16] keeping them close',\n",
              " \"Parent 2:I could just briefly-Moderator 1:[crosstalk 00:51:20]Parent 2:Yeah.If I could just briefly piggyback off of what everyone had shared is my son has been fully remote and I think with him graduating fifth grade, entering a new school sixth grade.That's already some pressure right there and whether or not he'll be in blended learning or in in-person learning full time, that's really dependent on the current environment around September.My son as well has asthma so, of course, that's always his health.His safety is always at the forefront.And my son, again, I had JD as an IEP so he's very hands on, visual type of student who requires that physical in person learning.It's not to say that he can do without, but in a physical classroom setting I feel that now that he's matured and has a little more confidence, he can enhance those skills better in in-person learning.Again, I'm with Parent 5.We all have enjoyed being .I'm a social butterfly, but I really am recluse as well.And I passed that along to my son.We've been home together during this time, however, it's going to be a change for the both of us.Myself, I'm being called back into work as well.So getting into a new normal, of course, it's going to take some adjusting to, but I'm sure that we can overcome any challenges that we face, especially if we are not only physically prepared but mentally prepared for it as well\",\n",
              " 'Moderator 1:Yeah, yeah',\n",
              " \"Parent 6:I just want to add my kids have been full time for a while.My husband and I are both essential workers so we've had no choice other than we had to keep him out of school.They're really happy back in school full time now\",\n",
              " 'Moderator 1:Good.Was it hard for them to go back. Did they face any challenges',\n",
              " \" Parent 6:My oldest is now in middle school so he had to wake up early.So he had to get on the bus-Moderator 1:That's a challenge regardless probably\",\n",
              " \"Parent 6:He had to leave at 7:00, so that's really his only complaint.Other than that, he said that he's really, really happy to be back in school.They're really enjoying being with the other kids\",\n",
              " \"Moderator 1:Good to hear.Thank you, Parent 6.So we have about 15 minutes left.I want to be respectful of your time because I really appreciate you taking out some time to talk to us.For the last 10 or 15 minutes, I'd like to just shift the conversation a little bit to talking about social media and media use specifically.Just hearing some experiences about what was the social media and media used, and by media we mean YouTube or any kind of media that they're consuming.What was the use like before the pandemic, how has that changed. Any concerns, any benefits that you're seeing from changes in social media use. So whoever wants to start us off\",\n",
              " \"Parent 6:I'll start us off\",\n",
              " 'Moderator 1:Okay, [crosstalk 00:54:49]',\n",
              " 'Parent 6:So what\\'s changed with the social media, so my kids, as I\\'m sure all the rest of the year kids do also, they really like Roblox and they want to play with their friends.So before it was more controlling, okay, you have this amount of time to go on YouTube, you have this amount of time to play.But now, when everybody was home, the Roblox playing with friends and talking on the phone at the same time was the only socialization that they had.That was their only option.So it got a little more and a little more and then they said, \"Oh, well, I\\'m playing with my friends so can I keep playing.\" So then that time extended a little bit.So it\\'s hard when that is the only way that they could socialize or when they\\'re on FaceTime, when they\\'re going on FaceTime with friends.When that\\'s the only way that they could socialize, that has been really difficult to reign it in and stop them from it.So we\\'ve been having a lot of challenges with that.And then the YouTube videos start and that\\'s when everything they have, like their school issued iPads, and so I could take away their own personal devices, but the school iPads have YouTube on them.So I can\\'t .It\\'s for school so I can\\'t just take it away.So then-Moderator 1:[crosstalk 00:56:16]-Parent 6:.they end up sneaking.Mm-hmm (affirmative).It\\'s a lot harder.And sometimes I don\\'t even want to because that\\'s the way that they\\'re able to socialize.They\\'re starting to go to the park with kids and doing more now but it\\'s been a challenge this whole time',\n",
              " 'Moderator 1:Thanks, Parent 6.Who wants to go next',\n",
              " \" Parent 3:I'll go\",\n",
              " 'Moderator 1:Thanks, Parent 3',\n",
              " 'Parent 3:So I\\'ve had a very similar experience.My then eighth grader was already on social media because I reluctantly let her have an Instagram account because her class at school, her cohort, had a cohort Instagram chat going and they mostly used it for things like, \"Hey, I have a doctor\\'s appointment today.Can anyone tell me what I\\'m going to miss in this class.\" For that type of thing.So they mostly used it well.There were some incidents though of kids sharing porn and things like that on it.That was obviously a problem.But this year, yeah, she\\'s used it really .That, and the other thing was SnapChat that I was like, \"You cannot have SnapChat.Absolutely not.It\\'s like a sexual predator\\'s playground.\" And then she had a friend, a pen pal in New Zealand, who she found out was on SnapChat.So then it was like, \"All right.\" Kind of like Parent 6 was saying, that\\'s how they connect.I mean, yes, they can write letters but it\\'s so much more immediate and they socialize so much more so I was like, \"Fine, okay.You can use SnapChat.\" So it was creeping up.But I think I have to have my rules.I have to have the passwords.I have to have access because I want to make sure that they\\'re safe online.And so I periodically go in and check.My 11-year-old doesn\\'t have any of these accounts.What she has is YouTube and she\\'s become obsessed with various YouTubers and it\\'s prompted some discussions about what we value and what we don\\'t.She definitely sneaks it when she\\'s not supposed to.That\\'s definitely been a challenge.And again, same thing, school computer, you can\\'t exactly .I mean, she does have to do work.It\\'s been great in some respects because she\\'s been able to use it for school, but also I don\\'t really want you looking at these people and following what they\\'re doing because I don\\'t agree with it.So, yeah.That\\'s been a little bit of an issue.I\\'ve worried a lot about body image and things like that with them because I feel like when they\\'re following these people on whether Instagram or YouTube or wherever else, a lot of these people are making tons of money as so called influencers and they have a very different lifestyle.And I feel like sometimes that\\'s hard for them to see.But one of my kids went through a little bit of an issue around food and she was talking about like she wished she could be anorexic because she wanted to be a certain way and we had to have a whole discussion with the psychiatrist around that and talking about positive body image and stuff.And I think she seems like she\\'s on a better path.But I wanted to say one last thing about it, is that where it has been really good is that my oldest daughter, during this time, she seems to be like a lot of adolescent girls are, I\\'m reading, she\\'s developed vocal and motor ticks, which is one thing I\\'m worried about when she goes back to school.At home she can hide it from people to some degree but when she\\'s in person, it\\'s a lot harder.But she\\'s actually connected a lot with people on Instagram who also have some of these struggles and she\\'s starting to talk about herself more as neurodivergent as opposed to having a disorder and things like that, and learning techniques for managing it.She\\'ll say, \"Oh, I found out that so and so on Instagram has the same kind of ticks that I do and this is what she does to help herself.That\\'s been fantastic, that it\\'s really enabled her to develop a sense of agency around herself and her managing [crosstalk 01:01:17]',\n",
              " 'Moderator 1:Yeah.Just connect with people that she may not have ever had access to',\n",
              " \"Parent 3:Yeah, yeah.So that's been the positive, whereas the rest is like a minefield\",\n",
              " 'Moderator 1:Yeah, yeah.Thanks for sharing that.Yeah, Parent 4',\n",
              " ' Parent 4:I have to say that my kids, even the eight-year-old, everyone wants to be a YouTuber.They want to be a YouTube star or they want to be famous or Instagram famous and that\\'s killing me right now.Because with everything that\\'s going on, you\\'re like, \"What happened to I wanted to be a doctor or lawyer or teacher.\" Everyone want to be a YouTuber and even the eight-year-old.I\\'ll go, \"What do you want to do on YouTube.\" And she\\'s struggling with, \"Maybe I can open toys.\" I\\'m just so over it.I just feel like I have to get back to basics.And it\\'s harder with the 12-year-old because she\\'s exposed to so much and she\\'s faster than I am with these computer skills.So if I see something I don\\'t like, she can hit two or three buttons and it\\'s done.So I spend the rest of my time going, \"Go back to that page.Go back to that page.I know I saw it.\" I just feel like this whole social media, these influencer .And I didn\\'t even know what an influencer was before the pandemic.I had to learn all of this during the pandemic.And when they see these kids in these beautiful houses and their parents.The YouTubers where the twin girls or whoever, all I can do is watch it and say, \"Hey, their house is clean.You see they cleaned their room.Are you cleaning your room. They make their beds every day.Yes.\" So these people are making tons and tons of money and they have all of these toys and these beautiful houses.Like one young lady said, the body imaging.I\\'m watching my 12-year-old constantly looking at her body and excited about it or say, \"Hey, I want my boobs bigger or maybe my butt should be bigger.\" I\\'m so over it.So even when this pandemic is over and these kids are back in school, this whole social media presence is here to stay.And I have to now navigate it so that I know what my kids are doing.And that whole SnapChat, I had to shut SnapChat down so quick because it\\'s just too much.And the schools don\\'t have SnapChat on their computers so I can say, \"Hey, no.We\\'re not having it.\" But the social media presence, I just have to stay on top of it.And with all that I have to do, I really don\\'t want to be on social media like that but I have to',\n",
              " \"Moderator 1:Yeah.It sounds like it's hard to keep up with, but thank you for highlighting [inaudible 01:04:34].Those are really important points.We have a couple more minutes.Does anyone have anything to add in terms of social media that we haven't already said.Yeah.Hi, Parent 5.Yeah\",\n",
              " \" Parent 5:I actually thank you for this meeting because I thought I was the only one in this world that's having a problem with YouTubers.My son has developed such an addiction to video game YouTubers and I freak out.I just flip.The more I tell him not to be on them, the more addicted he gets.Like I said, after school I'm hiding all devices.Hopefully it'll be under control\",\n",
              " \"Moderator 1:Yeah, no.It's a challenge and I think as we're having these meetings, we're hearing that a lot from parents.We really thank you for taking some time to share this and contributing to the research.Part of our goal in this project is to really raise awareness of a lot of the challenges that parents are facing\",\n",
              " 'Parent 5:Thank you',\n",
              " 'Moderator 1:Administrator, do you want to close us out',\n",
              " \" Administrator:Yeah.Just like Moderator 1 said, we're seeing the same commonalities with the Roblox, the Instagram, YouTube, SnapChat.In fact, all of the parents have been echoing the same thing that you guys have been saying, so you are not alone in your sentiment.And we just really thank and appreciate you for taking the time out to really help us and giving us just your sentiments and the things that you guys have been going through.Just because sometimes, like in yesterday's group, parents were talking about just how some parents will say that they're doing such an amazing job with their kids and everything.And as a parent, feeling as if you're not doing the best, that you're having a hard time just navigating this new life with your child.So we really appreciate all of your sentiments.Thank you so much for just taking the time out to be here with us today.In regards to compensation, I'm going to be sending our administrator your contact information so you guys should be receiving compensation either by today or no later than Monday.So I would say if by Monday evening you don't get it, please do not hesitate to give me a call or email me back just to let me know that you guys did receive it\",\n",
              " 'Parent 5:Thank you very much for the meeting.It was very beneficial for me personally and it was nice meeting all the other parents',\n",
              " 'Parent 3:Yeah.Thank you',\n",
              " 'Moderator 1:Thank you all.It was a pleasure meeting you']"
            ]
          },
          "metadata": {},
          "execution_count": 52
        }
      ]
    },
    {
      "cell_type": "code",
      "metadata": {
        "colab": {
          "base_uri": "https://localhost:8080/"
        },
        "id": "CiIm5NYfS39I",
        "outputId": "7b67665f-def9-4561-f142-730f8b743ae1"
      },
      "source": [
        "list_of_Parent_dial"
      ],
      "execution_count": null,
      "outputs": [
        {
          "output_type": "execute_result",
          "data": {
            "text/plain": [
              "['Parent 1: Hello, good afternoon',\n",
              " 'Parent 2:Hi',\n",
              " 'Parent 2:Hi.Good afternoon',\n",
              " 'Parent 1:Good afternoon',\n",
              " 'Parent 1:Okay',\n",
              " 'Parent 2:Okay',\n",
              " \"Parent 3:Hi.Sorry.I had the volume all the way down so I couldn't hear but I-Moderator 1:No problem.We're just waiting a few minutes for everyone else to join but we'll hopefully [inaudible 00:07:46] soon\",\n",
              " 'Parent 3:As soon as I came into my room, my husband\\'s out there but I can hear my kids start fighting.He was like, \"Why do you start fighting the instant your mother goes into the other room.\" Better him than me, I suppose',\n",
              " 'Parent 3:Right',\n",
              " 'Parent 4:[inaudible 00:08:43].Hi',\n",
              " 'Parent 5:Yes, yes',\n",
              " 'Parent 5:[crosstalk 00:08:56]',\n",
              " \"Parent 2:I'm Parent 2.I live in Brooklyn.I'm an academic advisor.I have a 14-year-old son.And a movie that I just saw was Thunderforce, which is cool with two women that are like superheroes.That was funny\",\n",
              " \"Parent 5:Hi.My name is Parent 5.I'm Andrew's mom.He's 12 years old and we live in Brooklyn as well.We had a chance to go to the theater in February and we saw the new released Tom and Jerry movie and it was amazing.My kids enjoyed it so much.It was funny\",\n",
              " \"Parent 4, I think you're on mute but try to see if you can get your audio on.In the meantime, [Administrator 00:14:53], do you want to introduce yourself\",\n",
              " 'Parent 4:Hi.Can you hear me okay',\n",
              " 'Parent 4:[crosstalk 00:16:29]',\n",
              " \"Parent 4:Hi.I don't know.I didn't quite hear what part of the introduction.What would you like from us to present in this introduction\",\n",
              " \"Parent 4:Oh.I just got to second that Lovecraft one because I totally, totally enjoyed that.My kids, I have four children, two older and two younger.So I would say I have two sets of kids.So my first two, my son is a principal and my daughter is a district manager for a business.And the last two, my daughter is in the third grade, so she's 12 .No.Wait a minute.And I have a 12-year-old and an eight-year-old.I'm the mom, right. And I have a 12-year-old and an eight-year-old.Those are the last two.And the last two are girls\",\n",
              " 'Parent 3:I have to go get a pen and paper for that.[crosstalk 00:18:22]',\n",
              " 'Parent 4:Hello. Can you hear me okay',\n",
              " \"Parent 4:Yeah.I'm trying to move where I can get a great wifi signal because I see that's what the problem is.I can get mine too, because I don't have a pen and paper right now\",\n",
              " 'Parent 4:Okay',\n",
              " 'Parent 6 circled the negative list, Parent 2, Parent 5.I see Parent 4.Okay',\n",
              " 'Parent 1, did you circle the negative or the positive list',\n",
              " 'Parent 2:I can go first.[crosstalk 00:22:40]',\n",
              " \"Parent 6:So before the pandemic I feel like, especially with technology, my kids didn't really have much at all that they had to do.My oldest is in sixth grade now, so I think that might have changed going to middle school, however, while they were in elementary school, they really didn't have any assignments that they needed technology for, for the most part.So it was rare.And then, of course, last March school went completely virtual and everything was online.So it was like a night and day change for us.It was a disaster, to be honest\",\n",
              " \"Parent 6:Yeah.Now he's back full time and he is doing a lot better.Still, I feel like they're just online all day long and it's a problem\",\n",
              " \"Parent 1:Right.I mean, as much as he's on these devices, he actually improved academically because it enhanced some of his skills that he already had, his computer skills and navigating.He was able to work independently and actually become a leader in his class where he's in the chatroom trying to troubleshoot those who are even having technical difficulties logging on.It'd be so funny.But-Moderator 1:[crosstalk 00:27:58] tech support for the \",\n",
              " \"Parent 1:Right.Well, can you help mommy record this Zoom. But I've seen and his teachers have also seen a very much more confident student and person overall.Not to take up too much time, but my son, he had confidence issues and wanting to be liked by everyone, wanting to be friends with everyone.But this past year especially, he really stepped up to the plate and actually became the leader confidently and was able to excel.So I'm very proud of him.I'm very proud of him\",\n",
              " \"Parent 1:And I'm cancer free too.So [inaudible 00:28:49]\",\n",
              " 'Parent 1:Yes.Thank you',\n",
              " 'Parent 4:I just want to say-Moderator 1:Who wants to go next talking about-Parent 4:Can you hear me okay',\n",
              " \"Parent 4:I can either do video or audio but-Moderator 1:[crosstalk 00:29:12]-Parent 4:Everything at one time is not working for me.So that's why I wanted to go ahead and say what I have to say.So if you can hear me-Moderator 1:Yeah\",\n",
              " 'Parent 4:You can hear me',\n",
              " 'Parent 4:Okay, great.So it has had a negative impact on my household because it\\'s too much computer time.And I remember those questions when I was filling out one of those questionnaires when I brought my daughter there to be evaluated.It was speaking about the problems in reference to the computers.I\\'m like, \"I don\\'t have those kind of problems.What are they talking about.\" Now fast forward to this pandemic, now I understand.I\\'m having those problems.I\\'m having problems because now she wants to be on the computer all the time and it\\'s hard for me to take it away because she has to do her schoolwork and she\\'s learning remotely.It\\'s hard to sanction that because she\\'ll say, \"Oh, I need to do my homework, or I need this app or that app.\" It\\'s just difficult to sanction the time so I have to let her use her computer but I catch her and she\\'s getting in trouble with the computer because now all of these open sites and bringing up conversations that I never thought I would have to have with my 11-year-old daughter because she\\'s on all of these different sites.And here, I\\'m putting in all these parental controls but she\\'s very savvy so she can overstep those controls and now her and her friend and then teaching her how not to turn over your screen to your friend, I know you think is your friend, but there\\'s so many things that you can get into problems with.So for me, I\\'m just devastated by all of this computer time.And I have two children, so even the little one .I mean, they need some in person.They need to not always have to rely on the computer.And that was my problem even before the pandemic because I saw the teachers were moving into having your children learn more with these apps.And sometimes I have to tell them it\\'s okay for them to use pencil and paper because I feel you learn better, at least until you have the concept, then you can do it on the computer.Yeah.I\\'m not impressed with all of this, everything on the computer.For me, it\\'s just a negative impact',\n",
              " \"Parent 3:Yeah.The challenge that we've had with mostly my middle daughter is that she also has anxiety and OCD and so she, first of all, can go down a rabbit hole when she's just learning online.Secondly, this year she's been doing blended learning so when she's in school, she's doing all right.When she's at home, she gets almost no work done.I mean, she's been working today and as of the time I came in here, I think she had done one math problem.She just has a really hard time.And I have to see her screen at all times.If I can't see her screen, she's not doing what she's supposed to do and that's [crosstalk 00:38:49]-Moderator 1:So she's having more of a problem doing it independently\",\n",
              " 'Parent 3:Yeah, exactly',\n",
              " 'Parent 5, can you share',\n",
              " \"Parent 5:And he takes charge also, like another mommy said.It was funny, I was laughing because he does the same thing.He gives everybody advice on technology.He's like the tech person in the class.Even his teachers, they tell me if Andrew's not there, we get nervous.He's enjoying it.I'm happy to see how he's like and he's doing great\",\n",
              " 'Parent 5:And I feel like when this is all over, when school is over, I can go back to controlling device time, screen time',\n",
              " \"Parent 5:He's not going to give it up willingly.I'll have to hide devices like I used to before, which is fine.It used to work.So it's good\",\n",
              " \"Parent 3:We've had to do that too.We have to lock them in a room.Would it be all right if I just add something to what you \",\n",
              " 'Parent 3:Okay.So there were two things that Parent 5 said that reminded me of stuff with my kids.One of them was that the addiction to the screen time is followed by this .In the beginning of the pandemic at least, we really had to force them to go outside.One of my kids just had a meltdown yesterday because we had to go to in person violin lesson because her teacher resumed that.She says, \"I don\\'t want to go outside.I don\\'t want to go outside.\" So definitely there\\'s been an element of .Once they\\'re out, it\\'s okay but it\\'s like leaving the apartment has become a bigger deal.And one of my kids, she had almost lost complete contact with friends until she consciously .We both, we planned it out.You\\'ve got to start contacting your friends because it just slipped away.The other thing I wanted to say, which Parent 5 was talking about her son\\'s skills with the technology and it\\'s not just the Zoom or the Google Classroom or Google Meet, but my kids have used so many more different types of programs like Flip Grid.They\\'re creating presentations with Google Slides.They\\'re using special effects in their presentations.They\\'re creating videos.The one with the violin, she\\'s working with something called Click Track so that she can coordinate her timing with the timing of someone else\\'s playing so that they can line up their performance videos.They\\'re doing animations for projects',\n",
              " \"Parent 3:That's been amazing to see that, because they've then been able to use what appeals to them and what works with their skillset and their abilities to do their assignments, because there's a lot of variability in how they present the information and then they've got this array of options through technology to work with and that's been a real gift as well.So it's definitely been a double edged issue\",\n",
              " 'Parent 1:Hi.I\\'m looking forward to .My daughter\\'s about to start five days.She\\'s been going three days, she\\'s been going two or three days, my five and 11-year-old.It\\'s been so exhausting.Well, it\\'s enabled me to see where the problems and challenges are.I\\'ve asked for an IEP review because I\\'m like, \"These are some other issues that I didn\\'t realize were going on.\" It\\'s been so exhausting and I haven\\'t been able to do any of my work.As I think Parent 4 eluded to or said, it\\'s a struggle to do anything you have to do when you\\'ve got these kids that you have to teach as well.So I\\'m looking forward to them being able to go into the classroom and do and have their learning more focused there.And for my five-year-old, it\\'s so important because of the social stuff and for my 15-year-old, she\\'s just going to be starting back three days.And she\\'s done really well with being fairly connected to people given that she\\'s never stepped foot in her school.She\\'s in ninth grade.But it\\'s going to be great for her to be able to be there and really to connect with her teachers and with her classmates.What I\\'m worried about is that .Well, two things.One, is it gets harder for the older one who needs a little bit more .Who\\'s not as self directed and so she\\'s then more independent, which actually makes it a challenge for me to keep track of what\\'s going on.But my 11-year-old has so much anxiety, she gets so many physical symptoms of that, that she\\'s had a lot of school refusal in the past.And having it be just two or three days was what kept us going this year, was you can go, you can have that time, but guess what. When she was refusing on a Wednesday, \"I\\'m not going to school.I feel sick.My stomach hurts.My head hurts.\" We would say, \"But it\\'s the last day of the week.Then tomorrow and Friday you\\'re home.\" So that was what kept us going.I\\'m not looking forward to those morning challenges again because I feel like it\\'s going to be a lot for her because she\\'s just so anxious',\n",
              " 'Parent 1:Yeah',\n",
              " 'Parent 5, yeah',\n",
              " \"Parent 2:I could just briefly-Moderator 1:[crosstalk 00:51:20]Parent 2:Yeah.If I could just briefly piggyback off of what everyone had shared is my son has been fully remote and I think with him graduating fifth grade, entering a new school sixth grade.That's already some pressure right there and whether or not he'll be in blended learning or in in-person learning full time, that's really dependent on the current environment around September.My son as well has asthma so, of course, that's always his health.His safety is always at the forefront.And my son, again, I had JD as an IEP so he's very hands on, visual type of student who requires that physical in person learning.It's not to say that he can do without, but in a physical classroom setting I feel that now that he's matured and has a little more confidence, he can enhance those skills better in in-person learning.Again, I'm with Parent 5.We all have enjoyed being .I'm a social butterfly, but I really am recluse as well.And I passed that along to my son.We've been home together during this time, however, it's going to be a change for the both of us.Myself, I'm being called back into work as well.So getting into a new normal, of course, it's going to take some adjusting to, but I'm sure that we can overcome any challenges that we face, especially if we are not only physically prepared but mentally prepared for it as well\",\n",
              " \"Parent 6:I just want to add my kids have been full time for a while.My husband and I are both essential workers so we've had no choice other than we had to keep him out of school.They're really happy back in school full time now\",\n",
              " \"Parent 6:He had to leave at 7:00, so that's really his only complaint.Other than that, he said that he's really, really happy to be back in school.They're really enjoying being with the other kids\",\n",
              " \"Parent 6:I'll start us off\",\n",
              " 'Parent 6:So what\\'s changed with the social media, so my kids, as I\\'m sure all the rest of the year kids do also, they really like Roblox and they want to play with their friends.So before it was more controlling, okay, you have this amount of time to go on YouTube, you have this amount of time to play.But now, when everybody was home, the Roblox playing with friends and talking on the phone at the same time was the only socialization that they had.That was their only option.So it got a little more and a little more and then they said, \"Oh, well, I\\'m playing with my friends so can I keep playing.\" So then that time extended a little bit.So it\\'s hard when that is the only way that they could socialize or when they\\'re on FaceTime, when they\\'re going on FaceTime with friends.When that\\'s the only way that they could socialize, that has been really difficult to reign it in and stop them from it.So we\\'ve been having a lot of challenges with that.And then the YouTube videos start and that\\'s when everything they have, like their school issued iPads, and so I could take away their own personal devices, but the school iPads have YouTube on them.So I can\\'t .It\\'s for school so I can\\'t just take it away.So then-Moderator 1:[crosstalk 00:56:16]-Parent 6:.they end up sneaking.Mm-hmm (affirmative).It\\'s a lot harder.And sometimes I don\\'t even want to because that\\'s the way that they\\'re able to socialize.They\\'re starting to go to the park with kids and doing more now but it\\'s been a challenge this whole time',\n",
              " 'Parent 3:So I\\'ve had a very similar experience.My then eighth grader was already on social media because I reluctantly let her have an Instagram account because her class at school, her cohort, had a cohort Instagram chat going and they mostly used it for things like, \"Hey, I have a doctor\\'s appointment today.Can anyone tell me what I\\'m going to miss in this class.\" For that type of thing.So they mostly used it well.There were some incidents though of kids sharing porn and things like that on it.That was obviously a problem.But this year, yeah, she\\'s used it really .That, and the other thing was SnapChat that I was like, \"You cannot have SnapChat.Absolutely not.It\\'s like a sexual predator\\'s playground.\" And then she had a friend, a pen pal in New Zealand, who she found out was on SnapChat.So then it was like, \"All right.\" Kind of like Parent 6 was saying, that\\'s how they connect.I mean, yes, they can write letters but it\\'s so much more immediate and they socialize so much more so I was like, \"Fine, okay.You can use SnapChat.\" So it was creeping up.But I think I have to have my rules.I have to have the passwords.I have to have access because I want to make sure that they\\'re safe online.And so I periodically go in and check.My 11-year-old doesn\\'t have any of these accounts.What she has is YouTube and she\\'s become obsessed with various YouTubers and it\\'s prompted some discussions about what we value and what we don\\'t.She definitely sneaks it when she\\'s not supposed to.That\\'s definitely been a challenge.And again, same thing, school computer, you can\\'t exactly .I mean, she does have to do work.It\\'s been great in some respects because she\\'s been able to use it for school, but also I don\\'t really want you looking at these people and following what they\\'re doing because I don\\'t agree with it.So, yeah.That\\'s been a little bit of an issue.I\\'ve worried a lot about body image and things like that with them because I feel like when they\\'re following these people on whether Instagram or YouTube or wherever else, a lot of these people are making tons of money as so called influencers and they have a very different lifestyle.And I feel like sometimes that\\'s hard for them to see.But one of my kids went through a little bit of an issue around food and she was talking about like she wished she could be anorexic because she wanted to be a certain way and we had to have a whole discussion with the psychiatrist around that and talking about positive body image and stuff.And I think she seems like she\\'s on a better path.But I wanted to say one last thing about it, is that where it has been really good is that my oldest daughter, during this time, she seems to be like a lot of adolescent girls are, I\\'m reading, she\\'s developed vocal and motor ticks, which is one thing I\\'m worried about when she goes back to school.At home she can hide it from people to some degree but when she\\'s in person, it\\'s a lot harder.But she\\'s actually connected a lot with people on Instagram who also have some of these struggles and she\\'s starting to talk about herself more as neurodivergent as opposed to having a disorder and things like that, and learning techniques for managing it.She\\'ll say, \"Oh, I found out that so and so on Instagram has the same kind of ticks that I do and this is what she does to help herself.That\\'s been fantastic, that it\\'s really enabled her to develop a sense of agency around herself and her managing [crosstalk 01:01:17]',\n",
              " \"Parent 3:Yeah, yeah.So that's been the positive, whereas the rest is like a minefield\",\n",
              " 'Parent 5:Thank you',\n",
              " 'Parent 5:Thank you very much for the meeting.It was very beneficial for me personally and it was nice meeting all the other parents',\n",
              " 'Parent 3:Yeah.Thank you']"
            ]
          },
          "metadata": {},
          "execution_count": 53
        }
      ]
    },
    {
      "cell_type": "code",
      "metadata": {
        "id": "gkTmiVUqS8s7"
      },
      "source": [
        ""
      ],
      "execution_count": null,
      "outputs": []
    }
  ]
}